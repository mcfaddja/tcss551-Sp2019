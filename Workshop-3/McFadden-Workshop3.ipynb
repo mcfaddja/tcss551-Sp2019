{
 "cells": [
  {
   "cell_type": "markdown",
   "metadata": {},
   "source": [
    "# Data Wrangling, EDA, and Visualization (21 points in total)"
   ]
  },
  {
   "cell_type": "raw",
   "metadata": {},
   "source": [
    "Your full name? (1 point) - Jonathan McFadden "
   ]
  },
  {
   "cell_type": "markdown",
   "metadata": {},
   "source": [
    "Ta-Feng is a retail warehouse in Taiwan that mainly sells food-products though it stocks some office and home products. Like Costco and Sam's Club, it operates on a club structure wherein people buy a membership to gain access to the store. As a result, purchases can be traced to specific customers. In this workshop, we will use this database to practice data wrangling, EDA, and Visualization."
   ]
  },
  {
   "cell_type": "code",
   "execution_count": 1,
   "metadata": {},
   "outputs": [],
   "source": [
    "# Run this cell to set up the notebook, but please don't change it.\n",
    "\n",
    "# These lines import the Numpy, Datascience, pandas modules.\n",
    "import numpy as np\n",
    "import pandas as pd\n",
    "import seaborn as sns\n",
    "\n",
    "# These lines do some fancy plotting magic.\n",
    "import matplotlib\n",
    "%matplotlib inline\n",
    "import matplotlib.pyplot as plt\n",
    "plt.style.use('fivethirtyeight')\n",
    "import warnings\n",
    "warnings.simplefilter('ignore', FutureWarning)"
   ]
  },
  {
   "cell_type": "markdown",
   "metadata": {},
   "source": [
    "# Importing Data\n",
    "In this section, we run through some problems that you might face as you go through the innocuous-sounding process of \"importing data.\" We also have you process some variables that aren't in the most user-friendly form."
   ]
  },
  {
   "cell_type": "markdown",
   "metadata": {},
   "source": [
    "# Age Classes\n",
    "We'll start by looking at age_classes.txt, which is a lookup table for our main Ta Feng table."
   ]
  },
  {
   "cell_type": "code",
   "execution_count": 2,
   "metadata": {},
   "outputs": [
    {
     "name": "stdout",
     "output_type": "stream",
     "text": [
      "A 0-25\r\n",
      "B 25-29\r\n",
      "C 30-34\r\n",
      "D 35-39\r\n",
      "E 40-44\r\n",
      "F 45-49\r\n",
      "G 50-54\r\n",
      "H 55-59\r\n",
      "I 60-64\r\n",
      "J 65-120"
     ]
    }
   ],
   "source": [
    "#Mac or Linux\n",
    "!head \"age_classes.txt\"\n",
    "\n",
    "#Windows\n",
    "# %alias head powershell -command \"& {Get-Content %s -Head 10}\"\n",
    "# %head age_classes.txt\n",
    "\n",
    "#output (1 point)"
   ]
  },
  {
   "cell_type": "raw",
   "metadata": {},
   "source": [
    "What is the delimiter used in this file? (1 point) - space"
   ]
  },
  {
   "cell_type": "markdown",
   "metadata": {},
   "source": [
    "Let's read in age_classes.txt as a data frame called age_classes. Use the column names provided below."
   ]
  },
  {
   "cell_type": "code",
   "execution_count": 4,
   "metadata": {},
   "outputs": [
    {
     "data": {
      "text/html": [
       "<div>\n",
       "<style scoped>\n",
       "    .dataframe tbody tr th:only-of-type {\n",
       "        vertical-align: middle;\n",
       "    }\n",
       "\n",
       "    .dataframe tbody tr th {\n",
       "        vertical-align: top;\n",
       "    }\n",
       "\n",
       "    .dataframe thead th {\n",
       "        text-align: right;\n",
       "    }\n",
       "</style>\n",
       "<table border=\"1\" class=\"dataframe\">\n",
       "  <thead>\n",
       "    <tr style=\"text-align: right;\">\n",
       "      <th></th>\n",
       "      <th>code</th>\n",
       "      <th>age_range</th>\n",
       "    </tr>\n",
       "  </thead>\n",
       "  <tbody>\n",
       "    <tr>\n",
       "      <th>0</th>\n",
       "      <td>A</td>\n",
       "      <td>0-25</td>\n",
       "    </tr>\n",
       "    <tr>\n",
       "      <th>1</th>\n",
       "      <td>B</td>\n",
       "      <td>25-29</td>\n",
       "    </tr>\n",
       "    <tr>\n",
       "      <th>2</th>\n",
       "      <td>C</td>\n",
       "      <td>30-34</td>\n",
       "    </tr>\n",
       "    <tr>\n",
       "      <th>3</th>\n",
       "      <td>D</td>\n",
       "      <td>35-39</td>\n",
       "    </tr>\n",
       "    <tr>\n",
       "      <th>4</th>\n",
       "      <td>E</td>\n",
       "      <td>40-44</td>\n",
       "    </tr>\n",
       "    <tr>\n",
       "      <th>5</th>\n",
       "      <td>F</td>\n",
       "      <td>45-49</td>\n",
       "    </tr>\n",
       "    <tr>\n",
       "      <th>6</th>\n",
       "      <td>G</td>\n",
       "      <td>50-54</td>\n",
       "    </tr>\n",
       "    <tr>\n",
       "      <th>7</th>\n",
       "      <td>H</td>\n",
       "      <td>55-59</td>\n",
       "    </tr>\n",
       "    <tr>\n",
       "      <th>8</th>\n",
       "      <td>I</td>\n",
       "      <td>60-64</td>\n",
       "    </tr>\n",
       "    <tr>\n",
       "      <th>9</th>\n",
       "      <td>J</td>\n",
       "      <td>65-120</td>\n",
       "    </tr>\n",
       "  </tbody>\n",
       "</table>\n",
       "</div>"
      ],
      "text/plain": [
       "  code age_range\n",
       "0    A      0-25\n",
       "1    B     25-29\n",
       "2    C     30-34\n",
       "3    D     35-39\n",
       "4    E     40-44\n",
       "5    F     45-49\n",
       "6    G     50-54\n",
       "7    H     55-59\n",
       "8    I     60-64\n",
       "9    J    65-120"
      ]
     },
     "execution_count": 4,
     "metadata": {},
     "output_type": "execute_result"
    }
   ],
   "source": [
    "age_class_columns = ['code', 'age_range']\n",
    "age_classes = pd.read_csv('age_classes.txt', sep=\" \",  \n",
    "                          header=None, names=age_class_columns)\n",
    "age_classes # output (1 point)"
   ]
  },
  {
   "cell_type": "raw",
   "metadata": {},
   "source": [
    "What type of variable is age_range? Continuous, discrete, nominal, ordinal or other? (1 point) - ordinal"
   ]
  },
  {
   "cell_type": "markdown",
   "metadata": {},
   "source": [
    "Let's make sure the type of age_range in the data frame age_classes matches your answer."
   ]
  },
  {
   "cell_type": "code",
   "execution_count": 6,
   "metadata": {},
   "outputs": [
    {
     "data": {
      "text/plain": [
       "code           object\n",
       "age_range    category\n",
       "dtype: object"
      ]
     },
     "execution_count": 6,
     "metadata": {},
     "output_type": "execute_result"
    }
   ],
   "source": [
    "age_classes['age_range'] = age_classes['age_range'].astype('category')\n",
    "age_classes.dtypes #output (1 point)"
   ]
  },
  {
   "cell_type": "markdown",
   "metadata": {},
   "source": [
    "Perhaps at some point we would like to work with the age data numerically. Derive two numerical columns from age_range called age_min and age_max, which contain the left and right endpoints of age_range, respectively."
   ]
  },
  {
   "cell_type": "code",
   "execution_count": 7,
   "metadata": {},
   "outputs": [
    {
     "data": {
      "text/html": [
       "<div>\n",
       "<style scoped>\n",
       "    .dataframe tbody tr th:only-of-type {\n",
       "        vertical-align: middle;\n",
       "    }\n",
       "\n",
       "    .dataframe tbody tr th {\n",
       "        vertical-align: top;\n",
       "    }\n",
       "\n",
       "    .dataframe thead th {\n",
       "        text-align: right;\n",
       "    }\n",
       "</style>\n",
       "<table border=\"1\" class=\"dataframe\">\n",
       "  <thead>\n",
       "    <tr style=\"text-align: right;\">\n",
       "      <th></th>\n",
       "      <th>code</th>\n",
       "      <th>age_range</th>\n",
       "      <th>age_min</th>\n",
       "      <th>age_max</th>\n",
       "    </tr>\n",
       "  </thead>\n",
       "  <tbody>\n",
       "    <tr>\n",
       "      <th>0</th>\n",
       "      <td>A</td>\n",
       "      <td>0-25</td>\n",
       "      <td>0</td>\n",
       "      <td>25</td>\n",
       "    </tr>\n",
       "    <tr>\n",
       "      <th>1</th>\n",
       "      <td>B</td>\n",
       "      <td>25-29</td>\n",
       "      <td>25</td>\n",
       "      <td>29</td>\n",
       "    </tr>\n",
       "    <tr>\n",
       "      <th>2</th>\n",
       "      <td>C</td>\n",
       "      <td>30-34</td>\n",
       "      <td>30</td>\n",
       "      <td>34</td>\n",
       "    </tr>\n",
       "    <tr>\n",
       "      <th>3</th>\n",
       "      <td>D</td>\n",
       "      <td>35-39</td>\n",
       "      <td>35</td>\n",
       "      <td>39</td>\n",
       "    </tr>\n",
       "    <tr>\n",
       "      <th>4</th>\n",
       "      <td>E</td>\n",
       "      <td>40-44</td>\n",
       "      <td>40</td>\n",
       "      <td>44</td>\n",
       "    </tr>\n",
       "    <tr>\n",
       "      <th>5</th>\n",
       "      <td>F</td>\n",
       "      <td>45-49</td>\n",
       "      <td>45</td>\n",
       "      <td>49</td>\n",
       "    </tr>\n",
       "    <tr>\n",
       "      <th>6</th>\n",
       "      <td>G</td>\n",
       "      <td>50-54</td>\n",
       "      <td>50</td>\n",
       "      <td>54</td>\n",
       "    </tr>\n",
       "    <tr>\n",
       "      <th>7</th>\n",
       "      <td>H</td>\n",
       "      <td>55-59</td>\n",
       "      <td>55</td>\n",
       "      <td>59</td>\n",
       "    </tr>\n",
       "    <tr>\n",
       "      <th>8</th>\n",
       "      <td>I</td>\n",
       "      <td>60-64</td>\n",
       "      <td>60</td>\n",
       "      <td>64</td>\n",
       "    </tr>\n",
       "    <tr>\n",
       "      <th>9</th>\n",
       "      <td>J</td>\n",
       "      <td>65-120</td>\n",
       "      <td>65</td>\n",
       "      <td>120</td>\n",
       "    </tr>\n",
       "  </tbody>\n",
       "</table>\n",
       "</div>"
      ],
      "text/plain": [
       "  code age_range  age_min  age_max\n",
       "0    A      0-25        0       25\n",
       "1    B     25-29       25       29\n",
       "2    C     30-34       30       34\n",
       "3    D     35-39       35       39\n",
       "4    E     40-44       40       44\n",
       "5    F     45-49       45       49\n",
       "6    G     50-54       50       54\n",
       "7    H     55-59       55       59\n",
       "8    I     60-64       60       64\n",
       "9    J    65-120       65      120"
      ]
     },
     "execution_count": 7,
     "metadata": {},
     "output_type": "execute_result"
    }
   ],
   "source": [
    "age_classes[['age_min', 'age_max']] = (\n",
    "    age_classes['age_range']\n",
    "    .str.split(\"-\", expand=True)\n",
    "    .astype('int')\n",
    ")\n",
    "age_classes #output (1 point)"
   ]
  },
  {
   "cell_type": "markdown",
   "metadata": {},
   "source": [
    "To have a single column representing age, we could reduce the two endpoints to a single number. Compute an additional age_center attribute that is equal to the midpoint of age_range, e.g., the age_center of 0-5 is 2.5."
   ]
  },
  {
   "cell_type": "code",
   "execution_count": 8,
   "metadata": {},
   "outputs": [
    {
     "data": {
      "text/html": [
       "<div>\n",
       "<style scoped>\n",
       "    .dataframe tbody tr th:only-of-type {\n",
       "        vertical-align: middle;\n",
       "    }\n",
       "\n",
       "    .dataframe tbody tr th {\n",
       "        vertical-align: top;\n",
       "    }\n",
       "\n",
       "    .dataframe thead th {\n",
       "        text-align: right;\n",
       "    }\n",
       "</style>\n",
       "<table border=\"1\" class=\"dataframe\">\n",
       "  <thead>\n",
       "    <tr style=\"text-align: right;\">\n",
       "      <th></th>\n",
       "      <th>code</th>\n",
       "      <th>age_range</th>\n",
       "      <th>age_min</th>\n",
       "      <th>age_max</th>\n",
       "      <th>age_center</th>\n",
       "    </tr>\n",
       "  </thead>\n",
       "  <tbody>\n",
       "    <tr>\n",
       "      <th>0</th>\n",
       "      <td>A</td>\n",
       "      <td>0-25</td>\n",
       "      <td>0</td>\n",
       "      <td>25</td>\n",
       "      <td>12.5</td>\n",
       "    </tr>\n",
       "    <tr>\n",
       "      <th>1</th>\n",
       "      <td>B</td>\n",
       "      <td>25-29</td>\n",
       "      <td>25</td>\n",
       "      <td>29</td>\n",
       "      <td>27.0</td>\n",
       "    </tr>\n",
       "    <tr>\n",
       "      <th>2</th>\n",
       "      <td>C</td>\n",
       "      <td>30-34</td>\n",
       "      <td>30</td>\n",
       "      <td>34</td>\n",
       "      <td>32.0</td>\n",
       "    </tr>\n",
       "    <tr>\n",
       "      <th>3</th>\n",
       "      <td>D</td>\n",
       "      <td>35-39</td>\n",
       "      <td>35</td>\n",
       "      <td>39</td>\n",
       "      <td>37.0</td>\n",
       "    </tr>\n",
       "    <tr>\n",
       "      <th>4</th>\n",
       "      <td>E</td>\n",
       "      <td>40-44</td>\n",
       "      <td>40</td>\n",
       "      <td>44</td>\n",
       "      <td>42.0</td>\n",
       "    </tr>\n",
       "    <tr>\n",
       "      <th>5</th>\n",
       "      <td>F</td>\n",
       "      <td>45-49</td>\n",
       "      <td>45</td>\n",
       "      <td>49</td>\n",
       "      <td>47.0</td>\n",
       "    </tr>\n",
       "    <tr>\n",
       "      <th>6</th>\n",
       "      <td>G</td>\n",
       "      <td>50-54</td>\n",
       "      <td>50</td>\n",
       "      <td>54</td>\n",
       "      <td>52.0</td>\n",
       "    </tr>\n",
       "    <tr>\n",
       "      <th>7</th>\n",
       "      <td>H</td>\n",
       "      <td>55-59</td>\n",
       "      <td>55</td>\n",
       "      <td>59</td>\n",
       "      <td>57.0</td>\n",
       "    </tr>\n",
       "    <tr>\n",
       "      <th>8</th>\n",
       "      <td>I</td>\n",
       "      <td>60-64</td>\n",
       "      <td>60</td>\n",
       "      <td>64</td>\n",
       "      <td>62.0</td>\n",
       "    </tr>\n",
       "    <tr>\n",
       "      <th>9</th>\n",
       "      <td>J</td>\n",
       "      <td>65-120</td>\n",
       "      <td>65</td>\n",
       "      <td>120</td>\n",
       "      <td>92.5</td>\n",
       "    </tr>\n",
       "  </tbody>\n",
       "</table>\n",
       "</div>"
      ],
      "text/plain": [
       "  code age_range  age_min  age_max  age_center\n",
       "0    A      0-25        0       25        12.5\n",
       "1    B     25-29       25       29        27.0\n",
       "2    C     30-34       30       34        32.0\n",
       "3    D     35-39       35       39        37.0\n",
       "4    E     40-44       40       44        42.0\n",
       "5    F     45-49       45       49        47.0\n",
       "6    G     50-54       50       54        52.0\n",
       "7    H     55-59       55       59        57.0\n",
       "8    I     60-64       60       64        62.0\n",
       "9    J    65-120       65      120        92.5"
      ]
     },
     "execution_count": 8,
     "metadata": {},
     "output_type": "execute_result"
    }
   ],
   "source": [
    "age_classes['age_center'] = (age_classes['age_max'] + age_classes['age_min']) / 2.\n",
    "age_classes # output (1 point)"
   ]
  },
  {
   "cell_type": "markdown",
   "metadata": {},
   "source": [
    "# Residence Area\n",
    "Now inspect residence_area.txt. We'll read in the data in the next cell."
   ]
  },
  {
   "cell_type": "code",
   "execution_count": 9,
   "metadata": {},
   "outputs": [
    {
     "name": "stdout",
     "output_type": "stream",
     "text": [
      "A: 105\r\n",
      "B: 106\r\n",
      "C: 110\r\n",
      "D: 114\r\n",
      "E: 115\r\n",
      "F: 221\r\n",
      "G: others\r\n",
      "H: unknown\r\n"
     ]
    }
   ],
   "source": [
    "!head \"residence_area.txt\" \n",
    "# Windows: replace similarly\n",
    "# output (1 point)"
   ]
  },
  {
   "cell_type": "markdown",
   "metadata": {},
   "source": [
    "Let's read in residence_area.txt as a data frame called residence_areas. Use the column names provided below."
   ]
  },
  {
   "cell_type": "code",
   "execution_count": 10,
   "metadata": {},
   "outputs": [
    {
     "data": {
      "text/html": [
       "<div>\n",
       "<style scoped>\n",
       "    .dataframe tbody tr th:only-of-type {\n",
       "        vertical-align: middle;\n",
       "    }\n",
       "\n",
       "    .dataframe tbody tr th {\n",
       "        vertical-align: top;\n",
       "    }\n",
       "\n",
       "    .dataframe thead th {\n",
       "        text-align: right;\n",
       "    }\n",
       "</style>\n",
       "<table border=\"1\" class=\"dataframe\">\n",
       "  <thead>\n",
       "    <tr style=\"text-align: right;\">\n",
       "      <th></th>\n",
       "      <th>code</th>\n",
       "      <th>area</th>\n",
       "    </tr>\n",
       "  </thead>\n",
       "  <tbody>\n",
       "    <tr>\n",
       "      <th>0</th>\n",
       "      <td>A</td>\n",
       "      <td>105</td>\n",
       "    </tr>\n",
       "    <tr>\n",
       "      <th>1</th>\n",
       "      <td>B</td>\n",
       "      <td>106</td>\n",
       "    </tr>\n",
       "    <tr>\n",
       "      <th>2</th>\n",
       "      <td>C</td>\n",
       "      <td>110</td>\n",
       "    </tr>\n",
       "    <tr>\n",
       "      <th>3</th>\n",
       "      <td>D</td>\n",
       "      <td>114</td>\n",
       "    </tr>\n",
       "    <tr>\n",
       "      <th>4</th>\n",
       "      <td>E</td>\n",
       "      <td>115</td>\n",
       "    </tr>\n",
       "    <tr>\n",
       "      <th>5</th>\n",
       "      <td>F</td>\n",
       "      <td>221</td>\n",
       "    </tr>\n",
       "    <tr>\n",
       "      <th>6</th>\n",
       "      <td>G</td>\n",
       "      <td>others</td>\n",
       "    </tr>\n",
       "    <tr>\n",
       "      <th>7</th>\n",
       "      <td>H</td>\n",
       "      <td>unknown</td>\n",
       "    </tr>\n",
       "  </tbody>\n",
       "</table>\n",
       "</div>"
      ],
      "text/plain": [
       "  code     area\n",
       "0    A      105\n",
       "1    B      106\n",
       "2    C      110\n",
       "3    D      114\n",
       "4    E      115\n",
       "5    F      221\n",
       "6    G   others\n",
       "7    H  unknown"
      ]
     },
     "execution_count": 10,
     "metadata": {},
     "output_type": "execute_result"
    }
   ],
   "source": [
    "# if you use a single character delimiter, it uses the faster engine ... \n",
    "residence_areas = pd.read_csv('residence_area.txt', \n",
    "                              delimiter=':',\n",
    "                              header=None, \n",
    "                              names=['code','area'])\n",
    "\n",
    "# need to remove the leading whitespace\n",
    "residence_areas['area'] = residence_areas['area'].str.strip()\n",
    "\n",
    "residence_areas # output (1 point)"
   ]
  },
  {
   "cell_type": "markdown",
   "metadata": {},
   "source": [
    "# TaFeng Transactions\n",
    "In this part, we load TaFengTransactions.txt."
   ]
  },
  {
   "cell_type": "code",
   "execution_count": 11,
   "metadata": {},
   "outputs": [
    {
     "name": "stdout",
     "output_type": "stream",
     "text": [
      "entry_date;transaction_time;customer_id;age_code;residence_area;product_subclass;product_id;amount;asset;sales_price\r",
      "\r\n",
      "2016-12-26;2001-01-15 00:00:00;01786439  ;G ;H ;110109;4710043552065;1;144;190\r",
      "\r\n",
      "2016-12-26;2001-01-15 00:00:00;00098946  ;E ;E ;100312;4710543111014;1;32;38\r",
      "\r\n",
      "2016-12-26;2001-01-15 00:00:00;00905602  ;D ;E ;500206;4710114322115;1;64;79\r",
      "\r\n",
      "2016-12-26;2001-01-15 00:00:00;01964295  ;E ;E ;530106;4713813010123;1;174;147\r",
      "\r\n",
      "2016-12-26;2001-01-15 00:00:00;02146553  ;B ;D ;100217;8801019421013;1;47;52\r",
      "\r\n",
      "2016-12-26;2001-01-15 00:00:00;01689983  ;B ;F ;500307;4901422038939;1;110;159\r",
      "\r\n",
      "2016-12-26;2001-01-15 00:00:00;01660289  ;D ;C ;760512;4714800272258;1;33;49\r",
      "\r\n",
      "2016-12-26;2001-01-15 00:00:00;01574203  ;G ;E ;120103;4710011409056;1;23;28\r",
      "\r\n",
      "2016-12-26;2001-01-15 00:00:00;01297232  ;E ;F ;100322;4710174053691;1;242;269\r",
      "\r\n"
     ]
    }
   ],
   "source": [
    "!head \"TaFengTransactions.txt\" \n",
    "# Windows: replace similarly\n",
    "# output (1 point)"
   ]
  },
  {
   "cell_type": "code",
   "execution_count": 12,
   "metadata": {},
   "outputs": [
    {
     "data": {
      "text/html": [
       "<div>\n",
       "<style scoped>\n",
       "    .dataframe tbody tr th:only-of-type {\n",
       "        vertical-align: middle;\n",
       "    }\n",
       "\n",
       "    .dataframe tbody tr th {\n",
       "        vertical-align: top;\n",
       "    }\n",
       "\n",
       "    .dataframe thead th {\n",
       "        text-align: right;\n",
       "    }\n",
       "</style>\n",
       "<table border=\"1\" class=\"dataframe\">\n",
       "  <thead>\n",
       "    <tr style=\"text-align: right;\">\n",
       "      <th></th>\n",
       "      <th>entry_date</th>\n",
       "      <th>transaction_time</th>\n",
       "      <th>customer_id</th>\n",
       "      <th>age_code</th>\n",
       "      <th>residence_area</th>\n",
       "      <th>product_subclass</th>\n",
       "      <th>product_id</th>\n",
       "      <th>amount</th>\n",
       "      <th>asset</th>\n",
       "      <th>sales_price</th>\n",
       "    </tr>\n",
       "  </thead>\n",
       "  <tbody>\n",
       "    <tr>\n",
       "      <th>0</th>\n",
       "      <td>2016-12-26</td>\n",
       "      <td>2001-01-15 00:00:00</td>\n",
       "      <td>1786439</td>\n",
       "      <td>G</td>\n",
       "      <td>H</td>\n",
       "      <td>110109</td>\n",
       "      <td>4710043552065</td>\n",
       "      <td>1</td>\n",
       "      <td>144</td>\n",
       "      <td>190</td>\n",
       "    </tr>\n",
       "    <tr>\n",
       "      <th>1</th>\n",
       "      <td>2016-12-26</td>\n",
       "      <td>2001-01-15 00:00:00</td>\n",
       "      <td>98946</td>\n",
       "      <td>E</td>\n",
       "      <td>E</td>\n",
       "      <td>100312</td>\n",
       "      <td>4710543111014</td>\n",
       "      <td>1</td>\n",
       "      <td>32</td>\n",
       "      <td>38</td>\n",
       "    </tr>\n",
       "    <tr>\n",
       "      <th>2</th>\n",
       "      <td>2016-12-26</td>\n",
       "      <td>2001-01-15 00:00:00</td>\n",
       "      <td>905602</td>\n",
       "      <td>D</td>\n",
       "      <td>E</td>\n",
       "      <td>500206</td>\n",
       "      <td>4710114322115</td>\n",
       "      <td>1</td>\n",
       "      <td>64</td>\n",
       "      <td>79</td>\n",
       "    </tr>\n",
       "    <tr>\n",
       "      <th>3</th>\n",
       "      <td>2016-12-26</td>\n",
       "      <td>2001-01-15 00:00:00</td>\n",
       "      <td>1964295</td>\n",
       "      <td>E</td>\n",
       "      <td>E</td>\n",
       "      <td>530106</td>\n",
       "      <td>4713813010123</td>\n",
       "      <td>1</td>\n",
       "      <td>174</td>\n",
       "      <td>147</td>\n",
       "    </tr>\n",
       "    <tr>\n",
       "      <th>4</th>\n",
       "      <td>2016-12-26</td>\n",
       "      <td>2001-01-15 00:00:00</td>\n",
       "      <td>2146553</td>\n",
       "      <td>B</td>\n",
       "      <td>D</td>\n",
       "      <td>100217</td>\n",
       "      <td>8801019421013</td>\n",
       "      <td>1</td>\n",
       "      <td>47</td>\n",
       "      <td>52</td>\n",
       "    </tr>\n",
       "  </tbody>\n",
       "</table>\n",
       "</div>"
      ],
      "text/plain": [
       "   entry_date     transaction_time  customer_id age_code residence_area  \\\n",
       "0  2016-12-26  2001-01-15 00:00:00      1786439        G              H   \n",
       "1  2016-12-26  2001-01-15 00:00:00        98946        E              E   \n",
       "2  2016-12-26  2001-01-15 00:00:00       905602        D              E   \n",
       "3  2016-12-26  2001-01-15 00:00:00      1964295        E              E   \n",
       "4  2016-12-26  2001-01-15 00:00:00      2146553        B              D   \n",
       "\n",
       "   product_subclass     product_id  amount  asset  sales_price  \n",
       "0            110109  4710043552065       1    144          190  \n",
       "1            100312  4710543111014       1     32           38  \n",
       "2            500206  4710114322115       1     64           79  \n",
       "3            530106  4713813010123       1    174          147  \n",
       "4            100217  8801019421013       1     47           52  "
      ]
     },
     "execution_count": 12,
     "metadata": {},
     "output_type": "execute_result"
    }
   ],
   "source": [
    "tafeng_transactions = pd.read_csv('TaFengTransactions.txt', delimiter=';')\n",
    "\n",
    "# remove potential leading or trailing whitespace\n",
    "tafeng_transactions['age_code'] = tafeng_transactions['age_code'].str.strip()\n",
    "tafeng_transactions['residence_area'] = tafeng_transactions['residence_area'].str.strip()\n",
    "\n",
    "tafeng_transactions.head() # output 1 point"
   ]
  },
  {
   "cell_type": "raw",
   "metadata": {},
   "source": [
    "Then, we conduct LEFT join (tafeng transactions on the left) with all 3 tables.\n",
    "Why left join? (1 point) - "
   ]
  },
  {
   "cell_type": "code",
   "execution_count": 13,
   "metadata": {},
   "outputs": [
    {
     "data": {
      "text/html": [
       "<div>\n",
       "<style scoped>\n",
       "    .dataframe tbody tr th:only-of-type {\n",
       "        vertical-align: middle;\n",
       "    }\n",
       "\n",
       "    .dataframe tbody tr th {\n",
       "        vertical-align: top;\n",
       "    }\n",
       "\n",
       "    .dataframe thead th {\n",
       "        text-align: right;\n",
       "    }\n",
       "</style>\n",
       "<table border=\"1\" class=\"dataframe\">\n",
       "  <thead>\n",
       "    <tr style=\"text-align: right;\">\n",
       "      <th></th>\n",
       "      <th>entry_date</th>\n",
       "      <th>transaction_time</th>\n",
       "      <th>customer_id</th>\n",
       "      <th>age_code</th>\n",
       "      <th>residence_area</th>\n",
       "      <th>product_subclass</th>\n",
       "      <th>product_id</th>\n",
       "      <th>amount</th>\n",
       "      <th>asset</th>\n",
       "      <th>sales_price</th>\n",
       "      <th>age_range</th>\n",
       "      <th>age_min</th>\n",
       "      <th>age_max</th>\n",
       "      <th>age_center</th>\n",
       "      <th>area</th>\n",
       "    </tr>\n",
       "  </thead>\n",
       "  <tbody>\n",
       "    <tr>\n",
       "      <th>0</th>\n",
       "      <td>2016-12-26</td>\n",
       "      <td>2001-01-15 00:00:00</td>\n",
       "      <td>1786439</td>\n",
       "      <td>G</td>\n",
       "      <td>H</td>\n",
       "      <td>110109</td>\n",
       "      <td>4710043552065</td>\n",
       "      <td>1</td>\n",
       "      <td>144</td>\n",
       "      <td>190</td>\n",
       "      <td>50-54</td>\n",
       "      <td>50.0</td>\n",
       "      <td>54.0</td>\n",
       "      <td>52.0</td>\n",
       "      <td>unknown</td>\n",
       "    </tr>\n",
       "    <tr>\n",
       "      <th>1</th>\n",
       "      <td>2016-12-26</td>\n",
       "      <td>2001-01-15 00:00:00</td>\n",
       "      <td>98946</td>\n",
       "      <td>E</td>\n",
       "      <td>E</td>\n",
       "      <td>100312</td>\n",
       "      <td>4710543111014</td>\n",
       "      <td>1</td>\n",
       "      <td>32</td>\n",
       "      <td>38</td>\n",
       "      <td>40-44</td>\n",
       "      <td>40.0</td>\n",
       "      <td>44.0</td>\n",
       "      <td>42.0</td>\n",
       "      <td>115</td>\n",
       "    </tr>\n",
       "    <tr>\n",
       "      <th>2</th>\n",
       "      <td>2016-12-26</td>\n",
       "      <td>2001-01-15 00:00:00</td>\n",
       "      <td>905602</td>\n",
       "      <td>D</td>\n",
       "      <td>E</td>\n",
       "      <td>500206</td>\n",
       "      <td>4710114322115</td>\n",
       "      <td>1</td>\n",
       "      <td>64</td>\n",
       "      <td>79</td>\n",
       "      <td>35-39</td>\n",
       "      <td>35.0</td>\n",
       "      <td>39.0</td>\n",
       "      <td>37.0</td>\n",
       "      <td>115</td>\n",
       "    </tr>\n",
       "    <tr>\n",
       "      <th>3</th>\n",
       "      <td>2016-12-26</td>\n",
       "      <td>2001-01-15 00:00:00</td>\n",
       "      <td>1964295</td>\n",
       "      <td>E</td>\n",
       "      <td>E</td>\n",
       "      <td>530106</td>\n",
       "      <td>4713813010123</td>\n",
       "      <td>1</td>\n",
       "      <td>174</td>\n",
       "      <td>147</td>\n",
       "      <td>40-44</td>\n",
       "      <td>40.0</td>\n",
       "      <td>44.0</td>\n",
       "      <td>42.0</td>\n",
       "      <td>115</td>\n",
       "    </tr>\n",
       "    <tr>\n",
       "      <th>4</th>\n",
       "      <td>2016-12-26</td>\n",
       "      <td>2001-01-15 00:00:00</td>\n",
       "      <td>2146553</td>\n",
       "      <td>B</td>\n",
       "      <td>D</td>\n",
       "      <td>100217</td>\n",
       "      <td>8801019421013</td>\n",
       "      <td>1</td>\n",
       "      <td>47</td>\n",
       "      <td>52</td>\n",
       "      <td>25-29</td>\n",
       "      <td>25.0</td>\n",
       "      <td>29.0</td>\n",
       "      <td>27.0</td>\n",
       "      <td>114</td>\n",
       "    </tr>\n",
       "  </tbody>\n",
       "</table>\n",
       "</div>"
      ],
      "text/plain": [
       "   entry_date     transaction_time  customer_id age_code residence_area  \\\n",
       "0  2016-12-26  2001-01-15 00:00:00      1786439        G              H   \n",
       "1  2016-12-26  2001-01-15 00:00:00        98946        E              E   \n",
       "2  2016-12-26  2001-01-15 00:00:00       905602        D              E   \n",
       "3  2016-12-26  2001-01-15 00:00:00      1964295        E              E   \n",
       "4  2016-12-26  2001-01-15 00:00:00      2146553        B              D   \n",
       "\n",
       "   product_subclass     product_id  amount  asset  sales_price age_range  \\\n",
       "0            110109  4710043552065       1    144          190     50-54   \n",
       "1            100312  4710543111014       1     32           38     40-44   \n",
       "2            500206  4710114322115       1     64           79     35-39   \n",
       "3            530106  4713813010123       1    174          147     40-44   \n",
       "4            100217  8801019421013       1     47           52     25-29   \n",
       "\n",
       "   age_min  age_max  age_center     area  \n",
       "0     50.0     54.0        52.0  unknown  \n",
       "1     40.0     44.0        42.0      115  \n",
       "2     35.0     39.0        37.0      115  \n",
       "3     40.0     44.0        42.0      115  \n",
       "4     25.0     29.0        27.0      114  "
      ]
     },
     "execution_count": 13,
     "metadata": {},
     "output_type": "execute_result"
    }
   ],
   "source": [
    "tafeng_full = pd.merge(tafeng_transactions, age_classes,\n",
    "                      how='left', left_on='age_code', right_on='code')\n",
    "tafeng_full = tafeng_full.drop('code', axis=1)\n",
    "\n",
    "tafeng_full = pd.merge(tafeng_full, residence_areas, \n",
    "                      how='left', left_on = 'residence_area', right_on = 'code') \n",
    "tafeng_full = tafeng_full.drop('code', axis=1)\n",
    "\n",
    "tafeng_full.head() #output 1 point"
   ]
  },
  {
   "cell_type": "markdown",
   "metadata": {},
   "source": [
    "# Guided EDA"
   ]
  },
  {
   "cell_type": "markdown",
   "metadata": {},
   "source": [
    "We may be interested in what the purchase data can tell us about TaFeng's business and the behavior of their customers. While there are many aspects of this data set that we could look into, we start by exploring customer behavior at the product level to get a feel for the variables, data type, cleanliness, missingness, and distributions. For the moment, assume that the data consists of all transactions in the 3 month period (i.e. no transactions are missing from this data set). "
   ]
  },
  {
   "cell_type": "markdown",
   "metadata": {},
   "source": [
    "# Example 1\n",
    "Calculate the number of shopping trips each customer made in the 3-month period. Then make a histogram that summarizes the information. Assume that transactions occurring on the same day can be grouped together into one trip (e.g. All purchases on January 1 by the same customer should be lumped together)."
   ]
  },
  {
   "cell_type": "code",
   "execution_count": 14,
   "metadata": {},
   "outputs": [
    {
     "data": {
      "text/plain": [
       "Text(0.5, 1.0, 'Repeat Business')"
      ]
     },
     "execution_count": 14,
     "metadata": {},
     "output_type": "execute_result"
    },
    {
     "data": {
      "image/png": "[encoded data removed]",
      "text/plain": [
       "<Figure size 432x288 with 1 Axes>"
      ]
     },
     "metadata": {
      "needs_background": "light"
     },
     "output_type": "display_data"
    }
   ],
   "source": [
    "rpt_business = tafeng_full.groupby('customer_id')['transaction_time'].nunique()\n",
    "rpt_business.hist(bins=rpt_business.max())\n",
    "\n",
    "plt.xlabel('Number of Trips in 3 Months')\n",
    "plt.ylabel('Number of Customers')\n",
    "plt.title('Repeat Business') # output 1 point"
   ]
  },
  {
   "cell_type": "markdown",
   "metadata": {},
   "source": [
    "A customer that is on the left side of the distribution shops only sporadically at TaFeng, and a customer on the right side of the distribution shops at TaFeng very frequently. The distribution is skewed right with nearly all the customers shopping fewer than 3 times in the three month period. Now it is hard to see the distribution for frequent customers (>=4 trips). Let's zoom in to better view the shape of the distribution of frequent customers."
   ]
  },
  {
   "cell_type": "code",
   "execution_count": 15,
   "metadata": {},
   "outputs": [
    {
     "data": {
      "text/plain": [
       "(0, 20)"
      ]
     },
     "execution_count": 15,
     "metadata": {},
     "output_type": "execute_result"
    },
    {
     "data": {
      "image/png": "[encoded data removed]",
      "text/plain": [
       "<Figure size 432x288 with 1 Axes>"
      ]
     },
     "metadata": {
      "needs_background": "light"
     },
     "output_type": "display_data"
    }
   ],
   "source": [
    "rpt_business.hist(bins=rpt_business.max())\n",
    "\n",
    "plt.xlabel('Number of Trips in 3 Months')\n",
    "plt.ylabel('Number of Customers')\n",
    "plt.title('Repeat Business')\n",
    "\n",
    "plt.xlim(4, 10)\n",
    "plt.ylim(0, 20) # output 1 point"
   ]
  },
  {
   "cell_type": "markdown",
   "metadata": {},
   "source": [
    "# Example 2\n",
    "In this example, we will investigate temporal trends in shopping behavior. We begin with the technical details of date-time data."
   ]
  },
  {
   "cell_type": "code",
   "execution_count": 16,
   "metadata": {},
   "outputs": [
    {
     "data": {
      "text/html": [
       "<div>\n",
       "<style scoped>\n",
       "    .dataframe tbody tr th:only-of-type {\n",
       "        vertical-align: middle;\n",
       "    }\n",
       "\n",
       "    .dataframe tbody tr th {\n",
       "        vertical-align: top;\n",
       "    }\n",
       "\n",
       "    .dataframe thead th {\n",
       "        text-align: right;\n",
       "    }\n",
       "</style>\n",
       "<table border=\"1\" class=\"dataframe\">\n",
       "  <thead>\n",
       "    <tr style=\"text-align: right;\">\n",
       "      <th></th>\n",
       "      <th>entry_date</th>\n",
       "      <th>transaction_time</th>\n",
       "      <th>customer_id</th>\n",
       "      <th>age_code</th>\n",
       "      <th>residence_area</th>\n",
       "      <th>product_subclass</th>\n",
       "      <th>product_id</th>\n",
       "      <th>amount</th>\n",
       "      <th>asset</th>\n",
       "      <th>sales_price</th>\n",
       "      <th>age_range</th>\n",
       "      <th>age_min</th>\n",
       "      <th>age_max</th>\n",
       "      <th>age_center</th>\n",
       "      <th>area</th>\n",
       "    </tr>\n",
       "  </thead>\n",
       "  <tbody>\n",
       "    <tr>\n",
       "      <th>0</th>\n",
       "      <td>2016-12-26</td>\n",
       "      <td>2001-01-15</td>\n",
       "      <td>1786439</td>\n",
       "      <td>G</td>\n",
       "      <td>H</td>\n",
       "      <td>110109</td>\n",
       "      <td>4710043552065</td>\n",
       "      <td>1</td>\n",
       "      <td>144</td>\n",
       "      <td>190</td>\n",
       "      <td>50-54</td>\n",
       "      <td>50.0</td>\n",
       "      <td>54.0</td>\n",
       "      <td>52.0</td>\n",
       "      <td>unknown</td>\n",
       "    </tr>\n",
       "    <tr>\n",
       "      <th>1</th>\n",
       "      <td>2016-12-26</td>\n",
       "      <td>2001-01-15</td>\n",
       "      <td>98946</td>\n",
       "      <td>E</td>\n",
       "      <td>E</td>\n",
       "      <td>100312</td>\n",
       "      <td>4710543111014</td>\n",
       "      <td>1</td>\n",
       "      <td>32</td>\n",
       "      <td>38</td>\n",
       "      <td>40-44</td>\n",
       "      <td>40.0</td>\n",
       "      <td>44.0</td>\n",
       "      <td>42.0</td>\n",
       "      <td>115</td>\n",
       "    </tr>\n",
       "    <tr>\n",
       "      <th>2</th>\n",
       "      <td>2016-12-26</td>\n",
       "      <td>2001-01-15</td>\n",
       "      <td>905602</td>\n",
       "      <td>D</td>\n",
       "      <td>E</td>\n",
       "      <td>500206</td>\n",
       "      <td>4710114322115</td>\n",
       "      <td>1</td>\n",
       "      <td>64</td>\n",
       "      <td>79</td>\n",
       "      <td>35-39</td>\n",
       "      <td>35.0</td>\n",
       "      <td>39.0</td>\n",
       "      <td>37.0</td>\n",
       "      <td>115</td>\n",
       "    </tr>\n",
       "    <tr>\n",
       "      <th>3</th>\n",
       "      <td>2016-12-26</td>\n",
       "      <td>2001-01-15</td>\n",
       "      <td>1964295</td>\n",
       "      <td>E</td>\n",
       "      <td>E</td>\n",
       "      <td>530106</td>\n",
       "      <td>4713813010123</td>\n",
       "      <td>1</td>\n",
       "      <td>174</td>\n",
       "      <td>147</td>\n",
       "      <td>40-44</td>\n",
       "      <td>40.0</td>\n",
       "      <td>44.0</td>\n",
       "      <td>42.0</td>\n",
       "      <td>115</td>\n",
       "    </tr>\n",
       "    <tr>\n",
       "      <th>4</th>\n",
       "      <td>2016-12-26</td>\n",
       "      <td>2001-01-15</td>\n",
       "      <td>2146553</td>\n",
       "      <td>B</td>\n",
       "      <td>D</td>\n",
       "      <td>100217</td>\n",
       "      <td>8801019421013</td>\n",
       "      <td>1</td>\n",
       "      <td>47</td>\n",
       "      <td>52</td>\n",
       "      <td>25-29</td>\n",
       "      <td>25.0</td>\n",
       "      <td>29.0</td>\n",
       "      <td>27.0</td>\n",
       "      <td>114</td>\n",
       "    </tr>\n",
       "  </tbody>\n",
       "</table>\n",
       "</div>"
      ],
      "text/plain": [
       "   entry_date transaction_time  customer_id age_code residence_area  \\\n",
       "0  2016-12-26       2001-01-15      1786439        G              H   \n",
       "1  2016-12-26       2001-01-15        98946        E              E   \n",
       "2  2016-12-26       2001-01-15       905602        D              E   \n",
       "3  2016-12-26       2001-01-15      1964295        E              E   \n",
       "4  2016-12-26       2001-01-15      2146553        B              D   \n",
       "\n",
       "   product_subclass     product_id  amount  asset  sales_price age_range  \\\n",
       "0            110109  4710043552065       1    144          190     50-54   \n",
       "1            100312  4710543111014       1     32           38     40-44   \n",
       "2            500206  4710114322115       1     64           79     35-39   \n",
       "3            530106  4713813010123       1    174          147     40-44   \n",
       "4            100217  8801019421013       1     47           52     25-29   \n",
       "\n",
       "   age_min  age_max  age_center     area  \n",
       "0     50.0     54.0        52.0  unknown  \n",
       "1     40.0     44.0        42.0      115  \n",
       "2     35.0     39.0        37.0      115  \n",
       "3     40.0     44.0        42.0      115  \n",
       "4     25.0     29.0        27.0      114  "
      ]
     },
     "execution_count": 16,
     "metadata": {},
     "output_type": "execute_result"
    }
   ],
   "source": [
    "time_format = \"%Y-%m-%d %H:%M:%S\"\n",
    "tafeng_full['transaction_time'] = pd.to_datetime(tafeng_full['transaction_time'], \n",
    "                                                format = time_format)\n",
    "tafeng_full.head() # output 1 point"
   ]
  },
  {
   "cell_type": "markdown",
   "metadata": {},
   "source": [
    "Now we have the time data in a usable format, we can start looking into customer trends over time. Make a line plot of the number of unique customers per day against day. Note that we will change the granularity at which we are examining our data."
   ]
  },
  {
   "cell_type": "code",
   "execution_count": 17,
   "metadata": {},
   "outputs": [
    {
     "data": {
      "text/plain": [
       "Text(0.5, 1.0, 'Unique Customers Per Day')"
      ]
     },
     "execution_count": 17,
     "metadata": {},
     "output_type": "execute_result"
    },
    {
     "data": {
      "image/png": "[encoded data removed]",
      "text/plain": [
       "<Figure size 432x288 with 1 Axes>"
      ]
     },
     "metadata": {
      "needs_background": "light"
     },
     "output_type": "display_data"
    }
   ],
   "source": [
    "tafeng_full.groupby('transaction_time')['customer_id'].nunique().plot(color='black', lw=1.5)\n",
    "plt.xlabel('Day')\n",
    "plt.ylabel('Unique Customers')\n",
    "plt.title('Unique Customers Per Day') # output 1 point"
   ]
  },
  {
   "cell_type": "markdown",
   "metadata": {},
   "source": [
    "What if we are interested in holidays?"
   ]
  },
  {
   "cell_type": "code",
   "execution_count": 39,
   "metadata": {},
   "outputs": [
    {
     "data": {
      "image/png": "[encoded data removed]",
      "text/plain": [
       "<Figure size 960x480 with 1 Axes>"
      ]
     },
     "metadata": {
      "needs_background": "light"
     },
     "output_type": "display_data"
    }
   ],
   "source": [
    "fig=plt.figure(figsize=(32, 16), dpi= 30)\n",
    "matplotlib.rcParams.update({'font.size': 22})\n",
    "\n",
    "tafeng_full.groupby('transaction_time')['customer_id'].nunique().plot(color='black', lw=1.5)\n",
    "plt.xlabel('Day')\n",
    "plt.ylabel('Unique Customers')\n",
    "plt.title('Unique Customers Per Day')\n",
    "\n",
    "holidays = ['2000-12-25', '2001-01-01', '2001-01-24']\n",
    "for holiday in holidays:\n",
    "    plt.axvline(holiday, lw=2.5, color='#0000ff', ls='dashed') # output 1 point"
   ]
  },
  {
   "cell_type": "raw",
   "metadata": {},
   "source": [
    "Additonal comments (e.g., I discussed with XXX, I borrowed from XXX)? "
   ]
  }
 ],
 "metadata": {
  "kernelspec": {
   "display_name": "Python 3",
   "language": "python",
   "name": "python3"
  },
  "language_info": {
   "codemirror_mode": {
    "name": "ipython",
    "version": 3
   },
   "file_extension": ".py",
   "mimetype": "text/x-python",
   "name": "python",
   "nbconvert_exporter": "python",
   "pygments_lexer": "ipython3",
   "version": "3.7.1"
  }
 },
 "nbformat": 4,
 "nbformat_minor": 2
}
