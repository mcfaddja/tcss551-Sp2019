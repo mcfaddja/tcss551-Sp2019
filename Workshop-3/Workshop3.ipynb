{
 "cells": [
  {
   "cell_type": "markdown",
   "metadata": {},
   "source": [
    "# Data Wrangling, EDA, and Visualization (21 points in total)"
   ]
  },
  {
   "cell_type": "raw",
   "metadata": {},
   "source": [
    "Your full name? (1 point) - "
   ]
  },
  {
   "cell_type": "markdown",
   "metadata": {},
   "source": [
    "Ta-Feng is a retail warehouse in Taiwan that mainly sells food-products though it stocks some office and home products. Like Costco and Sam's Club, it operates on a club structure wherein people buy a membership to gain access to the store. As a result, purchases can be traced to specific customers. In this workshop, we will use this database to practice data wrangling, EDA, and Visualization."
   ]
  },
  {
   "cell_type": "code",
   "execution_count": null,
   "metadata": {},
   "outputs": [],
   "source": [
    "# Run this cell to set up the notebook, but please don't change it.\n",
    "\n",
    "# These lines import the Numpy, Datascience, pandas modules.\n",
    "import numpy as np\n",
    "import pandas as pd\n",
    "import seaborn as sns\n",
    "\n",
    "# These lines do some fancy plotting magic.\n",
    "import matplotlib\n",
    "%matplotlib inline\n",
    "import matplotlib.pyplot as plt\n",
    "plt.style.use('fivethirtyeight')\n",
    "import warnings\n",
    "warnings.simplefilter('ignore', FutureWarning)"
   ]
  },
  {
   "cell_type": "markdown",
   "metadata": {},
   "source": [
    "# Importing Data\n",
    "In this section, we run through some problems that you might face as you go through the innocuous-sounding process of \"importing data.\" We also have you process some variables that aren't in the most user-friendly form."
   ]
  },
  {
   "cell_type": "markdown",
   "metadata": {},
   "source": [
    "# Age Classes\n",
    "We'll start by looking at age_classes.txt, which is a lookup table for our main Ta Feng table."
   ]
  },
  {
   "cell_type": "code",
   "execution_count": null,
   "metadata": {},
   "outputs": [],
   "source": [
    "#Mac or Linux\n",
    "!head \"age_classes.txt\"\n",
    "\n",
    "#Windows\n",
    "# %alias head powershell -command \"& {Get-Content %s -Head 10}\"\n",
    "# %head age_classes.txt\n",
    "\n",
    "#output (1 point)"
   ]
  },
  {
   "cell_type": "raw",
   "metadata": {},
   "source": [
    "What is the delimiter used in this file? (1 point) - "
   ]
  },
  {
   "cell_type": "markdown",
   "metadata": {},
   "source": [
    "Let's read in age_classes.txt as a data frame called age_classes. Use the column names provided below."
   ]
  },
  {
   "cell_type": "code",
   "execution_count": null,
   "metadata": {},
   "outputs": [],
   "source": [
    "age_class_columns = ['code', 'age_range']\n",
    "age_classes = pd.read_csv('age_classes.txt', sep=...,#replace ... with your code (1 point)  \n",
    "                          header=None, names=age_class_columns)\n",
    "age_classes # output (1 point)"
   ]
  },
  {
   "cell_type": "raw",
   "metadata": {},
   "source": [
    "What type of variable is age_range? Continuous, discrete, nominal, ordinal or other? (1 point) - "
   ]
  },
  {
   "cell_type": "markdown",
   "metadata": {},
   "source": [
    "Let's make sure the type of age_range in the data frame age_classes matches your answer."
   ]
  },
  {
   "cell_type": "code",
   "execution_count": null,
   "metadata": {},
   "outputs": [],
   "source": [
    "age_classes['age_range'] = age_classes['age_range']...#replace ... with your code (1 point) \n",
    "age_classes.dtypes #output (1 point)"
   ]
  },
  {
   "cell_type": "markdown",
   "metadata": {},
   "source": [
    "Perhaps at some point we would like to work with the age data numerically. Derive two numerical columns from age_range called age_min and age_max, which contain the left and right endpoints of age_range, respectively."
   ]
  },
  {
   "cell_type": "code",
   "execution_count": null,
   "metadata": {},
   "outputs": [],
   "source": [
    "age_classes[['age_min', 'age_max']] = (\n",
    "    age_classes['age_range']\n",
    "    .str.split(\"-\", expand=True)\n",
    "    .astype('int')\n",
    ")\n",
    "age_classes #output (1 point)"
   ]
  },
  {
   "cell_type": "markdown",
   "metadata": {},
   "source": [
    "To have a single column representing age, we could reduce the two endpoints to a single number. Compute an additional age_center attribute that is equal to the midpoint of age_range, e.g., the age_center of 0-5 is 2.5."
   ]
  },
  {
   "cell_type": "code",
   "execution_count": null,
   "metadata": {},
   "outputs": [],
   "source": [
    "age_classes['age_center'] = (age_classes['age_max'] + age_classes['age_min']) / 2.\n",
    "age_classes # output (1 point)"
   ]
  },
  {
   "cell_type": "markdown",
   "metadata": {},
   "source": [
    "# Residence Area\n",
    "Now inspect residence_area.txt. We'll read in the data in the next cell."
   ]
  },
  {
   "cell_type": "code",
   "execution_count": null,
   "metadata": {},
   "outputs": [],
   "source": [
    "!head \"residence_area.txt\" \n",
    "# Windows: replace similarly\n",
    "# output (1 point)"
   ]
  },
  {
   "cell_type": "markdown",
   "metadata": {},
   "source": [
    "Let's read in residence_area.txt as a data frame called residence_areas. Use the column names provided below."
   ]
  },
  {
   "cell_type": "code",
   "execution_count": null,
   "metadata": {},
   "outputs": [],
   "source": [
    "# if you use a single character delimiter, it uses the faster engine ... \n",
    "residence_areas = pd.read_csv('residence_area.txt', \n",
    "                              delimiter=':',\n",
    "                              header=None, \n",
    "                              names=['code','area'])\n",
    "\n",
    "# need to remove the leading whitespace\n",
    "residence_areas['area'] = residence_areas['area'].str.strip()\n",
    "\n",
    "residence_areas # output (1 point)"
   ]
  },
  {
   "cell_type": "markdown",
   "metadata": {},
   "source": [
    "# TaFeng Transactions\n",
    "In this part, we load TaFengTransactions.txt."
   ]
  },
  {
   "cell_type": "code",
   "execution_count": null,
   "metadata": {},
   "outputs": [],
   "source": [
    "!head \"TaFengTransactions.txt\" \n",
    "# Windows: replace similarly\n",
    "# output (1 point)"
   ]
  },
  {
   "cell_type": "code",
   "execution_count": null,
   "metadata": {},
   "outputs": [],
   "source": [
    "tafeng_transactions = pd.read_csv('TaFengTransactions.txt', delimiter=';')\n",
    "\n",
    "# remove potential leading or trailing whitespace\n",
    "tafeng_transactions['age_code'] = tafeng_transactions['age_code'].str.strip()\n",
    "tafeng_transactions['residence_area'] = tafeng_transactions['residence_area'].str.strip()\n",
    "\n",
    "tafeng_transactions.head() # output 1 point"
   ]
  },
  {
   "cell_type": "raw",
   "metadata": {},
   "source": [
    "Then, we conduct LEFT join (tafeng transactions on the left) with all 3 tables.\n",
    "Why left join? (1 point) - "
   ]
  },
  {
   "cell_type": "code",
   "execution_count": null,
   "metadata": {},
   "outputs": [],
   "source": [
    "tafeng_full = pd.merge(tafeng_transactions, age_classes,\n",
    "                      how='left', left_on='age_code', right_on='code')\n",
    "tafeng_full = tafeng_full.drop('code', axis=1)\n",
    "\n",
    "tafeng_full = pd.merge(tafeng_full, residence_areas, \n",
    "                      how='left', left_on = 'residence_area', right_on = 'code') \n",
    "tafeng_full = tafeng_full.drop('code', axis=1)\n",
    "\n",
    "tafeng_full.head() #output 1 point"
   ]
  },
  {
   "cell_type": "markdown",
   "metadata": {},
   "source": [
    "# Guided EDA"
   ]
  },
  {
   "cell_type": "markdown",
   "metadata": {},
   "source": [
    "We may be interested in what the purchase data can tell us about TaFeng's business and the behavior of their customers. While there are many aspects of this data set that we could look into, we start by exploring customer behavior at the product level to get a feel for the variables, data type, cleanliness, missingness, and distributions. For the moment, assume that the data consists of all transactions in the 3 month period (i.e. no transactions are missing from this data set). "
   ]
  },
  {
   "cell_type": "markdown",
   "metadata": {},
   "source": [
    "# Example 1\n",
    "Calculate the number of shopping trips each customer made in the 3-month period. Then make a histogram that summarizes the information. Assume that transactions occurring on the same day can be grouped together into one trip (e.g. All purchases on January 1 by the same customer should be lumped together)."
   ]
  },
  {
   "cell_type": "code",
   "execution_count": null,
   "metadata": {},
   "outputs": [],
   "source": [
    "rpt_business = tafeng_full.groupby('customer_id')['transaction_time'].nunique()\n",
    "rpt_business.hist(bins=rpt_business.max())\n",
    "\n",
    "plt.xlabel('Number of Trips in 3 Months')\n",
    "plt.ylabel('Number of Customers')\n",
    "plt.title('Repeat Business') # output 1 point"
   ]
  },
  {
   "cell_type": "markdown",
   "metadata": {},
   "source": [
    "A customer that is on the left side of the distribution shops only sporadically at TaFeng, and a customer on the right side of the distribution shops at TaFeng very frequently. The distribution is skewed right with nearly all the customers shopping fewer than 3 times in the three month period. Now it is hard to see the distribution for frequent customers (>=4 trips). Let's zoom in to better view the shape of the distribution of frequent customers."
   ]
  },
  {
   "cell_type": "code",
   "execution_count": null,
   "metadata": {},
   "outputs": [],
   "source": [
    "rpt_business.hist(bins=rpt_business.max())\n",
    "\n",
    "plt.xlabel('Number of Trips in 3 Months')\n",
    "plt.ylabel('Number of Customers')\n",
    "plt.title('Repeat Business')\n",
    "\n",
    "plt.xlim(4, 10)\n",
    "plt.ylim(0, 20) # output 1 point"
   ]
  },
  {
   "cell_type": "markdown",
   "metadata": {},
   "source": [
    "# Example 2\n",
    "In this example, we will investigate temporal trends in shopping behavior. We begin with the technical details of date-time data."
   ]
  },
  {
   "cell_type": "code",
   "execution_count": null,
   "metadata": {},
   "outputs": [],
   "source": [
    "time_format = \"%Y-%m-%d %H:%M:%S\"\n",
    "tafeng_full['transaction_time'] = pd.to_datetime(tafeng_full['transaction_time'], \n",
    "                                                format = time_format)\n",
    "tafeng_full.head() # output 1 point"
   ]
  },
  {
   "cell_type": "markdown",
   "metadata": {},
   "source": [
    "Now we have the time data in a usable format, we can start looking into customer trends over time. Make a line plot of the number of unique customers per day against day. Note that we will change the granularity at which we are examining our data."
   ]
  },
  {
   "cell_type": "code",
   "execution_count": null,
   "metadata": {},
   "outputs": [],
   "source": [
    "tafeng_full.groupby('transaction_time')['customer_id'].nunique().plot(color='black', lw=1.5)\n",
    "plt.xlabel('Day')\n",
    "plt.ylabel('Unique Customers')\n",
    "plt.title('Unique Customers Per Day') # output 1 point"
   ]
  },
  {
   "cell_type": "markdown",
   "metadata": {},
   "source": [
    "What if we are interested in holidays?"
   ]
  },
  {
   "cell_type": "code",
   "execution_count": null,
   "metadata": {},
   "outputs": [],
   "source": [
    "tafeng_full.groupby('transaction_time')['customer_id'].nunique().plot(color='black', lw=1.5)\n",
    "plt.xlabel('Day')\n",
    "plt.ylabel('Unique Customers')\n",
    "plt.title('Unique Customers Per Day')\n",
    "\n",
    "holidays = ['2000-12-25', '2001-01-01', '2001-01-24']\n",
    "for holiday in holidays:\n",
    "    plt.axvline(holiday, lw=1.5, color='#ef8a62', ls='dashed') # output 1 point"
   ]
  },
  {
   "cell_type": "raw",
   "metadata": {},
   "source": [
    "Additonal comments (e.g., I discussed with XXX, I borrowed from XXX)? "
   ]
  }
 ],
 "metadata": {
  "kernelspec": {
   "display_name": "Python 2",
   "language": "python",
   "name": "python2"
  },
  "language_info": {
   "codemirror_mode": {
    "name": "ipython",
    "version": 2
   },
   "file_extension": ".py",
   "mimetype": "text/x-python",
   "name": "python",
   "nbconvert_exporter": "python",
   "pygments_lexer": "ipython2",
   "version": "2.7.10"
  }
 },
 "nbformat": 4,
 "nbformat_minor": 2
}
