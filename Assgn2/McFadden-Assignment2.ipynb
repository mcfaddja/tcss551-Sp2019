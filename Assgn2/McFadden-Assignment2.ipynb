{
 "cells": [
  {
   "cell_type": "raw",
   "metadata": {},
   "source": [
    "Your full name? (1 point) -"
   ]
  },
  {
   "cell_type": "code",
   "execution_count": null,
   "metadata": {},
   "outputs": [],
   "source": [
    "# import necessary packages\n",
    "import numpy as np\n",
    "import pandas as pd"
   ]
  },
  {
   "cell_type": "markdown",
   "metadata": {},
   "source": [
    "# 1. Numpy (27 points)"
   ]
  },
  {
   "cell_type": "markdown",
   "metadata": {},
   "source": [
    "# 1.1 Arrays"
   ]
  },
  {
   "cell_type": "raw",
   "metadata": {},
   "source": [
    "Coding Question 1: Using the np.linspace function, create an array called xs that contains 100 evenly spaced points between -np.pi and np.pi. Then, create an array called ys that contains the value of cos(x) at each of those 100 points of xs. (5 points)\n",
    "\n",
    "Hint: Use the np.cos function. You should be able to define each variable with one line of code."
   ]
  },
  {
   "cell_type": "code",
   "execution_count": null,
   "metadata": {},
   "outputs": [],
   "source": [
    "# type your code here"
   ]
  },
  {
   "cell_type": "raw",
   "metadata": {},
   "source": [
    "The plt.plot function in the following from another library called matplotlib lets us make plots too. It takes in an array of x-values and a corresponding array of y-values. It makes a scatter plot of the (x, y) pairs and connects points with line segments. If you give it enough points, it will appear to create a smooth curve.\n",
    "\n",
    "Based on xs and ys, plot the cos function. (3 points)"
   ]
  },
  {
   "cell_type": "code",
   "execution_count": null,
   "metadata": {},
   "outputs": [],
   "source": [
    "import matplotlib\n",
    "%matplotlib inline\n",
    "import matplotlib.pyplot as plt\n",
    "plt.style.use('fivethirtyeight')\n",
    "\n",
    "# type your code here and plot"
   ]
  },
  {
   "cell_type": "raw",
   "metadata": {},
   "source": [
    "Calculating derivatives is an important operation in data science, but it can be difficult. We can have computers do it for us using a simple idea called numerical differentiation.\n",
    "\n",
    "Consider the ith point (xs[i], ys[i]). The slope of cos at xs[i] is roughly the slope of the line connecting (xs[i], ys[i]) to the nearby point (xs[i+1], ys[i+1]). That slope is:\n",
    "\n",
    "(ys[i+1] - ys[i]) / (xs[i+1] - xs[i])\n",
    "If the difference between xs[i+1] and xs[i] were infinitessimal, we'd have exactly the derivative. In numerical differentiation we take advantage of the fact that it's often good enough to use \"really small\" differences instead.\n",
    "\n",
    "Coding Question 2:\n",
    "\n",
    "Define a function called derivative that takes in an array of x-values and their corresponding y-values and computes the slope of the line connecting each point to the next point. (5 points)\n",
    "\n",
    ">>> derivative(np.array([0, 1, 2]), np.array([2, 4, 6]))\n",
    "np.array([2., 2.])\n",
    ">>> derivative(np.arange(5), np.arange(5) ** 2)\n",
    "np.array([0., 2., 4., 6.])\n",
    "\n",
    "Notice that the output array has one less element than the inputs since we can't find the slope for the last point."
   ]
  },
  {
   "cell_type": "code",
   "execution_count": null,
   "metadata": {},
   "outputs": [],
   "source": [
    "# type your code here"
   ]
  },
  {
   "cell_type": "raw",
   "metadata": {},
   "source": [
    "Then, use your derivative function to compute the slopes for each point in xs, ys. Store the slopes in an array called slopes. Plot the slopes you computed. (5 points)\n",
    "\n",
    "Note: Since we have only 99 slopes, you'll need to take off the last x-value before plotting to avoid an error."
   ]
  },
  {
   "cell_type": "code",
   "execution_count": null,
   "metadata": {},
   "outputs": [],
   "source": [
    "# type your code here and plot"
   ]
  },
  {
   "cell_type": "markdown",
   "metadata": {},
   "source": [
    "# 1.2 Multidimensional Arrays"
   ]
  },
  {
   "cell_type": "markdown",
   "metadata": {},
   "source": [
    "Coding Question 3: Create a 30x30 array called map_identity that contains all zeros except on the diagonal, where it contains the value 8. (6 points)\n",
    "\n",
    "Note: you can only use indexing way described in workshop2 and you CANNOT use for loop, np.diag_indices or np.fill_diagonal!"
   ]
  },
  {
   "cell_type": "code",
   "execution_count": null,
   "metadata": {},
   "outputs": [],
   "source": [
    "# type your code here and output"
   ]
  },
  {
   "cell_type": "markdown",
   "metadata": {},
   "source": [
    "Using np.eye, create the same 30x30 matrix as above, which should be named as map_eye_identity. (3 points)"
   ]
  },
  {
   "cell_type": "code",
   "execution_count": null,
   "metadata": {},
   "outputs": [],
   "source": [
    "# type your code here and output"
   ]
  },
  {
   "cell_type": "markdown",
   "metadata": {},
   "source": [
    "# 2. Pandas (40 points)"
   ]
  },
  {
   "cell_type": "raw",
   "metadata": {},
   "source": [
    "We will still use the following data frames."
   ]
  },
  {
   "cell_type": "code",
   "execution_count": null,
   "metadata": {},
   "outputs": [],
   "source": [
    "heroes = pd.DataFrame(\n",
    "    data={'color': ['red', 'green', 'black', \n",
    "                    'blue', 'black', 'red'],\n",
    "          'first_seen_on': ['a', 'a', 'f', 'a', 'a', 'f'],\n",
    "          'first_season': [2, 1, 2, 3, 3, 1]},\n",
    "    index=['flash', 'arrow', 'vibe', \n",
    "           'atom', 'canary', 'firestorm']\n",
    ")\n",
    "\n",
    "identities = pd.DataFrame(\n",
    "    data={'ego': ['barry allen', 'oliver queen', 'cisco ramon',\n",
    "                  'ray palmer', 'sara lance', \n",
    "                  'martin stein', 'ronnie raymond'],\n",
    "          'alter-ego': ['flash', 'arrow', 'vibe', 'atom',\n",
    "                        'canary', 'firestorm', 'firestorm']}\n",
    ")\n",
    "\n",
    "teams = pd.DataFrame(\n",
    "    data={'team': ['flash', 'arrow', 'flash', 'legends', \n",
    "                   'flash', 'legends', 'arrow'],\n",
    "          'hero': ['flash', 'arrow', 'vibe', 'atom', \n",
    "                   'killer frost', 'firestorm', 'speedy']})"
   ]
  },
  {
   "cell_type": "code",
   "execution_count": null,
   "metadata": {},
   "outputs": [],
   "source": [
    "heroes"
   ]
  },
  {
   "cell_type": "code",
   "execution_count": null,
   "metadata": {},
   "outputs": [],
   "source": [
    "identities"
   ]
  },
  {
   "cell_type": "code",
   "execution_count": null,
   "metadata": {},
   "outputs": [],
   "source": [
    "teams"
   ]
  },
  {
   "cell_type": "raw",
   "metadata": {},
   "source": [
    "Coding Question 4: Join the 3 tables into one table named heroes_complete. Specifically, do an inner join for heroes and identities at first. Then, do an outer join for the resulted table of inner join and team. (10 points)"
   ]
  },
  {
   "cell_type": "code",
   "execution_count": null,
   "metadata": {},
   "outputs": [],
   "source": [
    "# type your code here and output"
   ]
  },
  {
   "cell_type": "raw",
   "metadata": {},
   "source": [
    "What are the outputs of the following calls? State what is wrong with the ones that will produce errors and propose a fix and output. (27 points)"
   ]
  },
  {
   "cell_type": "raw",
   "metadata": {},
   "source": [
    "heroes_complete[flash]"
   ]
  },
  {
   "cell_type": "code",
   "execution_count": null,
   "metadata": {},
   "outputs": [],
   "source": [
    "# if any error - put your answer for what is wrong here\n",
    "heroes_complete[flash] # or replace by your fix and output"
   ]
  },
  {
   "cell_type": "raw",
   "metadata": {},
   "source": [
    "heroes_complete[1, 3]"
   ]
  },
  {
   "cell_type": "code",
   "execution_count": null,
   "metadata": {},
   "outputs": [],
   "source": [
    "# if any error - put your answer for what is wrong here\n",
    "heroes_complete[1, 3] # or replace by your fix and output"
   ]
  },
  {
   "cell_type": "raw",
   "metadata": {},
   "source": [
    "heroes_complete.loc['first_seen_on':'team']"
   ]
  },
  {
   "cell_type": "code",
   "execution_count": null,
   "metadata": {},
   "outputs": [],
   "source": [
    "# if any error - put your answer for what is wrong here\n",
    "heroes_complete.loc['first_seen_on':'team'] # or replace by your fix and output"
   ]
  },
  {
   "cell_type": "raw",
   "metadata": {},
   "source": [
    "heroes_complete.iloc[1:3]"
   ]
  },
  {
   "cell_type": "code",
   "execution_count": null,
   "metadata": {},
   "outputs": [],
   "source": [
    "# if any error - put your answer for what is wrong here\n",
    "heroes_complete.iloc[1:3] # or replace by your fix and output"
   ]
  },
  {
   "cell_type": "raw",
   "metadata": {},
   "source": [
    "heroes_complete.iloc[1, 1]"
   ]
  },
  {
   "cell_type": "code",
   "execution_count": null,
   "metadata": {},
   "outputs": [],
   "source": [
    "# if any error - put your answer for what is wrong here\n",
    "heroes_complete.iloc[1, 1] # or replace by your fix and output"
   ]
  },
  {
   "cell_type": "raw",
   "metadata": {},
   "source": [
    "heroes_complete.loc[heroes_complete['color'].isin(['red', 'black'])]"
   ]
  },
  {
   "cell_type": "code",
   "execution_count": null,
   "metadata": {},
   "outputs": [],
   "source": [
    "# if any error - put your answer for what is wrong here\n",
    "heroes_complete.loc[heroes_complete['color'].isin(['red', 'black'])] # or replace by your fix and output"
   ]
  },
  {
   "cell_type": "raw",
   "metadata": {},
   "source": [
    "heroes_complete.loc[1, 'color']"
   ]
  },
  {
   "cell_type": "code",
   "execution_count": null,
   "metadata": {},
   "outputs": [],
   "source": [
    "# if any error - put your answer for what is wrong here\n",
    "heroes_complete.loc[1, 'color'] # or replace by your fix and output"
   ]
  },
  {
   "cell_type": "raw",
   "metadata": {},
   "source": [
    "heroes_complete[heroes_complete['first_season'] % 2 == 0]"
   ]
  },
  {
   "cell_type": "code",
   "execution_count": null,
   "metadata": {},
   "outputs": [],
   "source": [
    "# if any error - put your answer for what is wrong here\n",
    "heroes_complete[heroes_complete['first_season'] % 2 == 0] # or replace by your fix and output"
   ]
  },
  {
   "cell_type": "raw",
   "metadata": {},
   "source": [
    "heroes_complete[heroes_complete['color'] == np.nan]"
   ]
  },
  {
   "cell_type": "code",
   "execution_count": null,
   "metadata": {},
   "outputs": [],
   "source": [
    "# if any error - put your answer for what is wrong here\n",
    "heroes_complete[heroes_complete['color'] == np.nan] # or replace by your fix and output"
   ]
  },
  {
   "cell_type": "raw",
   "metadata": {},
   "source": [
    "Additonal comments for this assignment (e.g., I discussed with XXX, I borrowed from XXX)? "
   ]
  }
 ],
 "metadata": {
  "kernelspec": {
   "display_name": "Python 2",
   "language": "python",
   "name": "python2"
  },
  "language_info": {
   "codemirror_mode": {
    "name": "ipython",
    "version": 2
   },
   "file_extension": ".py",
   "mimetype": "text/x-python",
   "name": "python",
   "nbconvert_exporter": "python",
   "pygments_lexer": "ipython2",
   "version": "2.7.10"
  }
 },
 "nbformat": 4,
 "nbformat_minor": 2
}
