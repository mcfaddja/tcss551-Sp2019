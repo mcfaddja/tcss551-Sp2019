{
 "cells": [
  {
   "cell_type": "markdown",
   "metadata": {},
   "source": [
    "# Assignment 5 - Problem 1"
   ]
  },
  {
   "cell_type": "code",
   "execution_count": 134,
   "metadata": {},
   "outputs": [],
   "source": [
    "import csv\n",
    "\n",
    "import numpy as np\n",
    "\n",
    "import pandas as pd"
   ]
  },
  {
   "cell_type": "code",
   "execution_count": 135,
   "metadata": {},
   "outputs": [],
   "source": [
    "dataList = []\n",
    "\n",
    "with open('data.txt') as dataFile:\n",
    "    dataReader = csv.reader(dataFile, delimiter = ' ')\n",
    "    \n",
    "    for row in dataReader:\n",
    "        dataList.append(row)"
   ]
  },
  {
   "cell_type": "code",
   "execution_count": 136,
   "metadata": {},
   "outputs": [
    {
     "data": {
      "text/plain": [
       "4601"
      ]
     },
     "execution_count": 136,
     "metadata": {},
     "output_type": "execute_result"
    }
   ],
   "source": [
    "len(dataList)"
   ]
  },
  {
   "cell_type": "code",
   "execution_count": 137,
   "metadata": {},
   "outputs": [],
   "source": [
    "data = np.asarray(dataList)\n",
    "# data = pd.DataFrame(data=data)"
   ]
  },
  {
   "cell_type": "code",
   "execution_count": 138,
   "metadata": {},
   "outputs": [],
   "source": [
    "with open('data.csv', 'w') as dataCSV:\n",
    "    writer = csv.writer(dataCSV)\n",
    "    writer.writerows(data)"
   ]
  },
  {
   "cell_type": "code",
   "execution_count": 139,
   "metadata": {},
   "outputs": [],
   "source": [
    "centroidList = []\n",
    "\n",
    "with open('c1.txt') as centroidFile:\n",
    "    centroidReader = csv.reader(centroidFile, delimiter = ' ')\n",
    "    \n",
    "    for row in centroidReader:\n",
    "        centroidList.append(row)"
   ]
  },
  {
   "cell_type": "code",
   "execution_count": 140,
   "metadata": {},
   "outputs": [
    {
     "data": {
      "text/plain": [
       "10"
      ]
     },
     "execution_count": 140,
     "metadata": {},
     "output_type": "execute_result"
    }
   ],
   "source": [
    "len(centroidList)"
   ]
  },
  {
   "cell_type": "code",
   "execution_count": 141,
   "metadata": {},
   "outputs": [],
   "source": [
    "centroids = np.asarray(centroidList)"
   ]
  },
  {
   "cell_type": "markdown",
   "metadata": {},
   "source": [
    "## Create clusters"
   ]
  },
  {
   "cell_type": "code",
   "execution_count": 142,
   "metadata": {},
   "outputs": [],
   "source": [
    "import os\n",
    "import findspark\n",
    "os.environ[\"PYSPARK_PYTHON\"] = \"python3\"\n",
    "findspark.init(\"spark-2.4.2-bin-hadoop2.7/\",)\n",
    "\n",
    "from pyspark.mllib.clustering import KMeansModel, KMeans\n",
    "# from pyspark.ml.feature import VectorAssembler\n",
    "from pyspark.ml.linalg import Vectors\n",
    "\n",
    "from pyspark.sql import SparkSession, DataFrameReader\n",
    "\n",
    "spark = (\n",
    "    SparkSession.builder\n",
    "        .master(\"local[*]\")\n",
    "        .appName(\"LectureExample\")\n",
    "        .getOrCreate()\n",
    ")\n",
    "sc = spark.sparkContext\n",
    "\n",
    "def parseVector(line):\n",
    "    return np.array([float(x) for x in line.split(' ')])"
   ]
  },
  {
   "cell_type": "code",
   "execution_count": null,
   "metadata": {},
   "outputs": [],
   "source": []
  },
  {
   "cell_type": "code",
   "execution_count": 143,
   "metadata": {},
   "outputs": [],
   "source": [
    "initialModel = KMeansModel(sc.parallelize(centroids))"
   ]
  },
  {
   "cell_type": "code",
   "execution_count": 144,
   "metadata": {},
   "outputs": [],
   "source": [
    "lines = sc.textFile('c1.txt')\n",
    "centroidsVec = lines.map(parseVector)\n",
    "\n",
    "initModel = KMeansModel(centroidsVec)"
   ]
  },
  {
   "cell_type": "code",
   "execution_count": 145,
   "metadata": {},
   "outputs": [
    {
     "ename": "AttributeError",
     "evalue": "'KMeansModel' object has no attribute 'train'",
     "output_type": "error",
     "traceback": [
      "\u001b[0;31m---------------------------------------------------------------------------\u001b[0m",
      "\u001b[0;31mAttributeError\u001b[0m                            Traceback (most recent call last)",
      "\u001b[0;32m<ipython-input-145-c31989b0a0d7>\u001b[0m in \u001b[0;36m<module>\u001b[0;34m\u001b[0m\n\u001b[0;32m----> 1\u001b[0;31m \u001b[0minitModel\u001b[0m\u001b[0;34m.\u001b[0m\u001b[0mtrain\u001b[0m\u001b[0;34m(\u001b[0m\u001b[0msc\u001b[0m\u001b[0;34m.\u001b[0m\u001b[0mparallelize\u001b[0m\u001b[0;34m(\u001b[0m\u001b[0mdata\u001b[0m\u001b[0;34m)\u001b[0m\u001b[0;34m,\u001b[0m \u001b[0;36m10\u001b[0m\u001b[0;34m,\u001b[0m \u001b[0mmaxIterations\u001b[0m\u001b[0;34m=\u001b[0m\u001b[0;36m25\u001b[0m\u001b[0;34m)\u001b[0m\u001b[0;34m\u001b[0m\u001b[0;34m\u001b[0m\u001b[0m\n\u001b[0m",
      "\u001b[0;31mAttributeError\u001b[0m: 'KMeansModel' object has no attribute 'train'"
     ]
    }
   ],
   "source": [
    "initModel.train(sc.parallelize(data), 10, maxIterations=25)"
   ]
  },
  {
   "cell_type": "code",
   "execution_count": 146,
   "metadata": {},
   "outputs": [
    {
     "data": {
      "text/plain": [
       "[array([  0.   ,   0.64 ,   0.64 ,   0.   ,   0.32 ,   0.   ,   0.   ,\n",
       "          0.   ,   0.   ,   0.   ,   0.   ,   0.64 ,   0.   ,   0.   ,\n",
       "          0.   ,   0.32 ,   0.   ,   1.29 ,   1.93 ,   0.   ,   0.96 ,\n",
       "          0.   ,   0.   ,   0.   ,   0.   ,   0.   ,   0.   ,   0.   ,\n",
       "          0.   ,   0.   ,   0.   ,   0.   ,   0.   ,   0.   ,   0.   ,\n",
       "          0.   ,   0.   ,   0.   ,   0.   ,   0.   ,   0.   ,   0.   ,\n",
       "          0.   ,   0.   ,   0.   ,   0.   ,   0.   ,   0.   ,   0.   ,\n",
       "          0.   ,   0.   ,   0.778,   0.   ,   0.   ,   3.756,  61.   ,\n",
       "        278.   ,   1.   ])]"
      ]
     },
     "execution_count": 146,
     "metadata": {},
     "output_type": "execute_result"
    }
   ],
   "source": [
    "centroidsVec.take(1)"
   ]
  },
  {
   "cell_type": "code",
   "execution_count": 147,
   "metadata": {},
   "outputs": [
    {
     "data": {
      "text/plain": [
       "[array([  0.   ,   0.64 ,   0.64 ,   0.   ,   0.32 ,   0.   ,   0.   ,\n",
       "          0.   ,   0.   ,   0.   ,   0.   ,   0.64 ,   0.   ,   0.   ,\n",
       "          0.   ,   0.32 ,   0.   ,   1.29 ,   1.93 ,   0.   ,   0.96 ,\n",
       "          0.   ,   0.   ,   0.   ,   0.   ,   0.   ,   0.   ,   0.   ,\n",
       "          0.   ,   0.   ,   0.   ,   0.   ,   0.   ,   0.   ,   0.   ,\n",
       "          0.   ,   0.   ,   0.   ,   0.   ,   0.   ,   0.   ,   0.   ,\n",
       "          0.   ,   0.   ,   0.   ,   0.   ,   0.   ,   0.   ,   0.   ,\n",
       "          0.   ,   0.   ,   0.778,   0.   ,   0.   ,   3.756,  61.   ,\n",
       "        278.   ,   1.   ])]"
      ]
     },
     "execution_count": 147,
     "metadata": {},
     "output_type": "execute_result"
    }
   ],
   "source": [
    "initModel.clusterCenters.take(1)"
   ]
  },
  {
   "cell_type": "code",
   "execution_count": 148,
   "metadata": {},
   "outputs": [],
   "source": [
    "lines = sc.textFile('data.txt')\n",
    "dataVec = lines.map(parseVector)"
   ]
  },
  {
   "cell_type": "code",
   "execution_count": 149,
   "metadata": {},
   "outputs": [],
   "source": [
    "model = KMeans.train(sc.parallelize(data), 10, maxIterations=25)"
   ]
  },
  {
   "cell_type": "code",
   "execution_count": 150,
   "metadata": {},
   "outputs": [
    {
     "data": {
      "text/plain": [
       "[array([8.95209400e-02, 2.36613438e-01, 2.45839108e-01, 2.34197047e-02,\n",
       "        2.93395601e-01, 7.74088581e-02, 1.05335945e-01, 8.80717083e-02,\n",
       "        3.22265743e-02, 1.91542633e-01, 4.18288641e-02, 5.13055137e-01,\n",
       "        7.62428442e-02, 3.89002712e-02, 2.10334438e-02, 2.41889123e-01,\n",
       "        1.07222055e-01, 1.59689666e-01, 1.67070202e+00, 4.43989153e-02,\n",
       "        7.27032239e-01, 1.11449232e-02, 6.37933112e-02, 7.19704730e-02,\n",
       "        5.80195842e-01, 3.10253088e-01, 1.04456161e+00, 1.60533293e-01,\n",
       "        1.27972281e-01, 1.30286231e-01, 8.04067490e-02, 6.12955710e-02,\n",
       "        1.05152154e-01, 6.18800844e-02, 1.28481470e-01, 1.14091594e-01,\n",
       "        1.37936125e-01, 1.47333534e-02, 9.89514914e-02, 7.05664357e-02,\n",
       "        5.23742091e-02, 1.67680024e-01, 5.41337752e-02, 1.02322989e-01,\n",
       "        3.85444411e-01, 2.11521543e-01, 4.74841820e-03, 3.49442603e-02,\n",
       "        2.03253992e-02, 1.36536306e-01, 1.58366978e-02, 2.38610124e-01,\n",
       "        4.47432962e-02, 3.08942453e-02, 2.40695390e+00, 1.56869539e+01,\n",
       "        7.21648087e+01, 2.96173546e-01]),\n",
       " array([9.66666667e-02, 1.33333333e-02, 2.00000000e-01, 0.00000000e+00,\n",
       "        1.53333333e-01, 1.33333333e-01, 0.00000000e+00, 9.66666667e-02,\n",
       "        9.66666667e-02, 3.13333333e-01, 6.00000000e-02, 7.33333333e-02,\n",
       "        1.20000000e-01, 0.00000000e+00, 6.33333333e-02, 1.33333333e-02,\n",
       "        1.30000000e-01, 6.33333333e-02, 6.26666667e-01, 1.33333333e-02,\n",
       "        2.76666667e-01, 3.17666667e+00, 2.30000000e-01, 1.83333333e-01,\n",
       "        0.00000000e+00, 0.00000000e+00, 0.00000000e+00, 0.00000000e+00,\n",
       "        0.00000000e+00, 0.00000000e+00, 0.00000000e+00, 0.00000000e+00,\n",
       "        0.00000000e+00, 4.66666667e-02, 0.00000000e+00, 1.33333333e-02,\n",
       "        0.00000000e+00, 0.00000000e+00, 2.66666667e-02, 0.00000000e+00,\n",
       "        0.00000000e+00, 0.00000000e+00, 0.00000000e+00, 0.00000000e+00,\n",
       "        6.33333333e-02, 0.00000000e+00, 0.00000000e+00, 0.00000000e+00,\n",
       "        3.72333333e-01, 9.50000000e-02, 1.40000000e-02, 1.40000000e-01,\n",
       "        3.00000000e-02, 3.66666667e-03, 1.51876667e+01, 4.93000000e+02,\n",
       "        9.11366667e+03, 1.00000000e+00]),\n",
       " array([1.58390805e-01, 1.40114943e-01, 2.93793103e-01, 4.25287356e-03,\n",
       "        2.69540230e-01, 1.04367816e-01, 5.43678161e-02, 1.57931034e-01,\n",
       "        2.90344828e-01, 3.13908046e-01, 1.06206897e-01, 5.05517241e-01,\n",
       "        1.83333333e-01, 1.67356322e-01, 9.12643678e-02, 2.88620690e-01,\n",
       "        1.95172414e-01, 1.76781609e-01, 1.59390805e+00, 8.43678161e-02,\n",
       "        7.99310345e-01, 6.37011494e-01, 2.51149425e-01, 2.09655172e-01,\n",
       "        3.39655172e-01, 1.18620690e-01, 7.81609195e-03, 5.97701149e-03,\n",
       "        7.47126437e-03, 1.39080460e-02, 9.42528736e-03, 0.00000000e+00,\n",
       "        7.94252874e-02, 1.49425287e-03, 1.33333333e-02, 7.59770115e-02,\n",
       "        1.40000000e-01, 5.74712644e-03, 1.90804598e-02, 2.16091954e-02,\n",
       "        1.10344828e-02, 8.39080460e-03, 5.40229885e-03, 1.52873563e-02,\n",
       "        3.33333333e-02, 6.31034483e-02, 1.83908046e-03, 2.44827586e-02,\n",
       "        4.14827586e-02, 1.40022989e-01, 3.05287356e-02, 2.26643678e-01,\n",
       "        1.77333333e-01, 1.11517241e-01, 5.66859770e+00, 1.27988506e+02,\n",
       "        1.69852874e+03, 6.09195402e-01]),\n",
       " array([0.00000e+00, 0.00000e+00, 0.00000e+00, 4.00000e-02, 0.00000e+00,\n",
       "        0.00000e+00, 0.00000e+00, 0.00000e+00, 0.00000e+00, 0.00000e+00,\n",
       "        0.00000e+00, 0.00000e+00, 0.00000e+00, 0.00000e+00, 0.00000e+00,\n",
       "        2.00000e-02, 0.00000e+00, 0.00000e+00, 2.00000e-02, 0.00000e+00,\n",
       "        0.00000e+00, 0.00000e+00, 0.00000e+00, 0.00000e+00, 0.00000e+00,\n",
       "        0.00000e+00, 0.00000e+00, 0.00000e+00, 0.00000e+00, 0.00000e+00,\n",
       "        0.00000e+00, 0.00000e+00, 0.00000e+00, 0.00000e+00, 0.00000e+00,\n",
       "        0.00000e+00, 0.00000e+00, 0.00000e+00, 0.00000e+00, 0.00000e+00,\n",
       "        0.00000e+00, 0.00000e+00, 0.00000e+00, 0.00000e+00, 0.00000e+00,\n",
       "        0.00000e+00, 0.00000e+00, 0.00000e+00, 1.02400e+00, 9.75200e+00,\n",
       "        3.00000e-03, 1.54200e+00, 1.78500e+00, 1.99800e+00, 2.39571e+02,\n",
       "        9.98900e+03, 1.00620e+04, 1.00000e+00]),\n",
       " array([5.0000e-03, 5.0000e-03, 3.5000e-02, 0.0000e+00, 2.5000e-02,\n",
       "        0.0000e+00, 0.0000e+00, 5.0000e-03, 1.5000e-02, 6.5000e-02,\n",
       "        2.5000e-02, 0.0000e+00, 0.0000e+00, 2.5000e-02, 0.0000e+00,\n",
       "        0.0000e+00, 5.0000e-03, 3.5000e-02, 5.0000e-03, 0.0000e+00,\n",
       "        5.0000e-03, 0.0000e+00, 0.0000e+00, 0.0000e+00, 0.0000e+00,\n",
       "        0.0000e+00, 0.0000e+00, 0.0000e+00, 0.0000e+00, 0.0000e+00,\n",
       "        0.0000e+00, 0.0000e+00, 3.5000e-02, 0.0000e+00, 0.0000e+00,\n",
       "        6.5000e-02, 0.0000e+00, 0.0000e+00, 0.0000e+00, 5.0000e-03,\n",
       "        2.3000e-01, 0.0000e+00, 0.0000e+00, 1.5000e-02, 0.0000e+00,\n",
       "        4.0000e-01, 5.0000e-03, 3.5000e-02, 3.6000e-02, 1.6150e-01,\n",
       "        7.5000e-02, 1.2000e-02, 5.6000e-02, 1.2000e-02, 3.0295e+00,\n",
       "        4.3500e+01, 5.6485e+03, 0.0000e+00]),\n",
       " array([3.35781250e-01, 1.97187500e-01, 2.91406250e-01, 6.93750000e-02,\n",
       "        9.12500000e-02, 9.35937500e-02, 1.82812500e-02, 1.48906250e-01,\n",
       "        2.89062500e-01, 4.68906250e-01, 1.69062500e-01, 6.25625000e-01,\n",
       "        3.73437500e-01, 7.21875000e-01, 3.15625000e-02, 1.65468750e-01,\n",
       "        3.02500000e-01, 1.11250000e-01, 2.07781250e+00, 3.67187500e-02,\n",
       "        9.47656250e-01, 2.45312500e-02, 4.59687500e-01, 3.37968750e-01,\n",
       "        1.10156250e-01, 8.59375000e-02, 4.21875000e-03, 1.40625000e-03,\n",
       "        1.87500000e-03, 2.81250000e-03, 0.00000000e+00, 0.00000000e+00,\n",
       "        2.88281250e-01, 0.00000000e+00, 9.37500000e-04, 2.98437500e-02,\n",
       "        1.94218750e-01, 2.34375000e-03, 6.25000000e-03, 2.73437500e-02,\n",
       "        1.34375000e-02, 6.56250000e-03, 4.84375000e-03, 1.34375000e-02,\n",
       "        5.17187500e-02, 3.89062500e-02, 7.34375000e-03, 4.48437500e-02,\n",
       "        3.14218750e-02, 1.13125000e-01, 6.85937500e-03, 2.77593750e-01,\n",
       "        4.00984375e-01, 9.05000000e-02, 6.65045313e+00, 2.86156250e+02,\n",
       "        3.02659375e+03, 7.96875000e-01]),\n",
       " array([1.9000e-01, 0.0000e+00, 3.8000e-01, 0.0000e+00, 0.0000e+00,\n",
       "        1.9000e-01, 0.0000e+00, 0.0000e+00, 0.0000e+00, 0.0000e+00,\n",
       "        1.9000e-01, 1.9000e-01, 0.0000e+00, 0.0000e+00, 0.0000e+00,\n",
       "        3.8000e-01, 0.0000e+00, 1.9000e-01, 1.1400e+00, 0.0000e+00,\n",
       "        3.8000e-01, 0.0000e+00, 0.0000e+00, 0.0000e+00, 0.0000e+00,\n",
       "        0.0000e+00, 0.0000e+00, 0.0000e+00, 0.0000e+00, 0.0000e+00,\n",
       "        0.0000e+00, 0.0000e+00, 0.0000e+00, 0.0000e+00, 0.0000e+00,\n",
       "        0.0000e+00, 0.0000e+00, 0.0000e+00, 0.0000e+00, 0.0000e+00,\n",
       "        0.0000e+00, 0.0000e+00, 0.0000e+00, 0.0000e+00, 0.0000e+00,\n",
       "        0.0000e+00, 0.0000e+00, 0.0000e+00, 1.0000e-02, 1.0000e-02,\n",
       "        0.0000e+00, 0.0000e+00, 0.0000e+00, 3.0000e-03, 2.3830e+00,\n",
       "        2.1000e+01, 1.5841e+04, 1.0000e+00]),\n",
       " array([1.21172596e-01, 1.28524374e-01, 3.29235837e-01, 1.72529644e-01,\n",
       "        3.82898551e-01, 1.23306983e-01, 1.67931489e-01, 1.43570487e-01,\n",
       "        1.57180501e-01, 2.89789196e-01, 9.23978920e-02, 6.09947299e-01,\n",
       "        1.11976285e-01, 4.62055336e-02, 4.35441370e-02, 2.79670619e-01,\n",
       "        2.73662714e-01, 2.07523057e-01, 1.65358366e+00, 1.53465086e-01,\n",
       "        1.00841897e+00, 4.09552042e-01, 1.60843215e-01, 1.17127800e-01,\n",
       "        5.41805007e-01, 1.73346509e-01, 7.00790514e-02, 4.61133070e-02,\n",
       "        3.64031621e-02, 4.16996047e-02, 3.23715415e-02, 1.62318841e-02,\n",
       "        6.28194993e-02, 1.73386034e-02, 4.36231884e-02, 6.62318841e-02,\n",
       "        1.45507246e-01, 1.31884058e-02, 3.33728590e-02, 6.23320158e-02,\n",
       "        2.81027668e-02, 4.45981555e-02, 2.78656126e-02, 2.46376812e-02,\n",
       "        1.11264822e-01, 1.34716733e-01, 8.35309618e-03, 2.41238472e-02,\n",
       "        1.06781291e-01, 1.48127800e-01, 1.77483531e-02, 2.74907773e-01,\n",
       "        1.17542819e-01, 8.19749671e-02, 6.56897101e+00, 6.91528327e+01,\n",
       "        3.91198946e+02, 5.98155468e-01]),\n",
       " array([1.50719178e-01, 2.06780822e-01, 4.14931507e-01, 2.67602740e-01,\n",
       "        3.18253425e-01, 1.33698630e-01, 8.00342466e-02, 1.66575342e-01,\n",
       "        3.54143836e-01, 5.15034247e-01, 1.05102740e-01, 6.61198630e-01,\n",
       "        1.48698630e-01, 1.32431507e-01, 1.61404110e-01, 2.48458904e-01,\n",
       "        1.60410959e-01, 2.95205479e-01, 1.57791096e+00, 2.08458904e-01,\n",
       "        1.15691781e+00, 4.69623288e-01, 1.56438356e-01, 1.87602740e-01,\n",
       "        5.18287671e-01, 1.50068493e-01, 2.69520548e-02, 1.88698630e-02,\n",
       "        6.74657534e-03, 2.45890411e-02, 1.94178082e-02, 2.43150685e-03,\n",
       "        8.52054795e-02, 3.08219178e-03, 8.15753425e-02, 3.71917808e-02,\n",
       "        1.23356164e-01, 4.04109589e-03, 2.01369863e-02, 3.57876712e-02,\n",
       "        1.18835616e-02, 5.94520548e-02, 1.57534247e-02, 1.04452055e-02,\n",
       "        4.38013699e-02, 4.06164384e-02, 7.91095890e-03, 2.48972603e-02,\n",
       "        7.03904110e-02, 1.31523973e-01, 2.98219178e-02, 5.62328767e-01,\n",
       "        1.93386986e-01, 6.72294521e-02, 7.37083562e+00, 1.28243151e+02,\n",
       "        8.89383562e+02, 6.67808219e-01]),\n",
       " array([1.66986301e-01, 1.63972603e-01, 8.08904110e-01, 1.28082192e-01,\n",
       "        6.76849315e-01, 4.93561644e-01, 2.62054795e-01, 1.50273973e-01,\n",
       "        5.56849315e-01, 5.07945205e-01, 2.07123288e-01, 6.72465753e-01,\n",
       "        1.43835616e-01, 8.32876712e-02, 9.07534247e-01, 2.89863014e-01,\n",
       "        1.21643836e-01, 7.30684932e-01, 1.53068493e+00, 8.12328767e-01,\n",
       "        1.06945205e+00, 8.43835616e-02, 4.96164384e-01, 1.47397260e-01,\n",
       "        4.69863014e-02, 1.23287671e-03, 2.00000000e-02, 6.57534247e-03,\n",
       "        0.00000000e+00, 7.94520548e-03, 0.00000000e+00, 0.00000000e+00,\n",
       "        4.93150685e-03, 5.20547945e-03, 5.75342466e-03, 0.00000000e+00,\n",
       "        1.69863014e-02, 0.00000000e+00, 0.00000000e+00, 3.68493151e-02,\n",
       "        0.00000000e+00, 0.00000000e+00, 8.08219178e-02, 1.09589041e-02,\n",
       "        4.10958904e-02, 3.34246575e-02, 0.00000000e+00, 0.00000000e+00,\n",
       "        7.91780822e-03, 8.06712329e-02, 1.02739726e-03, 4.61958904e-01,\n",
       "        1.58082192e-01, 2.22191781e-02, 1.03383219e+02, 7.81136986e+02,\n",
       "        1.38717808e+03, 9.86301370e-01])]"
      ]
     },
     "execution_count": 150,
     "metadata": {},
     "output_type": "execute_result"
    }
   ],
   "source": [
    "model.clusterCenters"
   ]
  },
  {
   "cell_type": "code",
   "execution_count": 158,
   "metadata": {
    "scrolled": true
   },
   "outputs": [
    {
     "ename": "TypeError",
     "evalue": "'RDD' object is not iterable",
     "output_type": "error",
     "traceback": [
      "\u001b[0;31m---------------------------------------------------------------------------\u001b[0m",
      "\u001b[0;31mTypeError\u001b[0m                                 Traceback (most recent call last)",
      "\u001b[0;32m<ipython-input-158-2c87cbbc9b84>\u001b[0m in \u001b[0;36m<module>\u001b[0;34m\u001b[0m\n\u001b[0;32m----> 1\u001b[0;31m \u001b[0mmodel\u001b[0m \u001b[0;34m=\u001b[0m \u001b[0mKMeans\u001b[0m\u001b[0;34m.\u001b[0m\u001b[0mtrain\u001b[0m\u001b[0;34m(\u001b[0m\u001b[0mdataVec\u001b[0m\u001b[0;34m,\u001b[0m \u001b[0mk\u001b[0m\u001b[0;34m=\u001b[0m\u001b[0;36m10\u001b[0m\u001b[0;34m,\u001b[0m \u001b[0mmaxIterations\u001b[0m\u001b[0;34m=\u001b[0m\u001b[0;36m25\u001b[0m\u001b[0;34m,\u001b[0m \u001b[0minitializationSteps\u001b[0m\u001b[0;34m=\u001b[0m\u001b[0;36m0\u001b[0m\u001b[0;34m,\u001b[0m \u001b[0minitialModel\u001b[0m\u001b[0;34m=\u001b[0m\u001b[0minitialModel\u001b[0m\u001b[0;34m)\u001b[0m\u001b[0;34m\u001b[0m\u001b[0;34m\u001b[0m\u001b[0m\n\u001b[0m",
      "\u001b[0;32m~/GitHub/tcss551-Sp2019/Assgn5/spark-2.4.2-bin-hadoop2.7/python/pyspark/mllib/clustering.py\u001b[0m in \u001b[0;36mtrain\u001b[0;34m(cls, rdd, k, maxIterations, runs, initializationMode, seed, initializationSteps, epsilon, initialModel)\u001b[0m\n\u001b[1;32m    351\u001b[0m                 raise Exception(\"initialModel is of \"+str(type(initialModel))+\". It needs \"\n\u001b[1;32m    352\u001b[0m                                 \"to be of <type 'KMeansModel'>\")\n\u001b[0;32m--> 353\u001b[0;31m             \u001b[0mclusterInitialModel\u001b[0m \u001b[0;34m=\u001b[0m \u001b[0;34m[\u001b[0m\u001b[0m_convert_to_vector\u001b[0m\u001b[0;34m(\u001b[0m\u001b[0mc\u001b[0m\u001b[0;34m)\u001b[0m \u001b[0;32mfor\u001b[0m \u001b[0mc\u001b[0m \u001b[0;32min\u001b[0m \u001b[0minitialModel\u001b[0m\u001b[0;34m.\u001b[0m\u001b[0mclusterCenters\u001b[0m\u001b[0;34m]\u001b[0m\u001b[0;34m\u001b[0m\u001b[0;34m\u001b[0m\u001b[0m\n\u001b[0m\u001b[1;32m    354\u001b[0m         model = callMLlibFunc(\"trainKMeansModel\", rdd.map(_convert_to_vector), k, maxIterations,\n\u001b[1;32m    355\u001b[0m                               \u001b[0mruns\u001b[0m\u001b[0;34m,\u001b[0m \u001b[0minitializationMode\u001b[0m\u001b[0;34m,\u001b[0m \u001b[0mseed\u001b[0m\u001b[0;34m,\u001b[0m \u001b[0minitializationSteps\u001b[0m\u001b[0;34m,\u001b[0m \u001b[0mepsilon\u001b[0m\u001b[0;34m,\u001b[0m\u001b[0;34m\u001b[0m\u001b[0;34m\u001b[0m\u001b[0m\n",
      "\u001b[0;31mTypeError\u001b[0m: 'RDD' object is not iterable"
     ]
    }
   ],
   "source": [
    "model = KMeans.train(dataVec, k=10, maxIterations=25, initializationSteps=0, initialModel=initialModel)"
   ]
  },
  {
   "cell_type": "code",
   "execution_count": 155,
   "metadata": {},
   "outputs": [
    {
     "ename": "AttributeError",
     "evalue": "'KMeans' object has no attribute 'setK'",
     "output_type": "error",
     "traceback": [
      "\u001b[0;31m---------------------------------------------------------------------------\u001b[0m",
      "\u001b[0;31mAttributeError\u001b[0m                            Traceback (most recent call last)",
      "\u001b[0;32m<ipython-input-155-92e9de0a274f>\u001b[0m in \u001b[0;36m<module>\u001b[0;34m\u001b[0m\n\u001b[0;32m----> 1\u001b[0;31m \u001b[0mmodel\u001b[0m \u001b[0;34m=\u001b[0m \u001b[0mKMeans\u001b[0m\u001b[0;34m(\u001b[0m\u001b[0;34m)\u001b[0m\u001b[0;34m.\u001b[0m\u001b[0msetK\u001b[0m\u001b[0;34m(\u001b[0m\u001b[0;36m3\u001b[0m\u001b[0;34m)\u001b[0m\u001b[0;34m\u001b[0m\u001b[0;34m\u001b[0m\u001b[0m\n\u001b[0m",
      "\u001b[0;31mAttributeError\u001b[0m: 'KMeans' object has no attribute 'setK'"
     ]
    }
   ],
   "source": [
    "model = KMeans().setK(3)"
   ]
  },
  {
   "cell_type": "code",
   "execution_count": 154,
   "metadata": {},
   "outputs": [
    {
     "ename": "AttributeError",
     "evalue": "'KMeans' object has no attribute 'setK'",
     "output_type": "error",
     "traceback": [
      "\u001b[0;31m---------------------------------------------------------------------------\u001b[0m",
      "\u001b[0;31mAttributeError\u001b[0m                            Traceback (most recent call last)",
      "\u001b[0;32m<ipython-input-154-bf0fc169b43b>\u001b[0m in \u001b[0;36m<module>\u001b[0;34m\u001b[0m\n\u001b[0;32m----> 1\u001b[0;31m \u001b[0mmodel\u001b[0m\u001b[0;34m.\u001b[0m\u001b[0msetK\u001b[0m\u001b[0;34m(\u001b[0m\u001b[0;36m25\u001b[0m\u001b[0;34m)\u001b[0m\u001b[0;34m\u001b[0m\u001b[0;34m\u001b[0m\u001b[0m\n\u001b[0m",
      "\u001b[0;31mAttributeError\u001b[0m: 'KMeans' object has no attribute 'setK'"
     ]
    }
   ],
   "source": [
    "model.setK(25)"
   ]
  },
  {
   "cell_type": "code",
   "execution_count": null,
   "metadata": {},
   "outputs": [],
   "source": [
    "model.clusterCenters"
   ]
  },
  {
   "cell_type": "code",
   "execution_count": 159,
   "metadata": {},
   "outputs": [],
   "source": [
    "theData = np.array([-383.1,-382.9,28.7,31.2,366.2,367.3]).reshape(3,2)"
   ]
  },
  {
   "cell_type": "code",
   "execution_count": 161,
   "metadata": {},
   "outputs": [],
   "source": [
    "model = KMeans.train(sc.parallelize(theData), 3, maxIterations=0, initialModel = KMeansModel([(-1000.0,-1000.0),(5.0,5.0),(1000.0,1000.0)]))"
   ]
  },
  {
   "cell_type": "code",
   "execution_count": 162,
   "metadata": {},
   "outputs": [],
   "source": [
    "test = [-1000.0,-1000.0,5.0,5.0,1000.0,1000.0]"
   ]
  },
  {
   "cell_type": "code",
   "execution_count": 165,
   "metadata": {},
   "outputs": [
    {
     "data": {
      "text/plain": [
       "array([[-1000., -1000.],\n",
       "       [    5.,     5.],\n",
       "       [ 1000.,  1000.]])"
      ]
     },
     "execution_count": 165,
     "metadata": {},
     "output_type": "execute_result"
    }
   ],
   "source": [
    "test = np.asarray(test)\n",
    "test = test.reshape(3,2)\n",
    "test"
   ]
  },
  {
   "cell_type": "code",
   "execution_count": null,
   "metadata": {},
   "outputs": [],
   "source": []
  }
 ],
 "metadata": {
  "kernelspec": {
   "display_name": "Python 3",
   "language": "python",
   "name": "python3"
  },
  "language_info": {
   "codemirror_mode": {
    "name": "ipython",
    "version": 3
   },
   "file_extension": ".py",
   "mimetype": "text/x-python",
   "name": "python",
   "nbconvert_exporter": "python",
   "pygments_lexer": "ipython3",
   "version": "3.7.3"
  }
 },
 "nbformat": 4,
 "nbformat_minor": 2
}
