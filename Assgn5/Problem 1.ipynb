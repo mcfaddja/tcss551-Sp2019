{
 "cells": [
  {
   "cell_type": "markdown",
   "metadata": {},
   "source": [
    "# Problem 1\n",
    "\n",
    "Import libraries"
   ]
  },
  {
   "cell_type": "code",
   "execution_count": 1,
   "metadata": {},
   "outputs": [],
   "source": [
    "import csv\n",
    "import numpy as np\n",
    "from numpy.linalg import norm"
   ]
  },
  {
   "cell_type": "markdown",
   "metadata": {},
   "source": [
    "Define some functions"
   ]
  },
  {
   "cell_type": "code",
   "execution_count": 2,
   "metadata": {},
   "outputs": [],
   "source": [
    "def parseVector(line):\n",
    "    return np.array([float(x) for x in line.split(' ')])\n",
    "\n",
    "\n",
    "def closestPoint(p, centers):\n",
    "    bestI = 0\n",
    "    closest = float(\"+inf\")\n",
    "    \n",
    "    for i in range(len(centers)):\n",
    "        temp = np.sum((p - centers[i]) ** 2)\n",
    "        \n",
    "        if temp < closest:\n",
    "                closest = temp\n",
    "                bestI = i\n",
    "                \n",
    "    return bestI\n",
    "\n",
    "\n",
    "def bestPoint(vecIN, centersIN):\n",
    "    closestDist = np.inf\n",
    "    bestInd = 0\n",
    "    \n",
    "    for i in range(len(centersIN)):\n",
    "        dist = norm(vecIN - centersIN[i])\n",
    "        \n",
    "        if dist < closestDist:\n",
    "            closestDist = dist\n",
    "            bestInd = i\n",
    "            \n",
    "    return bestInd"
   ]
  },
  {
   "cell_type": "markdown",
   "metadata": {},
   "source": [
    "Import Spark"
   ]
  },
  {
   "cell_type": "code",
   "execution_count": 3,
   "metadata": {},
   "outputs": [],
   "source": [
    "# import os\n",
    "# import findspark\n",
    "# os.environ[\"PYSPARK_PYTHON\"] = \"python3\"\n",
    "# findspark.init(\"spark-2.4.2-bin-hadoop2.7/\",)"
   ]
  },
  {
   "cell_type": "markdown",
   "metadata": {},
   "source": [
    "Initialize Spark"
   ]
  },
  {
   "cell_type": "code",
   "execution_count": 4,
   "metadata": {},
   "outputs": [],
   "source": [
    "# from pyspark.sql import SparkSession\n",
    "\n",
    "# spark = (\n",
    "#     SparkSession.builder\n",
    "#         .master(\"local[*]\")\n",
    "#         .appName(\"LectureExample\")\n",
    "#         .getOrCreate()\n",
    "# )\n",
    "\n",
    "# sc = spark.sparkContext"
   ]
  },
  {
   "cell_type": "markdown",
   "metadata": {},
   "source": [
    "### Import files"
   ]
  },
  {
   "cell_type": "code",
   "execution_count": 5,
   "metadata": {},
   "outputs": [],
   "source": [
    "dataList = []\n",
    "\n",
    "with open('data.txt') as dataFile:\n",
    "    dataReader = csv.reader(dataFile, delimiter = ' ')\n",
    "    \n",
    "    for row in dataReader:\n",
    "        dataList.append(row)"
   ]
  },
  {
   "cell_type": "code",
   "execution_count": 6,
   "metadata": {},
   "outputs": [],
   "source": [
    "data = np.asarray(dataList)"
   ]
  },
  {
   "cell_type": "code",
   "execution_count": 7,
   "metadata": {},
   "outputs": [],
   "source": [
    "centroidList = []\n",
    "\n",
    "with open('c1.txt') as centroidFile:\n",
    "    centroidReader = csv.reader(centroidFile, delimiter = ' ')\n",
    "    \n",
    "    for row in centroidReader:\n",
    "        centroidList.append(row)"
   ]
  },
  {
   "cell_type": "code",
   "execution_count": 8,
   "metadata": {},
   "outputs": [],
   "source": [
    "centroids = np.asarray(centroidList)"
   ]
  },
  {
   "cell_type": "code",
   "execution_count": 9,
   "metadata": {},
   "outputs": [],
   "source": [
    "# lines0 = sc.textFile('c1.txt')\n",
    "# centroidsVec = lines0.map(parseVector)"
   ]
  },
  {
   "cell_type": "code",
   "execution_count": 10,
   "metadata": {},
   "outputs": [],
   "source": [
    "# lines1 = sc.textFile('data.txt')\n",
    "# data = lines1.map(parseVector)"
   ]
  },
  {
   "cell_type": "code",
   "execution_count": 11,
   "metadata": {},
   "outputs": [],
   "source": [
    "# data.take(67)"
   ]
  },
  {
   "cell_type": "markdown",
   "metadata": {},
   "source": [
    "## Crunch the numbers"
   ]
  },
  {
   "cell_type": "code",
   "execution_count": null,
   "metadata": {},
   "outputs": [],
   "source": []
  },
  {
   "cell_type": "code",
   "execution_count": null,
   "metadata": {
    "scrolled": true
   },
   "outputs": [],
   "source": []
  },
  {
   "cell_type": "code",
   "execution_count": null,
   "metadata": {},
   "outputs": [],
   "source": []
  },
  {
   "cell_type": "code",
   "execution_count": null,
   "metadata": {},
   "outputs": [],
   "source": []
  },
  {
   "cell_type": "code",
   "execution_count": null,
   "metadata": {},
   "outputs": [],
   "source": []
  }
 ],
 "metadata": {
  "kernelspec": {
   "display_name": "Python 3",
   "language": "python",
   "name": "python3"
  },
  "language_info": {
   "codemirror_mode": {
    "name": "ipython",
    "version": 3
   },
   "file_extension": ".py",
   "mimetype": "text/x-python",
   "name": "python",
   "nbconvert_exporter": "python",
   "pygments_lexer": "ipython3",
   "version": "3.7.3"
  }
 },
 "nbformat": 4,
 "nbformat_minor": 2
}
