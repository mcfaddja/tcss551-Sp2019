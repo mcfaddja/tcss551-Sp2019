{
 "cells": [
  {
   "cell_type": "markdown",
   "metadata": {},
   "source": [
    "# Assignment 5 - Problem 1"
   ]
  },
  {
   "cell_type": "code",
   "execution_count": 134,
   "metadata": {},
   "outputs": [],
   "source": [
    "import csv\n",
    "\n",
    "import numpy as np\n",
    "\n",
    "import pandas as pd"
   ]
  },
  {
   "cell_type": "code",
   "execution_count": 135,
   "metadata": {},
   "outputs": [],
   "source": [
    "dataList = []\n",
    "\n",
    "with open('data.txt') as dataFile:\n",
    "    dataReader = csv.reader(dataFile, delimiter = ' ')\n",
    "    \n",
    "    for row in dataReader:\n",
    "        dataList.append(row)"
   ]
  },
  {
   "cell_type": "code",
   "execution_count": 136,
   "metadata": {},
   "outputs": [
    {
     "data": {
      "text/plain": [
       "4601"
      ]
     },
     "execution_count": 136,
     "metadata": {},
     "output_type": "execute_result"
    }
   ],
   "source": [
    "len(dataList)"
   ]
  },
  {
   "cell_type": "code",
   "execution_count": 137,
   "metadata": {},
   "outputs": [],
   "source": [
    "data = np.asarray(dataList)\n",
    "# data = pd.DataFrame(data=data)"
   ]
  },
  {
   "cell_type": "code",
   "execution_count": 138,
   "metadata": {},
   "outputs": [],
   "source": [
    "with open('data.csv', 'w') as dataCSV:\n",
    "    writer = csv.writer(dataCSV)\n",
    "    writer.writerows(data)"
   ]
  },
  {
   "cell_type": "code",
   "execution_count": 139,
   "metadata": {},
   "outputs": [],
   "source": [
    "centroidList = []\n",
    "\n",
    "with open('c1.txt') as centroidFile:\n",
    "    centroidReader = csv.reader(centroidFile, delimiter = ' ')\n",
    "    \n",
    "    for row in centroidReader:\n",
    "        centroidList.append(row)"
   ]
  },
  {
   "cell_type": "code",
   "execution_count": 140,
   "metadata": {},
   "outputs": [
    {
     "data": {
      "text/plain": [
       "10"
      ]
     },
     "execution_count": 140,
     "metadata": {},
     "output_type": "execute_result"
    }
   ],
   "source": [
    "len(centroidList)"
   ]
  },
  {
   "cell_type": "code",
   "execution_count": 141,
   "metadata": {},
   "outputs": [],
   "source": [
    "centroids = np.asarray(centroidList)"
   ]
  },
  {
   "cell_type": "markdown",
   "metadata": {},
   "source": [
    "## Create clusters"
   ]
  },
  {
   "cell_type": "code",
   "execution_count": 142,
   "metadata": {},
   "outputs": [],
   "source": [
    "import os\n",
    "import findspark\n",
    "os.environ[\"PYSPARK_PYTHON\"] = \"python3\"\n",
    "findspark.init(\"spark-2.4.2-bin-hadoop2.7/\",)\n",
    "\n",
    "from pyspark.mllib.clustering import KMeansModel, KMeans\n",
    "# from pyspark.ml.feature import VectorAssembler\n",
    "from pyspark.ml.linalg import Vectors\n",
    "\n",
    "from pyspark.sql import SparkSession, DataFrameReader\n",
    "\n",
    "spark = (\n",
    "    SparkSession.builder\n",
    "        .master(\"local[*]\")\n",
    "        .appName(\"LectureExample\")\n",
    "        .getOrCreate()\n",
    ")\n",
    "sc = spark.sparkContext\n",
    "\n",
    "def parseVector(line):\n",
    "    return np.array([float(x) for x in line.split(' ')])"
   ]
  },
  {
   "cell_type": "code",
   "execution_count": null,
   "metadata": {},
   "outputs": [],
   "source": []
  },
  {
   "cell_type": "code",
   "execution_count": 143,
   "metadata": {},
   "outputs": [],
   "source": [
    "initialModel = KMeansModel(sc.parallelize(centroids))"
   ]
  },
  {
   "cell_type": "code",
   "execution_count": null,
   "metadata": {},
   "outputs": [],
   "source": []
  },
  {
   "cell_type": "code",
   "execution_count": 144,
   "metadata": {},
   "outputs": [],
   "source": [
    "lines = sc.textFile('c1.txt')\n",
    "centroidsVec = lines.map(parseVector)\n",
    "\n",
    "initModel = KMeansModel(centroidsVec)"
   ]
  },
  {
   "cell_type": "code",
   "execution_count": 145,
   "metadata": {},
   "outputs": [
    {
     "ename": "AttributeError",
     "evalue": "'KMeansModel' object has no attribute 'train'",
     "output_type": "error",
     "traceback": [
      "\u001b[0;31m---------------------------------------------------------------------------\u001b[0m",
      "\u001b[0;31mAttributeError\u001b[0m                            Traceback (most recent call last)",
      "\u001b[0;32m<ipython-input-145-c31989b0a0d7>\u001b[0m in \u001b[0;36m<module>\u001b[0;34m\u001b[0m\n\u001b[0;32m----> 1\u001b[0;31m \u001b[0minitModel\u001b[0m\u001b[0;34m.\u001b[0m\u001b[0mtrain\u001b[0m\u001b[0;34m(\u001b[0m\u001b[0msc\u001b[0m\u001b[0;34m.\u001b[0m\u001b[0mparallelize\u001b[0m\u001b[0;34m(\u001b[0m\u001b[0mdata\u001b[0m\u001b[0;34m)\u001b[0m\u001b[0;34m,\u001b[0m \u001b[0;36m10\u001b[0m\u001b[0;34m,\u001b[0m \u001b[0mmaxIterations\u001b[0m\u001b[0;34m=\u001b[0m\u001b[0;36m25\u001b[0m\u001b[0;34m)\u001b[0m\u001b[0;34m\u001b[0m\u001b[0;34m\u001b[0m\u001b[0m\n\u001b[0m",
      "\u001b[0;31mAttributeError\u001b[0m: 'KMeansModel' object has no attribute 'train'"
     ]
    }
   ],
   "source": [
    "initModel.train(sc.parallelize(data), 10, maxIterations=25)"
   ]
  },
  {
   "cell_type": "code",
   "execution_count": 146,
   "metadata": {},
   "outputs": [
    {
     "data": {
      "text/plain": [
       "[array([  0.   ,   0.64 ,   0.64 ,   0.   ,   0.32 ,   0.   ,   0.   ,\n",
       "          0.   ,   0.   ,   0.   ,   0.   ,   0.64 ,   0.   ,   0.   ,\n",
       "          0.   ,   0.32 ,   0.   ,   1.29 ,   1.93 ,   0.   ,   0.96 ,\n",
       "          0.   ,   0.   ,   0.   ,   0.   ,   0.   ,   0.   ,   0.   ,\n",
       "          0.   ,   0.   ,   0.   ,   0.   ,   0.   ,   0.   ,   0.   ,\n",
       "          0.   ,   0.   ,   0.   ,   0.   ,   0.   ,   0.   ,   0.   ,\n",
       "          0.   ,   0.   ,   0.   ,   0.   ,   0.   ,   0.   ,   0.   ,\n",
       "          0.   ,   0.   ,   0.778,   0.   ,   0.   ,   3.756,  61.   ,\n",
       "        278.   ,   1.   ])]"
      ]
     },
     "execution_count": 146,
     "metadata": {},
     "output_type": "execute_result"
    }
   ],
   "source": [
    "centroidsVec.take(1)"
   ]
  },
  {
   "cell_type": "code",
   "execution_count": 147,
   "metadata": {},
   "outputs": [
    {
     "data": {
      "text/plain": [
       "[array([  0.   ,   0.64 ,   0.64 ,   0.   ,   0.32 ,   0.   ,   0.   ,\n",
       "          0.   ,   0.   ,   0.   ,   0.   ,   0.64 ,   0.   ,   0.   ,\n",
       "          0.   ,   0.32 ,   0.   ,   1.29 ,   1.93 ,   0.   ,   0.96 ,\n",
       "          0.   ,   0.   ,   0.   ,   0.   ,   0.   ,   0.   ,   0.   ,\n",
       "          0.   ,   0.   ,   0.   ,   0.   ,   0.   ,   0.   ,   0.   ,\n",
       "          0.   ,   0.   ,   0.   ,   0.   ,   0.   ,   0.   ,   0.   ,\n",
       "          0.   ,   0.   ,   0.   ,   0.   ,   0.   ,   0.   ,   0.   ,\n",
       "          0.   ,   0.   ,   0.778,   0.   ,   0.   ,   3.756,  61.   ,\n",
       "        278.   ,   1.   ])]"
      ]
     },
     "execution_count": 147,
     "metadata": {},
     "output_type": "execute_result"
    }
   ],
   "source": [
    "initModel.clusterCenters.take(1)"
   ]
  },
  {
   "cell_type": "code",
   "execution_count": 148,
   "metadata": {},
   "outputs": [],
   "source": [
    "lines = sc.textFile('data.txt')\n",
    "dataVec = lines.map(parseVector)"
   ]
  },
  {
   "cell_type": "code",
   "execution_count": 166,
   "metadata": {},
   "outputs": [
    {
     "data": {
      "text/plain": [
       "[array([  0.   ,   0.64 ,   0.64 ,   0.   ,   0.32 ,   0.   ,   0.   ,\n",
       "          0.   ,   0.   ,   0.   ,   0.   ,   0.64 ,   0.   ,   0.   ,\n",
       "          0.   ,   0.32 ,   0.   ,   1.29 ,   1.93 ,   0.   ,   0.96 ,\n",
       "          0.   ,   0.   ,   0.   ,   0.   ,   0.   ,   0.   ,   0.   ,\n",
       "          0.   ,   0.   ,   0.   ,   0.   ,   0.   ,   0.   ,   0.   ,\n",
       "          0.   ,   0.   ,   0.   ,   0.   ,   0.   ,   0.   ,   0.   ,\n",
       "          0.   ,   0.   ,   0.   ,   0.   ,   0.   ,   0.   ,   0.   ,\n",
       "          0.   ,   0.   ,   0.778,   0.   ,   0.   ,   3.756,  61.   ,\n",
       "        278.   ,   1.   ])]"
      ]
     },
     "execution_count": 166,
     "metadata": {},
     "output_type": "execute_result"
    }
   ],
   "source": [
    "dataVec.take(1)"
   ]
  },
  {
   "cell_type": "code",
   "execution_count": 177,
   "metadata": {},
   "outputs": [],
   "source": [
    "model = KMeans.train(sc.parallelize(data), 10, maxIterations=5)"
   ]
  },
  {
   "cell_type": "code",
   "execution_count": 178,
   "metadata": {},
   "outputs": [
    {
     "data": {
      "text/plain": [
       "[array([8.92924385e-02, 2.37327665e-01, 2.43607653e-01, 2.36046159e-02,\n",
       "        2.90655937e-01, 7.73519587e-02, 1.04382022e-01, 8.62192530e-02,\n",
       "        3.24810203e-02, 1.90907987e-01, 4.16003644e-02, 5.13367750e-01,\n",
       "        7.56969329e-02, 3.91557850e-02, 2.11478895e-02, 2.40097176e-01,\n",
       "        1.03710902e-01, 1.57090799e-01, 1.66877619e+00, 4.43121773e-02,\n",
       "        7.22481020e-01, 1.09899787e-02, 6.28454297e-02, 7.21317947e-02,\n",
       "        5.82098391e-01, 3.11743091e-01, 1.05266019e+00, 1.61618585e-01,\n",
       "        1.28909809e-01, 1.31190404e-01, 8.09687215e-02, 6.17066505e-02,\n",
       "        1.05870027e-01, 6.22957789e-02, 1.29280292e-01, 1.14676587e-01,\n",
       "        1.37922867e-01, 1.43880960e-02, 9.93926511e-02, 7.09110234e-02,\n",
       "        5.27269967e-02, 1.68967507e-01, 5.41147889e-02, 1.02499241e-01,\n",
       "        3.87540237e-01, 2.12878834e-01, 4.78590951e-03, 3.50865472e-02,\n",
       "        2.03698755e-02, 1.36986942e-01, 1.59134528e-02, 2.37080474e-01,\n",
       "        4.42760401e-02, 3.10665047e-02, 2.39519648e+00, 1.54120862e+01,\n",
       "        7.09571819e+01, 2.93045855e-01]),\n",
       " array([3.02708333e-01, 1.42708333e-01, 2.77291667e-01, 0.00000000e+00,\n",
       "        7.68750000e-02, 1.08541667e-01, 1.72916667e-02, 1.40625000e-01,\n",
       "        2.21458333e-01, 4.09791667e-01, 1.43750000e-01, 6.08125000e-01,\n",
       "        3.34166667e-01, 6.39166667e-01, 2.89583333e-02, 1.54583333e-01,\n",
       "        2.77083333e-01, 1.12083333e-01, 1.83000000e+00, 4.72916667e-02,\n",
       "        8.54375000e-01, 2.31250000e-01, 4.48541667e-01, 2.88125000e-01,\n",
       "        9.31250000e-02, 5.91666667e-02, 4.37500000e-03, 1.45833333e-03,\n",
       "        1.87500000e-03, 3.75000000e-03, 0.00000000e+00, 0.00000000e+00,\n",
       "        2.77708333e-01, 2.91666667e-03, 0.00000000e+00, 2.85416667e-02,\n",
       "        1.51250000e-01, 1.45833333e-03, 7.91666667e-03, 1.45833333e-02,\n",
       "        2.14583333e-02, 7.29166667e-03, 4.37500000e-03, 1.56250000e-02,\n",
       "        4.18750000e-02, 4.75000000e-02, 8.95833333e-03, 3.85416667e-02,\n",
       "        4.38750000e-02, 1.14270833e-01, 8.25000000e-03, 2.39312500e-01,\n",
       "        3.22520833e-01, 8.30000000e-02, 5.91431250e+00, 2.03854167e+02,\n",
       "        3.73468750e+03, 7.70833333e-01]),\n",
       " array([1.29333333e-01, 1.05259259e-01, 2.98592593e-01, 1.45407407e-01,\n",
       "        2.88296296e-01, 9.88148148e-02, 7.79259259e-02, 1.29629630e-01,\n",
       "        3.70074074e-01, 3.54740741e-01, 8.97037037e-02, 5.02000000e-01,\n",
       "        1.30740741e-01, 1.04074074e-01, 7.59259259e-02, 3.02296296e-01,\n",
       "        1.05111111e-01, 2.75111111e-01, 1.50207407e+00, 2.00592593e-01,\n",
       "        9.07555556e-01, 9.89555556e-01, 1.51777778e-01, 1.70814815e-01,\n",
       "        3.17333333e-01, 1.52074074e-01, 2.26666667e-02, 1.45925926e-02,\n",
       "        4.59259259e-03, 1.68148148e-02, 2.49629630e-02, 6.66666667e-04,\n",
       "        6.84444444e-02, 1.62962963e-03, 1.10518519e-01, 4.45925926e-02,\n",
       "        1.58962963e-01, 3.85185185e-03, 2.15555556e-02, 3.13333333e-02,\n",
       "        6.29629630e-03, 3.18518519e-02, 5.11111111e-03, 1.67407407e-02,\n",
       "        3.45185185e-02, 4.00000000e-02, 1.11851852e-02, 2.86666667e-02,\n",
       "        4.78740741e-02, 1.32014815e-01, 4.24814815e-02, 2.78548148e-01,\n",
       "        1.61881481e-01, 1.14185185e-01, 5.70905185e+00, 9.71333333e+01,\n",
       "        1.28460000e+03, 6.22222222e-01]),\n",
       " array([0.00000e+00, 0.00000e+00, 0.00000e+00, 4.00000e-02, 0.00000e+00,\n",
       "        0.00000e+00, 0.00000e+00, 0.00000e+00, 0.00000e+00, 0.00000e+00,\n",
       "        0.00000e+00, 0.00000e+00, 0.00000e+00, 0.00000e+00, 0.00000e+00,\n",
       "        2.00000e-02, 0.00000e+00, 0.00000e+00, 2.00000e-02, 0.00000e+00,\n",
       "        0.00000e+00, 0.00000e+00, 0.00000e+00, 0.00000e+00, 0.00000e+00,\n",
       "        0.00000e+00, 0.00000e+00, 0.00000e+00, 0.00000e+00, 0.00000e+00,\n",
       "        0.00000e+00, 0.00000e+00, 0.00000e+00, 0.00000e+00, 0.00000e+00,\n",
       "        0.00000e+00, 0.00000e+00, 0.00000e+00, 0.00000e+00, 0.00000e+00,\n",
       "        0.00000e+00, 0.00000e+00, 0.00000e+00, 0.00000e+00, 0.00000e+00,\n",
       "        0.00000e+00, 0.00000e+00, 0.00000e+00, 1.02400e+00, 9.75200e+00,\n",
       "        3.00000e-03, 1.54200e+00, 1.78500e+00, 1.99800e+00, 2.39571e+02,\n",
       "        9.98900e+03, 1.00620e+04, 1.00000e+00]),\n",
       " array([2.55800e-01, 2.23200e-01, 2.92800e-01, 9.00000e-02, 2.21800e-01,\n",
       "        7.40000e-02, 3.70000e-02, 1.46800e-01, 3.26400e-01, 4.30200e-01,\n",
       "        1.70800e-01, 5.33400e-01, 3.04000e-01, 5.49600e-01, 6.88000e-02,\n",
       "        2.44200e-01, 2.82200e-01, 1.25400e-01, 2.01820e+00, 3.74000e-02,\n",
       "        9.02400e-01, 5.20000e-02, 3.19400e-01, 3.06600e-01, 3.51400e-01,\n",
       "        8.50000e-02, 3.20000e-03, 8.00000e-04, 3.00000e-03, 1.06000e-02,\n",
       "        0.00000e+00, 0.00000e+00, 1.69000e-01, 0.00000e+00, 6.20000e-03,\n",
       "        5.50000e-02, 1.61400e-01, 2.20000e-03, 7.60000e-03, 3.80000e-02,\n",
       "        2.00000e-02, 4.80000e-03, 8.40000e-03, 1.64000e-02, 5.24000e-02,\n",
       "        7.76000e-02, 3.00000e-03, 4.06000e-02, 3.41400e-02, 1.06300e-01,\n",
       "        1.66400e-02, 2.94060e-01, 3.36160e-01, 8.43000e-02, 7.08402e+00,\n",
       "        2.87580e+02, 2.27690e+03, 7.20000e-01]),\n",
       " array([1.39516129e-01, 2.26129032e-01, 6.90967742e-01, 1.47741935e-01,\n",
       "        6.43870968e-01, 5.84193548e-01, 2.98064516e-01, 1.76935484e-01,\n",
       "        5.59677419e-01, 4.89838710e-01, 2.46935484e-01, 7.97580645e-01,\n",
       "        1.72419355e-01, 9.80645161e-02, 1.06854839e+00, 3.28709677e-01,\n",
       "        1.70967742e-01, 8.66451613e-01, 1.79435484e+00, 8.22096774e-01,\n",
       "        1.22467742e+00, 9.93548387e-02, 5.84193548e-01, 1.67096774e-01,\n",
       "        1.45161290e-03, 1.45161290e-03, 0.00000000e+00, 0.00000000e+00,\n",
       "        0.00000000e+00, 0.00000000e+00, 0.00000000e+00, 0.00000000e+00,\n",
       "        5.80645161e-03, 0.00000000e+00, 6.77419355e-03, 0.00000000e+00,\n",
       "        1.06451613e-02, 0.00000000e+00, 0.00000000e+00, 4.33870968e-02,\n",
       "        0.00000000e+00, 0.00000000e+00, 9.82258065e-02, 1.29032258e-02,\n",
       "        4.83870968e-02, 3.93548387e-02, 0.00000000e+00, 0.00000000e+00,\n",
       "        9.32258065e-03, 9.63225806e-02, 1.20967742e-03, 4.00822581e-01,\n",
       "        1.52064516e-01, 2.60645161e-02, 1.80250000e+01, 6.54612903e+02,\n",
       "        1.37250000e+03, 1.00000000e+00]),\n",
       " array([1.9000e-01, 0.0000e+00, 3.8000e-01, 0.0000e+00, 0.0000e+00,\n",
       "        1.9000e-01, 0.0000e+00, 0.0000e+00, 0.0000e+00, 0.0000e+00,\n",
       "        1.9000e-01, 1.9000e-01, 0.0000e+00, 0.0000e+00, 0.0000e+00,\n",
       "        3.8000e-01, 0.0000e+00, 1.9000e-01, 1.1400e+00, 0.0000e+00,\n",
       "        3.8000e-01, 0.0000e+00, 0.0000e+00, 0.0000e+00, 0.0000e+00,\n",
       "        0.0000e+00, 0.0000e+00, 0.0000e+00, 0.0000e+00, 0.0000e+00,\n",
       "        0.0000e+00, 0.0000e+00, 0.0000e+00, 0.0000e+00, 0.0000e+00,\n",
       "        0.0000e+00, 0.0000e+00, 0.0000e+00, 0.0000e+00, 0.0000e+00,\n",
       "        0.0000e+00, 0.0000e+00, 0.0000e+00, 0.0000e+00, 0.0000e+00,\n",
       "        0.0000e+00, 0.0000e+00, 0.0000e+00, 1.0000e-02, 1.0000e-02,\n",
       "        0.0000e+00, 0.0000e+00, 0.0000e+00, 3.0000e-03, 2.3830e+00,\n",
       "        2.1000e+01, 1.5841e+04, 1.0000e+00]),\n",
       " array([1.79824561e-01, 2.26350877e-01, 4.38245614e-01, 2.08491228e-01,\n",
       "        3.17649123e-01, 1.48245614e-01, 8.81403509e-02, 1.81333333e-01,\n",
       "        3.16280702e-01, 5.17824561e-01, 1.07508772e-01, 7.24421053e-01,\n",
       "        1.38491228e-01, 1.20000000e-01, 1.61473684e-01, 2.89368421e-01,\n",
       "        2.24000000e-01, 2.34070175e-01, 1.57007018e+00, 1.82842105e-01,\n",
       "        1.18045614e+00, 2.84245614e-01, 1.51298246e-01, 2.12350877e-01,\n",
       "        6.26982456e-01, 1.44456140e-01, 2.36140351e-02, 1.71228070e-02,\n",
       "        7.12280702e-03, 2.26315789e-02, 1.62456140e-02, 2.70175439e-03,\n",
       "        9.15789474e-02, 3.75438596e-03, 3.97192982e-02, 4.65614035e-02,\n",
       "        1.20105263e-01, 1.05614035e-02, 1.86315789e-02, 3.04912281e-02,\n",
       "        2.01754386e-02, 6.95789474e-02, 1.66315789e-02, 9.85964912e-03,\n",
       "        4.89122807e-02, 4.63508772e-02, 3.01754386e-03, 2.10526316e-02,\n",
       "        9.04456140e-02, 1.45470175e-01, 2.04807018e-02, 5.82484211e-01,\n",
       "        1.90964912e-01, 6.82000000e-02, 8.94337895e+00, 1.35087719e+02,\n",
       "        7.53670175e+02, 6.52631579e-01]),\n",
       " array([1.10084034e-01, 1.21582633e-01, 3.30714286e-01, 1.82563025e-01,\n",
       "        3.98641457e-01, 1.19901961e-01, 1.74075630e-01, 1.48879552e-01,\n",
       "        1.39691877e-01, 2.76792717e-01, 9.04341737e-02, 5.90644258e-01,\n",
       "        1.17436975e-01, 3.96498599e-02, 4.11764706e-02, 2.65882353e-01,\n",
       "        2.77983193e-01, 2.28711485e-01, 1.67659664e+00, 1.46792717e-01,\n",
       "        1.00893557e+00, 4.01960784e-01, 1.72815126e-01, 1.01820728e-01,\n",
       "        5.10392157e-01, 1.75882353e-01, 7.33053221e-02, 4.86834734e-02,\n",
       "        3.88235294e-02, 4.36974790e-02, 3.26330532e-02, 1.73809524e-02,\n",
       "        5.77591036e-02, 1.84033613e-02, 4.52521008e-02, 6.64565826e-02,\n",
       "        1.45210084e-01, 1.35154062e-02, 3.57002801e-02, 6.52380952e-02,\n",
       "        2.61204482e-02, 3.88795518e-02, 3.04621849e-02, 2.71848739e-02,\n",
       "        1.16988796e-01, 1.38865546e-01, 8.87955182e-03, 2.42857143e-02,\n",
       "        1.01875350e-01, 1.43806723e-01, 1.79621849e-02, 2.68806723e-01,\n",
       "        1.13394958e-01, 7.63865546e-02, 5.93151681e+00, 6.45028011e+01,\n",
       "        3.64305322e+02, 6.02240896e-01]),\n",
       " array([2.95000000e-01, 8.33333333e-02, 1.38250000e+00, 1.58333333e-02,\n",
       "        8.85833333e-01, 0.00000000e+00, 5.41666667e-02, 0.00000000e+00,\n",
       "        4.95833333e-01, 6.85833333e-01, 0.00000000e+00, 3.33333333e-02,\n",
       "        0.00000000e+00, 0.00000000e+00, 0.00000000e+00, 6.50000000e-02,\n",
       "        0.00000000e+00, 0.00000000e+00, 2.95000000e-01, 7.25833333e-01,\n",
       "        4.00833333e-01, 0.00000000e+00, 0.00000000e+00, 3.33333333e-02,\n",
       "        2.78333333e-01, 0.00000000e+00, 1.21666667e-01, 4.00000000e-02,\n",
       "        0.00000000e+00, 4.83333333e-02, 0.00000000e+00, 0.00000000e+00,\n",
       "        0.00000000e+00, 3.16666667e-02, 0.00000000e+00, 0.00000000e+00,\n",
       "        4.83333333e-02, 0.00000000e+00, 0.00000000e+00, 0.00000000e+00,\n",
       "        0.00000000e+00, 0.00000000e+00, 0.00000000e+00, 0.00000000e+00,\n",
       "        0.00000000e+00, 0.00000000e+00, 0.00000000e+00, 0.00000000e+00,\n",
       "        0.00000000e+00, 7.33333333e-03, 0.00000000e+00, 7.63833333e-01,\n",
       "        1.88250000e-01, 2.50000000e-03, 5.37208250e+02, 1.40558333e+03,\n",
       "        1.44275000e+03, 9.16666667e-01])]"
      ]
     },
     "execution_count": 178,
     "metadata": {},
     "output_type": "execute_result"
    }
   ],
   "source": [
    "model.clusterCenters"
   ]
  },
  {
   "cell_type": "code",
   "execution_count": 179,
   "metadata": {},
   "outputs": [
    {
     "data": {
      "text/plain": [
       "163827684.16430664"
      ]
     },
     "execution_count": 179,
     "metadata": {},
     "output_type": "execute_result"
    }
   ],
   "source": [
    "model.computeCost(dataVec)"
   ]
  },
  {
   "cell_type": "code",
   "execution_count": 158,
   "metadata": {
    "scrolled": true
   },
   "outputs": [
    {
     "ename": "TypeError",
     "evalue": "'RDD' object is not iterable",
     "output_type": "error",
     "traceback": [
      "\u001b[0;31m---------------------------------------------------------------------------\u001b[0m",
      "\u001b[0;31mTypeError\u001b[0m                                 Traceback (most recent call last)",
      "\u001b[0;32m<ipython-input-158-2c87cbbc9b84>\u001b[0m in \u001b[0;36m<module>\u001b[0;34m\u001b[0m\n\u001b[0;32m----> 1\u001b[0;31m \u001b[0mmodel\u001b[0m \u001b[0;34m=\u001b[0m \u001b[0mKMeans\u001b[0m\u001b[0;34m.\u001b[0m\u001b[0mtrain\u001b[0m\u001b[0;34m(\u001b[0m\u001b[0mdataVec\u001b[0m\u001b[0;34m,\u001b[0m \u001b[0mk\u001b[0m\u001b[0;34m=\u001b[0m\u001b[0;36m10\u001b[0m\u001b[0;34m,\u001b[0m \u001b[0mmaxIterations\u001b[0m\u001b[0;34m=\u001b[0m\u001b[0;36m25\u001b[0m\u001b[0;34m,\u001b[0m \u001b[0minitializationSteps\u001b[0m\u001b[0;34m=\u001b[0m\u001b[0;36m0\u001b[0m\u001b[0;34m,\u001b[0m \u001b[0minitialModel\u001b[0m\u001b[0;34m=\u001b[0m\u001b[0minitialModel\u001b[0m\u001b[0;34m)\u001b[0m\u001b[0;34m\u001b[0m\u001b[0;34m\u001b[0m\u001b[0m\n\u001b[0m",
      "\u001b[0;32m~/GitHub/tcss551-Sp2019/Assgn5/spark-2.4.2-bin-hadoop2.7/python/pyspark/mllib/clustering.py\u001b[0m in \u001b[0;36mtrain\u001b[0;34m(cls, rdd, k, maxIterations, runs, initializationMode, seed, initializationSteps, epsilon, initialModel)\u001b[0m\n\u001b[1;32m    351\u001b[0m                 raise Exception(\"initialModel is of \"+str(type(initialModel))+\". It needs \"\n\u001b[1;32m    352\u001b[0m                                 \"to be of <type 'KMeansModel'>\")\n\u001b[0;32m--> 353\u001b[0;31m             \u001b[0mclusterInitialModel\u001b[0m \u001b[0;34m=\u001b[0m \u001b[0;34m[\u001b[0m\u001b[0m_convert_to_vector\u001b[0m\u001b[0;34m(\u001b[0m\u001b[0mc\u001b[0m\u001b[0;34m)\u001b[0m \u001b[0;32mfor\u001b[0m \u001b[0mc\u001b[0m \u001b[0;32min\u001b[0m \u001b[0minitialModel\u001b[0m\u001b[0;34m.\u001b[0m\u001b[0mclusterCenters\u001b[0m\u001b[0;34m]\u001b[0m\u001b[0;34m\u001b[0m\u001b[0;34m\u001b[0m\u001b[0m\n\u001b[0m\u001b[1;32m    354\u001b[0m         model = callMLlibFunc(\"trainKMeansModel\", rdd.map(_convert_to_vector), k, maxIterations,\n\u001b[1;32m    355\u001b[0m                               \u001b[0mruns\u001b[0m\u001b[0;34m,\u001b[0m \u001b[0minitializationMode\u001b[0m\u001b[0;34m,\u001b[0m \u001b[0mseed\u001b[0m\u001b[0;34m,\u001b[0m \u001b[0minitializationSteps\u001b[0m\u001b[0;34m,\u001b[0m \u001b[0mepsilon\u001b[0m\u001b[0;34m,\u001b[0m\u001b[0;34m\u001b[0m\u001b[0;34m\u001b[0m\u001b[0m\n",
      "\u001b[0;31mTypeError\u001b[0m: 'RDD' object is not iterable"
     ]
    }
   ],
   "source": [
    "model = KMeans.train(dataVec, k=10, maxIterations=25, initializationSteps=0, initialModel=initialModel)"
   ]
  },
  {
   "cell_type": "code",
   "execution_count": 155,
   "metadata": {},
   "outputs": [
    {
     "ename": "AttributeError",
     "evalue": "'KMeans' object has no attribute 'setK'",
     "output_type": "error",
     "traceback": [
      "\u001b[0;31m---------------------------------------------------------------------------\u001b[0m",
      "\u001b[0;31mAttributeError\u001b[0m                            Traceback (most recent call last)",
      "\u001b[0;32m<ipython-input-155-92e9de0a274f>\u001b[0m in \u001b[0;36m<module>\u001b[0;34m\u001b[0m\n\u001b[0;32m----> 1\u001b[0;31m \u001b[0mmodel\u001b[0m \u001b[0;34m=\u001b[0m \u001b[0mKMeans\u001b[0m\u001b[0;34m(\u001b[0m\u001b[0;34m)\u001b[0m\u001b[0;34m.\u001b[0m\u001b[0msetK\u001b[0m\u001b[0;34m(\u001b[0m\u001b[0;36m3\u001b[0m\u001b[0;34m)\u001b[0m\u001b[0;34m\u001b[0m\u001b[0;34m\u001b[0m\u001b[0m\n\u001b[0m",
      "\u001b[0;31mAttributeError\u001b[0m: 'KMeans' object has no attribute 'setK'"
     ]
    }
   ],
   "source": [
    "model = KMeans().setK(3)"
   ]
  },
  {
   "cell_type": "code",
   "execution_count": 154,
   "metadata": {},
   "outputs": [
    {
     "ename": "AttributeError",
     "evalue": "'KMeans' object has no attribute 'setK'",
     "output_type": "error",
     "traceback": [
      "\u001b[0;31m---------------------------------------------------------------------------\u001b[0m",
      "\u001b[0;31mAttributeError\u001b[0m                            Traceback (most recent call last)",
      "\u001b[0;32m<ipython-input-154-bf0fc169b43b>\u001b[0m in \u001b[0;36m<module>\u001b[0;34m\u001b[0m\n\u001b[0;32m----> 1\u001b[0;31m \u001b[0mmodel\u001b[0m\u001b[0;34m.\u001b[0m\u001b[0msetK\u001b[0m\u001b[0;34m(\u001b[0m\u001b[0;36m25\u001b[0m\u001b[0;34m)\u001b[0m\u001b[0;34m\u001b[0m\u001b[0;34m\u001b[0m\u001b[0m\n\u001b[0m",
      "\u001b[0;31mAttributeError\u001b[0m: 'KMeans' object has no attribute 'setK'"
     ]
    }
   ],
   "source": [
    "model.setK(25)"
   ]
  },
  {
   "cell_type": "code",
   "execution_count": null,
   "metadata": {},
   "outputs": [],
   "source": [
    "model.clusterCenters"
   ]
  },
  {
   "cell_type": "code",
   "execution_count": 159,
   "metadata": {},
   "outputs": [],
   "source": [
    "theData = np.array([-383.1,-382.9,28.7,31.2,366.2,367.3]).reshape(3,2)"
   ]
  },
  {
   "cell_type": "code",
   "execution_count": 161,
   "metadata": {},
   "outputs": [],
   "source": [
    "model = KMeans.train(sc.parallelize(theData), 3, maxIterations=0, initialModel = KMeansModel([(-1000.0,-1000.0),(5.0,5.0),(1000.0,1000.0)]))"
   ]
  },
  {
   "cell_type": "code",
   "execution_count": 162,
   "metadata": {},
   "outputs": [],
   "source": [
    "test = [-1000.0,-1000.0,5.0,5.0,1000.0,1000.0]"
   ]
  },
  {
   "cell_type": "code",
   "execution_count": 165,
   "metadata": {},
   "outputs": [
    {
     "data": {
      "text/plain": [
       "array([[-1000., -1000.],\n",
       "       [    5.,     5.],\n",
       "       [ 1000.,  1000.]])"
      ]
     },
     "execution_count": 165,
     "metadata": {},
     "output_type": "execute_result"
    }
   ],
   "source": [
    "test = np.asarray(test)\n",
    "test = test.reshape(3,2)\n",
    "test"
   ]
  },
  {
   "cell_type": "code",
   "execution_count": null,
   "metadata": {},
   "outputs": [],
   "source": []
  }
 ],
 "metadata": {
  "kernelspec": {
   "display_name": "Python 3",
   "language": "python",
   "name": "python3"
  },
  "language_info": {
   "codemirror_mode": {
    "name": "ipython",
    "version": 3
   },
   "file_extension": ".py",
   "mimetype": "text/x-python",
   "name": "python",
   "nbconvert_exporter": "python",
   "pygments_lexer": "ipython3",
   "version": "3.7.3"
  }
 },
 "nbformat": 4,
 "nbformat_minor": 2
}
