{
 "cells": [
  {
   "cell_type": "markdown",
   "metadata": {},
   "source": [
    "# Data Wrangling, EDA, and Visualization (66 points)"
   ]
  },
  {
   "cell_type": "raw",
   "metadata": {},
   "source": [
    "Your full name? (1 point) - Jonathan McFadden"
   ]
  },
  {
   "cell_type": "markdown",
   "metadata": {},
   "source": [
    "We are going to investigate the TaFeng Transactions to another level."
   ]
  },
  {
   "cell_type": "code",
   "execution_count": 1,
   "metadata": {},
   "outputs": [],
   "source": [
    "# Run this cell to set up the notebook, but please don't change it.\n",
    "\n",
    "# These lines import the Numpy, Datascience, pandas modules.\n",
    "import numpy as np\n",
    "import pandas as pd\n",
    "import seaborn as sns\n",
    "\n",
    "# These lines do some fancy plotting magic.\n",
    "import matplotlib\n",
    "%matplotlib inline\n",
    "import matplotlib.pyplot as plt\n",
    "plt.style.use('fivethirtyeight')\n",
    "import warnings\n",
    "warnings.simplefilter('ignore', FutureWarning)"
   ]
  },
  {
   "cell_type": "markdown",
   "metadata": {},
   "source": [
    "# Importing Data\n",
    "Please copy necessary codes from workshop 3 to import the three tables and conduct the same LEFT join to get the tafeng_full dataframe."
   ]
  },
  {
   "cell_type": "code",
   "execution_count": 2,
   "metadata": {},
   "outputs": [],
   "source": [
    "age_class_columns = ['code', 'age_range']\n",
    "age_classes = pd.read_csv('age_classes.txt', sep=\" \",  \n",
    "                          header=None, names=age_class_columns)\n",
    "\n",
    "# age_classes"
   ]
  },
  {
   "cell_type": "code",
   "execution_count": 3,
   "metadata": {},
   "outputs": [],
   "source": [
    "residence_areas = pd.read_csv('residence_area.txt', \n",
    "                              delimiter=':',\n",
    "                              header=None, \n",
    "                              names=['code','area'])\n",
    "\n",
    "residence_areas['area'] = residence_areas['area'].str.strip()\n",
    "\n",
    "# residence_areas"
   ]
  },
  {
   "cell_type": "code",
   "execution_count": 4,
   "metadata": {},
   "outputs": [],
   "source": [
    "tafeng_transactions = pd.read_csv('TaFengTransactions.txt', delimiter=';')\n",
    "\n",
    "# remove potential leading or trailing whitespace\n",
    "tafeng_transactions['age_code'] = tafeng_transactions['age_code'].str.strip()\n",
    "tafeng_transactions['residence_area'] = tafeng_transactions['residence_area'].str.strip()\n",
    "\n",
    "# tafeng_transactions.head()"
   ]
  },
  {
   "cell_type": "code",
   "execution_count": 5,
   "metadata": {},
   "outputs": [],
   "source": [
    "tafeng_full = pd.merge(tafeng_transactions, age_classes,\n",
    "                      how='left', left_on='age_code', right_on='code')\n",
    "tafeng_full = tafeng_full.drop('code', axis=1)\n",
    "\n",
    "tafeng_full = pd.merge(tafeng_full, residence_areas, \n",
    "                      how='left', left_on = 'residence_area', right_on = 'code') \n",
    "tafeng_full = tafeng_full.drop('code', axis=1)"
   ]
  },
  {
   "cell_type": "code",
   "execution_count": 6,
   "metadata": {},
   "outputs": [
    {
     "data": {
      "text/html": [
       "<div>\n",
       "<style scoped>\n",
       "    .dataframe tbody tr th:only-of-type {\n",
       "        vertical-align: middle;\n",
       "    }\n",
       "\n",
       "    .dataframe tbody tr th {\n",
       "        vertical-align: top;\n",
       "    }\n",
       "\n",
       "    .dataframe thead th {\n",
       "        text-align: right;\n",
       "    }\n",
       "</style>\n",
       "<table border=\"1\" class=\"dataframe\">\n",
       "  <thead>\n",
       "    <tr style=\"text-align: right;\">\n",
       "      <th></th>\n",
       "      <th>entry_date</th>\n",
       "      <th>transaction_time</th>\n",
       "      <th>customer_id</th>\n",
       "      <th>age_code</th>\n",
       "      <th>residence_area</th>\n",
       "      <th>product_subclass</th>\n",
       "      <th>product_id</th>\n",
       "      <th>amount</th>\n",
       "      <th>asset</th>\n",
       "      <th>sales_price</th>\n",
       "      <th>age_range</th>\n",
       "      <th>area</th>\n",
       "    </tr>\n",
       "  </thead>\n",
       "  <tbody>\n",
       "    <tr>\n",
       "      <th>0</th>\n",
       "      <td>2016-12-26</td>\n",
       "      <td>2001-01-15 00:00:00</td>\n",
       "      <td>1786439</td>\n",
       "      <td>G</td>\n",
       "      <td>H</td>\n",
       "      <td>110109</td>\n",
       "      <td>4710043552065</td>\n",
       "      <td>1</td>\n",
       "      <td>144</td>\n",
       "      <td>190</td>\n",
       "      <td>50-54</td>\n",
       "      <td>unknown</td>\n",
       "    </tr>\n",
       "    <tr>\n",
       "      <th>1</th>\n",
       "      <td>2016-12-26</td>\n",
       "      <td>2001-01-15 00:00:00</td>\n",
       "      <td>98946</td>\n",
       "      <td>E</td>\n",
       "      <td>E</td>\n",
       "      <td>100312</td>\n",
       "      <td>4710543111014</td>\n",
       "      <td>1</td>\n",
       "      <td>32</td>\n",
       "      <td>38</td>\n",
       "      <td>40-44</td>\n",
       "      <td>115</td>\n",
       "    </tr>\n",
       "    <tr>\n",
       "      <th>2</th>\n",
       "      <td>2016-12-26</td>\n",
       "      <td>2001-01-15 00:00:00</td>\n",
       "      <td>905602</td>\n",
       "      <td>D</td>\n",
       "      <td>E</td>\n",
       "      <td>500206</td>\n",
       "      <td>4710114322115</td>\n",
       "      <td>1</td>\n",
       "      <td>64</td>\n",
       "      <td>79</td>\n",
       "      <td>35-39</td>\n",
       "      <td>115</td>\n",
       "    </tr>\n",
       "    <tr>\n",
       "      <th>3</th>\n",
       "      <td>2016-12-26</td>\n",
       "      <td>2001-01-15 00:00:00</td>\n",
       "      <td>1964295</td>\n",
       "      <td>E</td>\n",
       "      <td>E</td>\n",
       "      <td>530106</td>\n",
       "      <td>4713813010123</td>\n",
       "      <td>1</td>\n",
       "      <td>174</td>\n",
       "      <td>147</td>\n",
       "      <td>40-44</td>\n",
       "      <td>115</td>\n",
       "    </tr>\n",
       "    <tr>\n",
       "      <th>4</th>\n",
       "      <td>2016-12-26</td>\n",
       "      <td>2001-01-15 00:00:00</td>\n",
       "      <td>2146553</td>\n",
       "      <td>B</td>\n",
       "      <td>D</td>\n",
       "      <td>100217</td>\n",
       "      <td>8801019421013</td>\n",
       "      <td>1</td>\n",
       "      <td>47</td>\n",
       "      <td>52</td>\n",
       "      <td>25-29</td>\n",
       "      <td>114</td>\n",
       "    </tr>\n",
       "  </tbody>\n",
       "</table>\n",
       "</div>"
      ],
      "text/plain": [
       "   entry_date     transaction_time  customer_id age_code residence_area  \\\n",
       "0  2016-12-26  2001-01-15 00:00:00      1786439        G              H   \n",
       "1  2016-12-26  2001-01-15 00:00:00        98946        E              E   \n",
       "2  2016-12-26  2001-01-15 00:00:00       905602        D              E   \n",
       "3  2016-12-26  2001-01-15 00:00:00      1964295        E              E   \n",
       "4  2016-12-26  2001-01-15 00:00:00      2146553        B              D   \n",
       "\n",
       "   product_subclass     product_id  amount  asset  sales_price age_range  \\\n",
       "0            110109  4710043552065       1    144          190     50-54   \n",
       "1            100312  4710543111014       1     32           38     40-44   \n",
       "2            500206  4710114322115       1     64           79     35-39   \n",
       "3            530106  4713813010123       1    174          147     40-44   \n",
       "4            100217  8801019421013       1     47           52     25-29   \n",
       "\n",
       "      area  \n",
       "0  unknown  \n",
       "1      115  \n",
       "2      115  \n",
       "3      115  \n",
       "4      114  "
      ]
     },
     "execution_count": 6,
     "metadata": {},
     "output_type": "execute_result"
    }
   ],
   "source": [
    "#Copy the code here\n",
    "tafeng_full.head() # output 1 point"
   ]
  },
  {
   "cell_type": "raw",
   "metadata": {},
   "source": [
    "Now, we investigate the shopping trips (defined in workshop 3) in greater detail. For example, we might be interested in the total number of items purchased, the total amount spent, and the number of unique products purchased on the trip. Since our data are at the level of items purchased, we need to aggregate our data to the shopping cart. Fortunately we have tools to do this; that is, we will change the granularity. For each shopping cart, we find:\n",
    "1) \"num_items\" - the total number of items purchased;\n",
    "2) \"total_value\" - the total value of the cart;\n",
    "3) \"num_unique\" - the number of unique products purchased.\n",
    "\n",
    "NOTE: as a data scientist, you should try your best to understand the tafeng_full data frame. "
   ]
  },
  {
   "cell_type": "markdown",
   "metadata": {},
   "source": [
    "# Question 1 (24 points)\n",
    "Create a data frame called \"carts\" that contains the three variables above, as well as \"customer_id\" and \"transaction_time\". Make sure you use the names specified. (8 points)"
   ]
  },
  {
   "cell_type": "code",
   "execution_count": 7,
   "metadata": {},
   "outputs": [
    {
     "data": {
      "text/plain": [
       "transaction_time     customer_id\n",
       "2000-11-01 00:00:00  45957          1\n",
       "                     164252         1\n",
       "                     217361         1\n",
       "                     916264         2\n",
       "                     955188         2\n",
       "Name: amount, dtype: int64"
      ]
     },
     "execution_count": 7,
     "metadata": {},
     "output_type": "execute_result"
    }
   ],
   "source": [
    "num_items = tafeng_full.groupby(['transaction_time', 'customer_id'])['amount'].sum()\n",
    "# num_items.columns = ['transaction_time', 'customer_id', 'num_items']\n",
    "num_items.head()"
   ]
  },
  {
   "cell_type": "code",
   "execution_count": 8,
   "metadata": {},
   "outputs": [
    {
     "data": {
      "text/html": [
       "<div>\n",
       "<style scoped>\n",
       "    .dataframe tbody tr th:only-of-type {\n",
       "        vertical-align: middle;\n",
       "    }\n",
       "\n",
       "    .dataframe tbody tr th {\n",
       "        vertical-align: top;\n",
       "    }\n",
       "\n",
       "    .dataframe thead th {\n",
       "        text-align: right;\n",
       "    }\n",
       "</style>\n",
       "<table border=\"1\" class=\"dataframe\">\n",
       "  <thead>\n",
       "    <tr style=\"text-align: right;\">\n",
       "      <th></th>\n",
       "      <th>entry_date</th>\n",
       "      <th>transaction_time</th>\n",
       "      <th>customer_id</th>\n",
       "      <th>age_code</th>\n",
       "      <th>residence_area</th>\n",
       "      <th>product_subclass</th>\n",
       "      <th>product_id</th>\n",
       "      <th>amount</th>\n",
       "      <th>asset</th>\n",
       "      <th>sales_price</th>\n",
       "      <th>age_range</th>\n",
       "      <th>area</th>\n",
       "      <th>total</th>\n",
       "    </tr>\n",
       "  </thead>\n",
       "  <tbody>\n",
       "    <tr>\n",
       "      <th>0</th>\n",
       "      <td>2016-12-26</td>\n",
       "      <td>2001-01-15 00:00:00</td>\n",
       "      <td>1786439</td>\n",
       "      <td>G</td>\n",
       "      <td>H</td>\n",
       "      <td>110109</td>\n",
       "      <td>4710043552065</td>\n",
       "      <td>1</td>\n",
       "      <td>144</td>\n",
       "      <td>190</td>\n",
       "      <td>50-54</td>\n",
       "      <td>unknown</td>\n",
       "      <td>190</td>\n",
       "    </tr>\n",
       "    <tr>\n",
       "      <th>1</th>\n",
       "      <td>2016-12-26</td>\n",
       "      <td>2001-01-15 00:00:00</td>\n",
       "      <td>98946</td>\n",
       "      <td>E</td>\n",
       "      <td>E</td>\n",
       "      <td>100312</td>\n",
       "      <td>4710543111014</td>\n",
       "      <td>1</td>\n",
       "      <td>32</td>\n",
       "      <td>38</td>\n",
       "      <td>40-44</td>\n",
       "      <td>115</td>\n",
       "      <td>38</td>\n",
       "    </tr>\n",
       "    <tr>\n",
       "      <th>2</th>\n",
       "      <td>2016-12-26</td>\n",
       "      <td>2001-01-15 00:00:00</td>\n",
       "      <td>905602</td>\n",
       "      <td>D</td>\n",
       "      <td>E</td>\n",
       "      <td>500206</td>\n",
       "      <td>4710114322115</td>\n",
       "      <td>1</td>\n",
       "      <td>64</td>\n",
       "      <td>79</td>\n",
       "      <td>35-39</td>\n",
       "      <td>115</td>\n",
       "      <td>79</td>\n",
       "    </tr>\n",
       "    <tr>\n",
       "      <th>3</th>\n",
       "      <td>2016-12-26</td>\n",
       "      <td>2001-01-15 00:00:00</td>\n",
       "      <td>1964295</td>\n",
       "      <td>E</td>\n",
       "      <td>E</td>\n",
       "      <td>530106</td>\n",
       "      <td>4713813010123</td>\n",
       "      <td>1</td>\n",
       "      <td>174</td>\n",
       "      <td>147</td>\n",
       "      <td>40-44</td>\n",
       "      <td>115</td>\n",
       "      <td>147</td>\n",
       "    </tr>\n",
       "    <tr>\n",
       "      <th>4</th>\n",
       "      <td>2016-12-26</td>\n",
       "      <td>2001-01-15 00:00:00</td>\n",
       "      <td>2146553</td>\n",
       "      <td>B</td>\n",
       "      <td>D</td>\n",
       "      <td>100217</td>\n",
       "      <td>8801019421013</td>\n",
       "      <td>1</td>\n",
       "      <td>47</td>\n",
       "      <td>52</td>\n",
       "      <td>25-29</td>\n",
       "      <td>114</td>\n",
       "      <td>52</td>\n",
       "    </tr>\n",
       "  </tbody>\n",
       "</table>\n",
       "</div>"
      ],
      "text/plain": [
       "   entry_date     transaction_time  customer_id age_code residence_area  \\\n",
       "0  2016-12-26  2001-01-15 00:00:00      1786439        G              H   \n",
       "1  2016-12-26  2001-01-15 00:00:00        98946        E              E   \n",
       "2  2016-12-26  2001-01-15 00:00:00       905602        D              E   \n",
       "3  2016-12-26  2001-01-15 00:00:00      1964295        E              E   \n",
       "4  2016-12-26  2001-01-15 00:00:00      2146553        B              D   \n",
       "\n",
       "   product_subclass     product_id  amount  asset  sales_price age_range  \\\n",
       "0            110109  4710043552065       1    144          190     50-54   \n",
       "1            100312  4710543111014       1     32           38     40-44   \n",
       "2            500206  4710114322115       1     64           79     35-39   \n",
       "3            530106  4713813010123       1    174          147     40-44   \n",
       "4            100217  8801019421013       1     47           52     25-29   \n",
       "\n",
       "      area  total  \n",
       "0  unknown    190  \n",
       "1      115     38  \n",
       "2      115     79  \n",
       "3      115    147  \n",
       "4      114     52  "
      ]
     },
     "execution_count": 8,
     "metadata": {},
     "output_type": "execute_result"
    }
   ],
   "source": [
    "tafeng_full['total'] = tafeng_full['amount'] * tafeng_full['sales_price']\n",
    "tafeng_full.head()"
   ]
  },
  {
   "cell_type": "code",
   "execution_count": 9,
   "metadata": {},
   "outputs": [
    {
     "data": {
      "text/plain": [
       "transaction_time     customer_id\n",
       "2000-11-01 00:00:00  45957          133\n",
       "                     164252          89\n",
       "                     217361          65\n",
       "                     916264          96\n",
       "                     955188          96\n",
       "Name: total, dtype: int64"
      ]
     },
     "execution_count": 9,
     "metadata": {},
     "output_type": "execute_result"
    }
   ],
   "source": [
    "total_value = tafeng_full.groupby(['transaction_time', 'customer_id'])['total'].sum()\n",
    "\n",
    "# total_value.columns = ['transaction_time', 'customer_id', 'total_value']\n",
    "total_value.head()"
   ]
  },
  {
   "cell_type": "code",
   "execution_count": 10,
   "metadata": {},
   "outputs": [
    {
     "data": {
      "text/plain": [
       "transaction_time     customer_id\n",
       "2000-11-01 00:00:00  45957          1\n",
       "                     164252         1\n",
       "                     217361         1\n",
       "                     916264         1\n",
       "                     955188         1\n",
       "Name: product_id, dtype: int64"
      ]
     },
     "execution_count": 10,
     "metadata": {},
     "output_type": "execute_result"
    }
   ],
   "source": [
    "num_unique = tafeng_full.groupby(['transaction_time', 'customer_id'])['product_id'].nunique()\n",
    "# num_unique.columns = ['transaction_time', 'customer_id', 'num_unique']\n",
    "num_unique.head()"
   ]
  },
  {
   "cell_type": "code",
   "execution_count": 11,
   "metadata": {},
   "outputs": [
    {
     "data": {
      "text/html": [
       "<div>\n",
       "<style scoped>\n",
       "    .dataframe tbody tr th:only-of-type {\n",
       "        vertical-align: middle;\n",
       "    }\n",
       "\n",
       "    .dataframe tbody tr th {\n",
       "        vertical-align: top;\n",
       "    }\n",
       "\n",
       "    .dataframe thead th {\n",
       "        text-align: right;\n",
       "    }\n",
       "</style>\n",
       "<table border=\"1\" class=\"dataframe\">\n",
       "  <thead>\n",
       "    <tr style=\"text-align: right;\">\n",
       "      <th></th>\n",
       "      <th></th>\n",
       "      <th>num_items</th>\n",
       "      <th>total_value</th>\n",
       "      <th>num_unique</th>\n",
       "    </tr>\n",
       "    <tr>\n",
       "      <th>transaction_time</th>\n",
       "      <th>customer_id</th>\n",
       "      <th></th>\n",
       "      <th></th>\n",
       "      <th></th>\n",
       "    </tr>\n",
       "  </thead>\n",
       "  <tbody>\n",
       "    <tr>\n",
       "      <th rowspan=\"12\" valign=\"top\">2000-11-01 00:00:00</th>\n",
       "      <th>45957</th>\n",
       "      <td>1</td>\n",
       "      <td>133</td>\n",
       "      <td>1</td>\n",
       "    </tr>\n",
       "    <tr>\n",
       "      <th>164252</th>\n",
       "      <td>1</td>\n",
       "      <td>89</td>\n",
       "      <td>1</td>\n",
       "    </tr>\n",
       "    <tr>\n",
       "      <th>217361</th>\n",
       "      <td>1</td>\n",
       "      <td>65</td>\n",
       "      <td>1</td>\n",
       "    </tr>\n",
       "    <tr>\n",
       "      <th>916264</th>\n",
       "      <td>2</td>\n",
       "      <td>96</td>\n",
       "      <td>1</td>\n",
       "    </tr>\n",
       "    <tr>\n",
       "      <th>955188</th>\n",
       "      <td>2</td>\n",
       "      <td>96</td>\n",
       "      <td>1</td>\n",
       "    </tr>\n",
       "    <tr>\n",
       "      <th>1327205</th>\n",
       "      <td>1</td>\n",
       "      <td>102</td>\n",
       "      <td>1</td>\n",
       "    </tr>\n",
       "    <tr>\n",
       "      <th>1790184</th>\n",
       "      <td>1</td>\n",
       "      <td>75</td>\n",
       "      <td>1</td>\n",
       "    </tr>\n",
       "    <tr>\n",
       "      <th>1846225</th>\n",
       "      <td>1</td>\n",
       "      <td>28</td>\n",
       "      <td>1</td>\n",
       "    </tr>\n",
       "    <tr>\n",
       "      <th>1846546</th>\n",
       "      <td>1</td>\n",
       "      <td>19</td>\n",
       "      <td>1</td>\n",
       "    </tr>\n",
       "    <tr>\n",
       "      <th>2004402</th>\n",
       "      <td>1</td>\n",
       "      <td>10</td>\n",
       "      <td>1</td>\n",
       "    </tr>\n",
       "    <tr>\n",
       "      <th>2034638</th>\n",
       "      <td>2</td>\n",
       "      <td>76</td>\n",
       "      <td>1</td>\n",
       "    </tr>\n",
       "    <tr>\n",
       "      <th>2116334</th>\n",
       "      <td>1</td>\n",
       "      <td>55</td>\n",
       "      <td>1</td>\n",
       "    </tr>\n",
       "    <tr>\n",
       "      <th rowspan=\"18\" valign=\"top\">2000-11-02 00:00:00</th>\n",
       "      <th>26550</th>\n",
       "      <td>1</td>\n",
       "      <td>75</td>\n",
       "      <td>1</td>\n",
       "    </tr>\n",
       "    <tr>\n",
       "      <th>29421</th>\n",
       "      <td>2</td>\n",
       "      <td>34</td>\n",
       "      <td>1</td>\n",
       "    </tr>\n",
       "    <tr>\n",
       "      <th>48590</th>\n",
       "      <td>1</td>\n",
       "      <td>40</td>\n",
       "      <td>1</td>\n",
       "    </tr>\n",
       "    <tr>\n",
       "      <th>88541</th>\n",
       "      <td>3</td>\n",
       "      <td>531</td>\n",
       "      <td>1</td>\n",
       "    </tr>\n",
       "    <tr>\n",
       "      <th>91343</th>\n",
       "      <td>1</td>\n",
       "      <td>159</td>\n",
       "      <td>1</td>\n",
       "    </tr>\n",
       "    <tr>\n",
       "      <th>161084</th>\n",
       "      <td>2</td>\n",
       "      <td>272</td>\n",
       "      <td>1</td>\n",
       "    </tr>\n",
       "    <tr>\n",
       "      <th>256735</th>\n",
       "      <td>1</td>\n",
       "      <td>70</td>\n",
       "      <td>1</td>\n",
       "    </tr>\n",
       "    <tr>\n",
       "      <th>281799</th>\n",
       "      <td>1</td>\n",
       "      <td>89</td>\n",
       "      <td>1</td>\n",
       "    </tr>\n",
       "    <tr>\n",
       "      <th>308472</th>\n",
       "      <td>1</td>\n",
       "      <td>86</td>\n",
       "      <td>1</td>\n",
       "    </tr>\n",
       "    <tr>\n",
       "      <th>334563</th>\n",
       "      <td>1</td>\n",
       "      <td>25</td>\n",
       "      <td>1</td>\n",
       "    </tr>\n",
       "    <tr>\n",
       "      <th>375917</th>\n",
       "      <td>2</td>\n",
       "      <td>164</td>\n",
       "      <td>2</td>\n",
       "    </tr>\n",
       "    <tr>\n",
       "      <th>380300</th>\n",
       "      <td>1</td>\n",
       "      <td>143</td>\n",
       "      <td>1</td>\n",
       "    </tr>\n",
       "    <tr>\n",
       "      <th>426282</th>\n",
       "      <td>2</td>\n",
       "      <td>76</td>\n",
       "      <td>1</td>\n",
       "    </tr>\n",
       "    <tr>\n",
       "      <th>445467</th>\n",
       "      <td>1</td>\n",
       "      <td>74</td>\n",
       "      <td>1</td>\n",
       "    </tr>\n",
       "    <tr>\n",
       "      <th>446082</th>\n",
       "      <td>2</td>\n",
       "      <td>76</td>\n",
       "      <td>1</td>\n",
       "    </tr>\n",
       "    <tr>\n",
       "      <th>556446</th>\n",
       "      <td>1</td>\n",
       "      <td>89</td>\n",
       "      <td>1</td>\n",
       "    </tr>\n",
       "    <tr>\n",
       "      <th>593625</th>\n",
       "      <td>1</td>\n",
       "      <td>25</td>\n",
       "      <td>1</td>\n",
       "    </tr>\n",
       "    <tr>\n",
       "      <th>666244</th>\n",
       "      <td>1</td>\n",
       "      <td>115</td>\n",
       "      <td>1</td>\n",
       "    </tr>\n",
       "    <tr>\n",
       "      <th>...</th>\n",
       "      <th>...</th>\n",
       "      <td>...</td>\n",
       "      <td>...</td>\n",
       "      <td>...</td>\n",
       "    </tr>\n",
       "    <tr>\n",
       "      <th rowspan=\"30\" valign=\"top\">2001-01-31 00:00:00</th>\n",
       "      <th>1385878</th>\n",
       "      <td>1</td>\n",
       "      <td>33</td>\n",
       "      <td>1</td>\n",
       "    </tr>\n",
       "    <tr>\n",
       "      <th>1467727</th>\n",
       "      <td>1</td>\n",
       "      <td>115</td>\n",
       "      <td>1</td>\n",
       "    </tr>\n",
       "    <tr>\n",
       "      <th>1515626</th>\n",
       "      <td>1</td>\n",
       "      <td>26</td>\n",
       "      <td>1</td>\n",
       "    </tr>\n",
       "    <tr>\n",
       "      <th>1518467</th>\n",
       "      <td>1</td>\n",
       "      <td>35</td>\n",
       "      <td>1</td>\n",
       "    </tr>\n",
       "    <tr>\n",
       "      <th>1561524</th>\n",
       "      <td>2</td>\n",
       "      <td>272</td>\n",
       "      <td>1</td>\n",
       "    </tr>\n",
       "    <tr>\n",
       "      <th>1596878</th>\n",
       "      <td>1</td>\n",
       "      <td>99</td>\n",
       "      <td>1</td>\n",
       "    </tr>\n",
       "    <tr>\n",
       "      <th>1625660</th>\n",
       "      <td>1</td>\n",
       "      <td>15</td>\n",
       "      <td>1</td>\n",
       "    </tr>\n",
       "    <tr>\n",
       "      <th>1646313</th>\n",
       "      <td>1</td>\n",
       "      <td>95</td>\n",
       "      <td>1</td>\n",
       "    </tr>\n",
       "    <tr>\n",
       "      <th>1732344</th>\n",
       "      <td>1</td>\n",
       "      <td>99</td>\n",
       "      <td>1</td>\n",
       "    </tr>\n",
       "    <tr>\n",
       "      <th>1746846</th>\n",
       "      <td>2</td>\n",
       "      <td>436</td>\n",
       "      <td>1</td>\n",
       "    </tr>\n",
       "    <tr>\n",
       "      <th>1813319</th>\n",
       "      <td>1</td>\n",
       "      <td>30</td>\n",
       "      <td>1</td>\n",
       "    </tr>\n",
       "    <tr>\n",
       "      <th>1838206</th>\n",
       "      <td>1</td>\n",
       "      <td>19</td>\n",
       "      <td>1</td>\n",
       "    </tr>\n",
       "    <tr>\n",
       "      <th>1846416</th>\n",
       "      <td>1</td>\n",
       "      <td>359</td>\n",
       "      <td>1</td>\n",
       "    </tr>\n",
       "    <tr>\n",
       "      <th>1848410</th>\n",
       "      <td>1</td>\n",
       "      <td>18</td>\n",
       "      <td>1</td>\n",
       "    </tr>\n",
       "    <tr>\n",
       "      <th>1854107</th>\n",
       "      <td>1</td>\n",
       "      <td>148</td>\n",
       "      <td>1</td>\n",
       "    </tr>\n",
       "    <tr>\n",
       "      <th>1856088</th>\n",
       "      <td>1</td>\n",
       "      <td>22</td>\n",
       "      <td>1</td>\n",
       "    </tr>\n",
       "    <tr>\n",
       "      <th>1869798</th>\n",
       "      <td>1</td>\n",
       "      <td>36</td>\n",
       "      <td>1</td>\n",
       "    </tr>\n",
       "    <tr>\n",
       "      <th>1881127</th>\n",
       "      <td>1</td>\n",
       "      <td>85</td>\n",
       "      <td>1</td>\n",
       "    </tr>\n",
       "    <tr>\n",
       "      <th>1926460</th>\n",
       "      <td>3</td>\n",
       "      <td>333</td>\n",
       "      <td>1</td>\n",
       "    </tr>\n",
       "    <tr>\n",
       "      <th>1978414</th>\n",
       "      <td>1</td>\n",
       "      <td>109</td>\n",
       "      <td>1</td>\n",
       "    </tr>\n",
       "    <tr>\n",
       "      <th>2035277</th>\n",
       "      <td>2</td>\n",
       "      <td>156</td>\n",
       "      <td>1</td>\n",
       "    </tr>\n",
       "    <tr>\n",
       "      <th>2037820</th>\n",
       "      <td>1</td>\n",
       "      <td>1395</td>\n",
       "      <td>1</td>\n",
       "    </tr>\n",
       "    <tr>\n",
       "      <th>2038797</th>\n",
       "      <td>2</td>\n",
       "      <td>112</td>\n",
       "      <td>1</td>\n",
       "    </tr>\n",
       "    <tr>\n",
       "      <th>2110790</th>\n",
       "      <td>2</td>\n",
       "      <td>136</td>\n",
       "      <td>2</td>\n",
       "    </tr>\n",
       "    <tr>\n",
       "      <th>2124032</th>\n",
       "      <td>1</td>\n",
       "      <td>55</td>\n",
       "      <td>1</td>\n",
       "    </tr>\n",
       "    <tr>\n",
       "      <th>2135250</th>\n",
       "      <td>1</td>\n",
       "      <td>342</td>\n",
       "      <td>1</td>\n",
       "    </tr>\n",
       "    <tr>\n",
       "      <th>2141626</th>\n",
       "      <td>1</td>\n",
       "      <td>143</td>\n",
       "      <td>1</td>\n",
       "    </tr>\n",
       "    <tr>\n",
       "      <th>2145525</th>\n",
       "      <td>1</td>\n",
       "      <td>106</td>\n",
       "      <td>1</td>\n",
       "    </tr>\n",
       "    <tr>\n",
       "      <th>2161655</th>\n",
       "      <td>2</td>\n",
       "      <td>112</td>\n",
       "      <td>1</td>\n",
       "    </tr>\n",
       "    <tr>\n",
       "      <th>2172231</th>\n",
       "      <td>1</td>\n",
       "      <td>350</td>\n",
       "      <td>1</td>\n",
       "    </tr>\n",
       "  </tbody>\n",
       "</table>\n",
       "<p>5515 rows × 3 columns</p>\n",
       "</div>"
      ],
      "text/plain": [
       "                                 num_items  total_value  num_unique\n",
       "transaction_time    customer_id                                    \n",
       "2000-11-01 00:00:00 45957                1          133           1\n",
       "                    164252               1           89           1\n",
       "                    217361               1           65           1\n",
       "                    916264               2           96           1\n",
       "                    955188               2           96           1\n",
       "                    1327205              1          102           1\n",
       "                    1790184              1           75           1\n",
       "                    1846225              1           28           1\n",
       "                    1846546              1           19           1\n",
       "                    2004402              1           10           1\n",
       "                    2034638              2           76           1\n",
       "                    2116334              1           55           1\n",
       "2000-11-02 00:00:00 26550                1           75           1\n",
       "                    29421                2           34           1\n",
       "                    48590                1           40           1\n",
       "                    88541                3          531           1\n",
       "                    91343                1          159           1\n",
       "                    161084               2          272           1\n",
       "                    256735               1           70           1\n",
       "                    281799               1           89           1\n",
       "                    308472               1           86           1\n",
       "                    334563               1           25           1\n",
       "                    375917               2          164           2\n",
       "                    380300               1          143           1\n",
       "                    426282               2           76           1\n",
       "                    445467               1           74           1\n",
       "                    446082               2           76           1\n",
       "                    556446               1           89           1\n",
       "                    593625               1           25           1\n",
       "                    666244               1          115           1\n",
       "...                                    ...          ...         ...\n",
       "2001-01-31 00:00:00 1385878              1           33           1\n",
       "                    1467727              1          115           1\n",
       "                    1515626              1           26           1\n",
       "                    1518467              1           35           1\n",
       "                    1561524              2          272           1\n",
       "                    1596878              1           99           1\n",
       "                    1625660              1           15           1\n",
       "                    1646313              1           95           1\n",
       "                    1732344              1           99           1\n",
       "                    1746846              2          436           1\n",
       "                    1813319              1           30           1\n",
       "                    1838206              1           19           1\n",
       "                    1846416              1          359           1\n",
       "                    1848410              1           18           1\n",
       "                    1854107              1          148           1\n",
       "                    1856088              1           22           1\n",
       "                    1869798              1           36           1\n",
       "                    1881127              1           85           1\n",
       "                    1926460              3          333           1\n",
       "                    1978414              1          109           1\n",
       "                    2035277              2          156           1\n",
       "                    2037820              1         1395           1\n",
       "                    2038797              2          112           1\n",
       "                    2110790              2          136           2\n",
       "                    2124032              1           55           1\n",
       "                    2135250              1          342           1\n",
       "                    2141626              1          143           1\n",
       "                    2145525              1          106           1\n",
       "                    2161655              2          112           1\n",
       "                    2172231              1          350           1\n",
       "\n",
       "[5515 rows x 3 columns]"
      ]
     },
     "execution_count": 11,
     "metadata": {},
     "output_type": "execute_result"
    }
   ],
   "source": [
    "carts = pd.merge(pd.merge(num_items, total_value, how='outer', on=['transaction_time', 'customer_id']), num_unique, how='outer', on=['transaction_time', 'customer_id'])\n",
    "carts.rename(columns={'amount':'num_items', 'total':'total_value', 'product_id':'num_unique'}, inplace=True)\n",
    "\n",
    "carts # output 1 point"
   ]
  },
  {
   "cell_type": "markdown",
   "metadata": {},
   "source": [
    "Now let's take a look at the relationship between the number of items in a cart and the cart's total value. Intuitively the two should be positively correlated. Make a SCATTER plot that will help us inspect the relationship between these two variables. (6 points) "
   ]
  },
  {
   "cell_type": "code",
   "execution_count": 12,
   "metadata": {},
   "outputs": [
    {
     "data": {
      "image/png": "[encoded data removed]",
      "text/plain": [
       "<Figure size 432x288 with 1 Axes>"
      ]
     },
     "metadata": {
      "needs_background": "light"
     },
     "output_type": "display_data"
    }
   ],
   "source": [
    "sp1 = carts.plot.scatter(x='num_items', y='total_value')\n",
    "# plot output 1 point"
   ]
  },
  {
   "cell_type": "markdown",
   "metadata": {},
   "source": [
    "We might expect from the distribution of the number of trips that there would be a few very large values for the number of items and the total amount spent. Indeed, a handful of observations make it difficult to see the shape of the bulk of the data. Take a log transformation of these two variables. Make another scatter plot, but this time, log-transform both the x and y axes. (2 points)"
   ]
  },
  {
   "cell_type": "code",
   "execution_count": 13,
   "metadata": {
    "scrolled": true
   },
   "outputs": [
    {
     "data": {
      "image/png": "[encoded data removed]",
      "text/plain": [
       "<Figure size 432x288 with 1 Axes>"
      ]
     },
     "metadata": {
      "needs_background": "light"
     },
     "output_type": "display_data"
    }
   ],
   "source": [
    "sp2 = carts.plot.scatter(x='num_items', y='total_value')\n",
    "sp2.set_yscale('log')\n",
    "sp2.set_xscale('log')\n",
    "# plot output 1 point"
   ]
  },
  {
   "cell_type": "markdown",
   "metadata": {},
   "source": [
    "Please study the functionality of seaborn's lmplot and use it to simultaneously plot the points and the line-of-best-fit for the log-log data. (2 points)"
   ]
  },
  {
   "cell_type": "code",
   "execution_count": 14,
   "metadata": {},
   "outputs": [
    {
     "data": {
      "text/html": [
       "<div>\n",
       "<style scoped>\n",
       "    .dataframe tbody tr th:only-of-type {\n",
       "        vertical-align: middle;\n",
       "    }\n",
       "\n",
       "    .dataframe tbody tr th {\n",
       "        vertical-align: top;\n",
       "    }\n",
       "\n",
       "    .dataframe thead th {\n",
       "        text-align: right;\n",
       "    }\n",
       "</style>\n",
       "<table border=\"1\" class=\"dataframe\">\n",
       "  <thead>\n",
       "    <tr style=\"text-align: right;\">\n",
       "      <th></th>\n",
       "      <th></th>\n",
       "      <th>num_items</th>\n",
       "      <th>total_value</th>\n",
       "      <th>num_unique</th>\n",
       "      <th>log_num_items</th>\n",
       "      <th>log_total_value</th>\n",
       "    </tr>\n",
       "    <tr>\n",
       "      <th>transaction_time</th>\n",
       "      <th>customer_id</th>\n",
       "      <th></th>\n",
       "      <th></th>\n",
       "      <th></th>\n",
       "      <th></th>\n",
       "      <th></th>\n",
       "    </tr>\n",
       "  </thead>\n",
       "  <tbody>\n",
       "    <tr>\n",
       "      <th rowspan=\"5\" valign=\"top\">2000-11-01 00:00:00</th>\n",
       "      <th>45957</th>\n",
       "      <td>1</td>\n",
       "      <td>133</td>\n",
       "      <td>1</td>\n",
       "      <td>0.000000</td>\n",
       "      <td>4.890349</td>\n",
       "    </tr>\n",
       "    <tr>\n",
       "      <th>164252</th>\n",
       "      <td>1</td>\n",
       "      <td>89</td>\n",
       "      <td>1</td>\n",
       "      <td>0.000000</td>\n",
       "      <td>4.488636</td>\n",
       "    </tr>\n",
       "    <tr>\n",
       "      <th>217361</th>\n",
       "      <td>1</td>\n",
       "      <td>65</td>\n",
       "      <td>1</td>\n",
       "      <td>0.000000</td>\n",
       "      <td>4.174387</td>\n",
       "    </tr>\n",
       "    <tr>\n",
       "      <th>916264</th>\n",
       "      <td>2</td>\n",
       "      <td>96</td>\n",
       "      <td>1</td>\n",
       "      <td>0.693147</td>\n",
       "      <td>4.564348</td>\n",
       "    </tr>\n",
       "    <tr>\n",
       "      <th>955188</th>\n",
       "      <td>2</td>\n",
       "      <td>96</td>\n",
       "      <td>1</td>\n",
       "      <td>0.693147</td>\n",
       "      <td>4.564348</td>\n",
       "    </tr>\n",
       "  </tbody>\n",
       "</table>\n",
       "</div>"
      ],
      "text/plain": [
       "                                 num_items  total_value  num_unique  \\\n",
       "transaction_time    customer_id                                       \n",
       "2000-11-01 00:00:00 45957                1          133           1   \n",
       "                    164252               1           89           1   \n",
       "                    217361               1           65           1   \n",
       "                    916264               2           96           1   \n",
       "                    955188               2           96           1   \n",
       "\n",
       "                                 log_num_items  log_total_value  \n",
       "transaction_time    customer_id                                  \n",
       "2000-11-01 00:00:00 45957             0.000000         4.890349  \n",
       "                    164252            0.000000         4.488636  \n",
       "                    217361            0.000000         4.174387  \n",
       "                    916264            0.693147         4.564348  \n",
       "                    955188            0.693147         4.564348  "
      ]
     },
     "execution_count": 14,
     "metadata": {},
     "output_type": "execute_result"
    }
   ],
   "source": [
    "carts['log_num_items'] = np.log(carts['num_items'])\n",
    "carts['log_total_value'] = np.log(carts['total_value'])\n",
    "carts.head()"
   ]
  },
  {
   "cell_type": "code",
   "execution_count": 15,
   "metadata": {},
   "outputs": [
    {
     "data": {
      "image/png": "[encoded data removed]",
      "text/plain": [
       "<Figure size 360x360 with 1 Axes>"
      ]
     },
     "metadata": {
      "needs_background": "light"
     },
     "output_type": "display_data"
    }
   ],
   "source": [
    "combPlt1 = sns.lmplot('log_num_items', 'log_total_value', data=carts)\n",
    "# plot output 1 point"
   ]
  },
  {
   "cell_type": "raw",
   "metadata": {},
   "source": [
    "What kind relationship between \"num_items\" and \"total_value\" you can see from the seaborn's lmplot? (2 points) - "
   ]
  },
  {
   "cell_type": "markdown",
   "metadata": {},
   "source": [
    "# Self-Directed EDA\n",
    "This last two questions are intentionally more open-ended and will be graded on the completeness of the plot(s) produced and the insights you gain from them. Be sure to consider NECESSARY transformations, subsets, correlations, reference markers, and lines/curves-of-best-fit to reveal the relationship that you are wanting to learn more about. Also be sure to make plots that are appropriate for the variable types. For completeness, be explicit about any assumptions you make in your analysis."
   ]
  },
  {
   "cell_type": "markdown",
   "metadata": {},
   "source": [
    "# Question 2 (14 points)\n",
    "Make a visualization of and interpret the age distribution of the shoppers. (10 points)"
   ]
  },
  {
   "cell_type": "code",
   "execution_count": 16,
   "metadata": {},
   "outputs": [
    {
     "data": {
      "text/html": [
       "<div>\n",
       "<style scoped>\n",
       "    .dataframe tbody tr th:only-of-type {\n",
       "        vertical-align: middle;\n",
       "    }\n",
       "\n",
       "    .dataframe tbody tr th {\n",
       "        vertical-align: top;\n",
       "    }\n",
       "\n",
       "    .dataframe thead th {\n",
       "        text-align: right;\n",
       "    }\n",
       "</style>\n",
       "<table border=\"1\" class=\"dataframe\">\n",
       "  <thead>\n",
       "    <tr style=\"text-align: right;\">\n",
       "      <th></th>\n",
       "      <th>count</th>\n",
       "    </tr>\n",
       "    <tr>\n",
       "      <th>age_range</th>\n",
       "      <th></th>\n",
       "    </tr>\n",
       "  </thead>\n",
       "  <tbody>\n",
       "    <tr>\n",
       "      <th>0-25</th>\n",
       "      <td>181</td>\n",
       "    </tr>\n",
       "    <tr>\n",
       "      <th>25-29</th>\n",
       "      <td>415</td>\n",
       "    </tr>\n",
       "    <tr>\n",
       "      <th>30-34</th>\n",
       "      <td>812</td>\n",
       "    </tr>\n",
       "    <tr>\n",
       "      <th>35-39</th>\n",
       "      <td>1015</td>\n",
       "    </tr>\n",
       "    <tr>\n",
       "      <th>40-44</th>\n",
       "      <td>866</td>\n",
       "    </tr>\n",
       "  </tbody>\n",
       "</table>\n",
       "</div>"
      ],
      "text/plain": [
       "           count\n",
       "age_range       \n",
       "0-25         181\n",
       "25-29        415\n",
       "30-34        812\n",
       "35-39       1015\n",
       "40-44        866"
      ]
     },
     "execution_count": 16,
     "metadata": {},
     "output_type": "execute_result"
    }
   ],
   "source": [
    "age_dist = tafeng_full.groupby('age_range')['customer_id'].nunique()\n",
    "age_dist = age_dist.to_frame()\n",
    "age_dist.rename(columns = {'customer_id':'count'}, inplace=True)\n",
    "age_dist.head()"
   ]
  },
  {
   "cell_type": "code",
   "execution_count": 17,
   "metadata": {},
   "outputs": [
    {
     "data": {
      "image/png": "[encoded data removed]",
      "text/plain": [
       "<Figure size 432x288 with 1 Axes>"
      ]
     },
     "metadata": {
      "needs_background": "light"
     },
     "output_type": "display_data"
    }
   ],
   "source": [
    "agePlt = age_dist.plot.bar(y='count')\n",
    "\n",
    "#replace ... with your code and an output plot deserves 1 point"
   ]
  },
  {
   "cell_type": "code",
   "execution_count": 18,
   "metadata": {},
   "outputs": [],
   "source": [
    "from scipy.stats import norm"
   ]
  },
  {
   "cell_type": "code",
   "execution_count": 19,
   "metadata": {},
   "outputs": [
    {
     "name": "stdout",
     "output_type": "stream",
     "text": [
      "460.5\n",
      "319.1818447217824\n"
     ]
    }
   ],
   "source": [
    "mu, std = norm.fit(age_dist)\n",
    "print(mu)\n",
    "print(std)"
   ]
  },
  {
   "cell_type": "code",
   "execution_count": 20,
   "metadata": {},
   "outputs": [],
   "source": [
    "from scipy.stats import shapiro"
   ]
  },
  {
   "cell_type": "code",
   "execution_count": 21,
   "metadata": {},
   "outputs": [
    {
     "name": "stdout",
     "output_type": "stream",
     "text": [
      "0.8766065835952759\n",
      "0.11926467716693878\n"
     ]
    }
   ],
   "source": [
    "stat, p = shapiro(age_dist)\n",
    "print(stat)\n",
    "print(p)"
   ]
  },
  {
   "cell_type": "code",
   "execution_count": 22,
   "metadata": {},
   "outputs": [],
   "source": [
    "from scipy.stats import normaltest"
   ]
  },
  {
   "cell_type": "code",
   "execution_count": 23,
   "metadata": {},
   "outputs": [
    {
     "name": "stdout",
     "output_type": "stream",
     "text": [
      "[2.09831461]\n",
      "[0.35023276]\n"
     ]
    },
    {
     "name": "stderr",
     "output_type": "stream",
     "text": [
      "/home/jamster/anaconda3/lib/python3.7/site-packages/scipy/stats/stats.py:1416: UserWarning: kurtosistest only valid for n>=20 ... continuing anyway, n=10\n",
      "  \"anyway, n=%i\" % int(n))\n"
     ]
    }
   ],
   "source": [
    "stat, p = normaltest(age_dist)\n",
    "print(stat)\n",
    "print(p)"
   ]
  },
  {
   "cell_type": "raw",
   "metadata": {},
   "source": [
    "Your observations? (3 points) - "
   ]
  },
  {
   "cell_type": "markdown",
   "metadata": {},
   "source": [
    "# Question 3 (26 points)\n",
    "Make a visualization of and interpret the relationship between amount spent on a shopping trip and the customer's age. (20 points)"
   ]
  },
  {
   "cell_type": "code",
   "execution_count": 24,
   "metadata": {},
   "outputs": [
    {
     "data": {
      "text/plain": [
       "Ellipsis"
      ]
     },
     "execution_count": 24,
     "metadata": {},
     "output_type": "execute_result"
    }
   ],
   "source": [
    "... #replace ... with your code and an output plot deserves 1 point"
   ]
  },
  {
   "cell_type": "raw",
   "metadata": {},
   "source": [
    "Your observations? (5 points) - "
   ]
  },
  {
   "cell_type": "raw",
   "metadata": {},
   "source": [
    "Additonal comments (e.g., I discussed with XXX, I borrowed from XXX)? "
   ]
  }
 ],
 "metadata": {
  "kernelspec": {
   "display_name": "Python 3",
   "language": "python",
   "name": "python3"
  },
  "language_info": {
   "codemirror_mode": {
    "name": "ipython",
    "version": 3
   },
   "file_extension": ".py",
   "mimetype": "text/x-python",
   "name": "python",
   "nbconvert_exporter": "python",
   "pygments_lexer": "ipython3",
   "version": "3.7.3"
  }
 },
 "nbformat": 4,
 "nbformat_minor": 2
}
