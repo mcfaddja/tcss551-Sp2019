{
 "cells": [
  {
   "cell_type": "markdown",
   "metadata": {},
   "source": [
    "## Assignment 1 - Scratch Work\n",
    "Jonathan McFadden\n",
    "\n",
    "\n",
    "## Problem 1\n",
    "\n",
    "### Problem 1A - Scratch"
   ]
  },
  {
   "cell_type": "code",
   "execution_count": 2,
   "metadata": {},
   "outputs": [],
   "source": [
    "n = 6"
   ]
  },
  {
   "cell_type": "code",
   "execution_count": 3,
   "metadata": {},
   "outputs": [
    {
     "name": "stdout",
     "output_type": "stream",
     "text": [
      "[1, 2, 3, 4, 5, 6]\n"
     ]
    }
   ],
   "source": [
    "nums = list(range(1,(n+1)))\n",
    "print(nums)"
   ]
  },
  {
   "cell_type": "code",
   "execution_count": 8,
   "metadata": {},
   "outputs": [
    {
     "name": "stdout",
     "output_type": "stream",
     "text": [
      "6 5 4 3 2 1\n"
     ]
    }
   ],
   "source": [
    "numsStr = \"\"\n",
    "\n",
    "for i in range(n):\n",
    "    numsStr = numsStr + str(nums[n-i-1]) + \" \"\n",
    "\n",
    "\n",
    "numsStr = numsStr[:-1]\n",
    "    \n",
    "print(numsStr)"
   ]
  },
  {
   "cell_type": "markdown",
   "metadata": {},
   "source": [
    "### Problem 1B - Scratch"
   ]
  },
  {
   "cell_type": "code",
   "execution_count": 16,
   "metadata": {},
   "outputs": [
    {
     "name": "stdout",
     "output_type": "stream",
     "text": [
      "0.3907146958597071\n",
      "-822\n"
     ]
    }
   ],
   "source": [
    "import random\n",
    "\n",
    "randDec = random.random()\n",
    "print(randDec)\n",
    "\n",
    "randInt = random.randint(-10000,10000)\n",
    "print(randInt)"
   ]
  },
  {
   "cell_type": "markdown",
   "metadata": {},
   "source": [
    "#### List generator work"
   ]
  },
  {
   "cell_type": "code",
   "execution_count": 17,
   "metadata": {},
   "outputs": [],
   "source": [
    "import random\n",
    "\n",
    "def rand_num(a, b, decYESno):\n",
    "    randInt = 0\n",
    "    if a > b:\n",
    "        randInt = random.randint(b, a)\n",
    "    else:\n",
    "        randInt = random.randint(a, b)\n",
    "        \n",
    "    rand = randInt\n",
    "    if decYESno == 1:\n",
    "        randDec = random.random()\n",
    "        rand = randInt + randDec\n",
    "        \n",
    "    return rand\n",
    "    \n",
    "def rand_list(a, b, n, decYESno):\n",
    "    randList = []\n",
    "    for i in range(n):\n",
    "        randList.append(rand_num(a, b, decYESno))\n",
    "        \n",
    "    return randList"
   ]
  },
  {
   "cell_type": "markdown",
   "metadata": {},
   "source": [
    "Test the list generator"
   ]
  },
  {
   "cell_type": "code",
   "execution_count": 41,
   "metadata": {},
   "outputs": [
    {
     "name": "stdout",
     "output_type": "stream",
     "text": [
      "[40, 489, -396, -429, -793, 299, -504, -440]\n"
     ]
    }
   ],
   "source": [
    "testList = rand_list(-1000, 1000, 8, 0)\n",
    "print(testList)"
   ]
  },
  {
   "cell_type": "markdown",
   "metadata": {},
   "source": [
    "#### Median finder work"
   ]
  },
  {
   "cell_type": "code",
   "execution_count": 42,
   "metadata": {},
   "outputs": [
    {
     "name": "stdout",
     "output_type": "stream",
     "text": [
      "[-793, -504, -440, -429, -396, 40, 299, 489]\n"
     ]
    }
   ],
   "source": [
    "sortedList = sorted(testList)\n",
    "print(sortedList)"
   ]
  },
  {
   "cell_type": "code",
   "execution_count": 43,
   "metadata": {},
   "outputs": [],
   "source": [
    "import math\n",
    "\n",
    "def median(number_list):\n",
    "    numElem = len(number_list)\n",
    "    \n",
    "    sorted_list = sorted(number_list)\n",
    "    \n",
    "    theMedian = 0\n",
    "    if numElem % 2 == 1:\n",
    "        theInd = math.floor(numElem / 2)\n",
    "        theMedian = sorted_list[theInd]\n",
    "    else:\n",
    "        tmp = int(numElem / 2)\n",
    "        tmp0 = sorted_list[tmp]\n",
    "        tmp1 = sorted_list[tmp - 1]\n",
    "        \n",
    "        theMedian = (tmp0 + tmp1) / 2\n",
    "        \n",
    "    return theMedian"
   ]
  },
  {
   "cell_type": "code",
   "execution_count": 44,
   "metadata": {},
   "outputs": [
    {
     "data": {
      "text/plain": [
       "-412.5"
      ]
     },
     "execution_count": 44,
     "metadata": {},
     "output_type": "execute_result"
    }
   ],
   "source": [
    "median(sortedList)"
   ]
  },
  {
   "cell_type": "markdown",
   "metadata": {},
   "source": [
    "## Problem 2"
   ]
  },
  {
   "cell_type": "code",
   "execution_count": null,
   "metadata": {},
   "outputs": [],
   "source": []
  }
 ],
 "metadata": {
  "kernelspec": {
   "display_name": "Python 3",
   "language": "python",
   "name": "python3"
  },
  "language_info": {
   "codemirror_mode": {
    "name": "ipython",
    "version": 3
   },
   "file_extension": ".py",
   "mimetype": "text/x-python",
   "name": "python",
   "nbconvert_exporter": "python",
   "pygments_lexer": "ipython3",
   "version": "3.7.1"
  }
 },
 "nbformat": 4,
 "nbformat_minor": 2
}
