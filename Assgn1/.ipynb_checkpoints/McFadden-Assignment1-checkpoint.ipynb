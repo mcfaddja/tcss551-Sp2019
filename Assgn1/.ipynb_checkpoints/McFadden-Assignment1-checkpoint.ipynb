{
 "cells": [
  {
   "cell_type": "raw",
   "metadata": {},
   "source": [
    "Your full name? (1 point) - Jonathan McFadden"
   ]
  },
  {
   "cell_type": "markdown",
   "metadata": {},
   "source": [
    "# 1. Simple Python Coding (10 points)"
   ]
  },
  {
   "cell_type": "raw",
   "metadata": {},
   "source": [
    "Write a function nums_reversed that takes in an integer n and returns a string containing the numbers 1 through n including n in reverse order, separated by spaces. For example:\n",
    "\n",
    "nums_reversed(5)\n",
    "\n",
    "'5 4 3 2 1'"
   ]
  },
  {
   "cell_type": "code",
   "execution_count": 2,
   "metadata": {},
   "outputs": [],
   "source": [
    "def nums_reversed(n):\n",
    "    nums = list(range(1, (n+1)))\n",
    "    \n",
    "    numsStr = \"\"\n",
    "    \n",
    "    for i in range(n):\n",
    "        numsStr = numsStr + str(nums[n-i-1]) + \" \"\n",
    "\n",
    "    numsStr = numsStr[:-1]\n",
    "    \n",
    "    return numsStr"
   ]
  },
  {
   "cell_type": "code",
   "execution_count": 3,
   "metadata": {},
   "outputs": [
    {
     "data": {
      "text/plain": [
       "'10 9 8 7 6 5 4 3 2 1'"
      ]
     },
     "execution_count": 3,
     "metadata": {},
     "output_type": "execute_result"
    }
   ],
   "source": [
    "nums_reversed(10)"
   ]
  },
  {
   "cell_type": "raw",
   "metadata": {},
   "source": [
    "Write a function median that takes in a list of numbers and returns the median element of the list. If the list has even length, it returns the mean of the two elements in the middle.\n",
    "\n",
    ">> median([5, 4, 3, 2, 1])\n",
    "3\n",
    ">> median([ 40, 30, 10, 20 ])\n",
    "25"
   ]
  },
  {
   "cell_type": "code",
   "execution_count": null,
   "metadata": {},
   "outputs": [],
   "source": [
    "def median(number_list):\n",
    "    # write your code here"
   ]
  },
  {
   "cell_type": "markdown",
   "metadata": {},
   "source": [
    "# 2. A Data Analysis Example (13 points)"
   ]
  },
  {
   "cell_type": "markdown",
   "metadata": {},
   "source": [
    "You need to go through the example in \"Data Acquisition and Cleaning\" of https://www.textbook.ds100.org/ch/01/lifecycle_students_1.html (until the plot before \"What's in a Name\") using provided \"fake_roster.csv\".\n",
    "\n",
    "You have to install the \"pandas\" package for data loading and the visualization package \"seaborn\" for plotting. You also need to install \"numpy\".\n",
    "Use \"pip install pandas\", \"pip install seaborn\", and \"pip install numpy\" in the vitural environment.\n",
    "\n",
    "You need to put \"fake_roster.csv\" and this notebook in the same folder\n",
    "\n",
    "You need to output corresponding results as the example for \"fake_roster.csv\""
   ]
  },
  {
   "cell_type": "code",
   "execution_count": null,
   "metadata": {},
   "outputs": [],
   "source": []
  },
  {
   "cell_type": "raw",
   "metadata": {},
   "source": [
    "Additonal comments (e.g., I discussed with XXX, I borrowed from XXX or your general comment about this assignment)? (No points)"
   ]
  }
 ],
 "metadata": {
  "kernelspec": {
   "display_name": "Python 3",
   "language": "python",
   "name": "python3"
  },
  "language_info": {
   "codemirror_mode": {
    "name": "ipython",
    "version": 3
   },
   "file_extension": ".py",
   "mimetype": "text/x-python",
   "name": "python",
   "nbconvert_exporter": "python",
   "pygments_lexer": "ipython3",
   "version": "3.7.1"
  }
 },
 "nbformat": 4,
 "nbformat_minor": 2
}
